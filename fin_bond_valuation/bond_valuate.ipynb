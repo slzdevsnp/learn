{
 "cells": [
  {
   "cell_type": "markdown",
   "metadata": {},
   "source": [
    "# Bond Valuation and Analysis in R\n",
    "\n",
    "* Chapter 1: Bond Valuation\n",
    "* Chapter 2: Estimating Yield to Maturity\n",
    "* Chapter 3: Duration and Convexity\n",
    "* Chapter 4: Comprehensive Example"
   ]
  },
  {
   "cell_type": "markdown",
   "metadata": {},
   "source": [
    "## Chap Introduction and Plain Vanilla Bond Valuation\n",
    "\n",
    "### Examples \n",
    "\n",
    "Examples will be based on bonds with yearly coupons with a fixed maturity, not callable bonds\n",
    "\n",
    "\n",
    "### Defnitions\n",
    "**par value**  is bond's face value\n",
    "\n",
    "**coupon**  is bond's interest rate payable periodically\n",
    "\n",
    "**maturity** date  is a date when a bon'ds par value is payed back to inverstor\n",
    "\n",
    "##### Time value of Value (TVM)\n",
    "FV = PV*(1+r) FV Future Value, PV Present Value, r interest rate\n",
    "\n",
    "###### interest compounding\n",
    "fv = pv * (1+r1)*(1+r2)\n",
    "\n",
    "##### getting a present value from a future value\n",
    "$$PV_0 = \\frac{FV_i}{\\prod_1^i (1+r_i)}$$\n",
    "\n",
    "#### coupon's payments serie\n",
    "$$V = \\sum_{t=1}^{T-1} \\frac{C_t}{(1+y)^t} $$ \n",
    "\n",
    "where $C_t$ is a coupon payed at $t$ th period, $y$ is a yield\n",
    "\n",
    "### value of coupons and maturity  serie\n",
    "$$V = \\sum_{t=1}^{T-1} \\frac{C_t}{(1+y)^t}  + \\frac{C_T + P}{(1+y)^T}  $$\n",
    "\n",
    "where P is a principal repayment\n",
    "\n",
    "\n"
   ]
  },
  {
   "cell_type": "code",
   "execution_count": 33,
   "metadata": {
    "collapsed": false,
    "scrolled": true
   },
   "outputs": [
    {
     "data": {
      "text/html": [
       "\"bond value with par=100$,coupon=5$, yearly yieled y=6%: 95.7876362144343\""
      ],
      "text/latex": [
       "\"bond value with par=100\\$,coupon=5\\$, yearly yieled y=6\\%: 95.7876362144343\""
      ],
      "text/markdown": [
       "\"bond value with par=100$,coupon=5$, yearly yieled y=6%: 95.7876362144343\""
      ],
      "text/plain": [
       "[1] \"bond value with par=100$,coupon=5$, yearly yieled y=6%: 95.7876362144343\""
      ]
     },
     "metadata": {},
     "output_type": "display_data"
    },
    {
     "data": {
      "image/png": "[encoded data removed]",
      "text/plain": [
       "plot without title"
      ]
     },
     "metadata": {
      "image/svg+xml": {
       "isolated": true
      }
     },
     "output_type": "display_data"
    }
   ],
   "source": [
    "require(ggplot2)\n",
    "## convert your code into a bond valuation function\n",
    "\n",
    "# Create function\n",
    "bondprc <- function(p, r, ttm, y) {\n",
    "  cf <- c(rep(p * r, ttm - 1), p * (1 + r))\n",
    "  cf <- data.frame(cf)\n",
    "  cf$t <- as.numeric(rownames(cf))\n",
    "  cf$pv_factor <- 1 / (1 + y)^cf$t\n",
    "  cf$pv <- cf$cf * cf$pv_factor\n",
    "  sum(cf$pv)\n",
    "}\n",
    "# Verify prior result\n",
    "paste('bond value with par=100$,coupon=5$, yearly yieled y=6%:'\n",
    "      , bondprc(p=100, r=0.05, ttm=5, y=0.06))\n",
    "\n",
    "\n",
    "# lets investigate a relation between a changing market yield and \n",
    "# and a bond price with a fixed coupon\n",
    "rvalue<-0.09\n",
    "ylds<-seq(0.001,0.99,length=300)\n",
    "bp<-rep(NA,length(ylds))\n",
    "#compute bond price for different yields in a loop\n",
    "for( i in 1:length(bp)) {\n",
    "    bp[i] <- bondprc(p=100, r=rvalue, ttm=5, y=ylds[i])\n",
    "}\n",
    "##plot the bond price as a function of yield\n",
    "df<-data.frame(ylds,bp)\n",
    "ggplot(df, aes(x=df$ylds, y=df$bp)) + geom_line() + \n",
    "geom_vline(xintercept = rvalue) +\n",
    "labs(x=\"yield [%]\", y='bond value with par=100$, coupon=5$ [$]') +\n",
    "ggtitle(\"bond price/YTM relationship (vertical line=coupon rate)\")\n"
   ]
  },
  {
   "cell_type": "markdown",
   "metadata": {},
   "source": [
    "## Credit Ratings\n",
    "\n",
    "#### The lower the rating the higher the bond yield (coupon), the higher is a risk of a bond (credit risk = probability of default of  a bond's issuer ) \n",
    "\n",
    "* **Investment grade** [AAA - BBB]\n",
    "* **High Yield (junk bonds** [BB - CCC, lower ]\n",
    "\n",
    "!NB Many institutions choose to invest only in Investment grade bonds\n",
    "\n",
    "* Use yields of bonds with the same credit rating \n",
    "* if we want to value a BAA rated bonds, we get the data from **Quandl** R package"
   ]
  },
  {
   "cell_type": "code",
   "execution_count": 32,
   "metadata": {
    "collapsed": false
   },
   "outputs": [
    {
     "data": {
      "text/html": [
       "\"baa_yield as of 2016-09-30: 0.0429\""
      ],
      "text/latex": [
       "\"baa\\_yield as of 2016-09-30: 0.0429\""
      ],
      "text/markdown": [
       "\"baa_yield as of 2016-09-30: 0.0429\""
      ],
      "text/plain": [
       "[1] \"baa_yield as of 2016-09-30: 0.0429\""
      ]
     },
     "metadata": {},
     "output_type": "display_data"
    },
    {
     "data": {
      "text/html": [
       "\"value of baa bond with coupon at 5%: 103.135207912681\""
      ],
      "text/latex": [
       "\"value of baa bond with coupon at 5\\%: 103.135207912681\""
      ],
      "text/markdown": [
       "\"value of baa bond with coupon at 5%: 103.135207912681\""
      ],
      "text/plain": [
       "[1] \"value of baa bond with coupon at 5%: 103.135207912681\""
      ]
     },
     "metadata": {},
     "output_type": "display_data"
    }
   ],
   "source": [
    "## Value the 5% bond using the Baa yield you found\n",
    "library(Quandl)\n",
    "baa<-Quandl(\"MOODY/DBAAYLD\")\n",
    "# Identify 9/30/16 yield\n",
    "baa_yield <- subset(baa, baa$DATE == \"2016-09-30\")\n",
    "# Convert yield to decimals and view\n",
    "baa_yield <- baa_yield$VALUE * 0.01 # 4.29%\n",
    "\n",
    "paste('baa_yield as of 2016-09-30:', baa_yield)\n",
    "paste('value of baa bond with coupon at 5%:'\n",
    "      ,bondprc(p = 100, r = 0.05, ttm = 5, y = 0.0429))\n"
   ]
  },
  {
   "cell_type": "markdown",
   "metadata": {},
   "source": [
    "## Baseline Component of Yield\n",
    "#### Risk-free yield (baseline rate has zero risk of default)\n",
    "\n",
    "* Yield on recently issued US Treasury with similar maturity\n",
    "* Risk-free yield is not constant\n",
    "    * Affected by economy, market interest rates and inflation\n",
    "\n",
    "##### can be obtained from the Treasury data database\n",
    "\n",
    "\n",
    "\n"
   ]
  },
  {
   "cell_type": "code",
   "execution_count": 34,
   "metadata": {
    "collapsed": false,
    "scrolled": true
   },
   "outputs": [
    {
     "name": "stderr",
     "output_type": "stream",
     "text": [
      "Warning message:\n",
      ": package 'quantmod' was built under R version 3.3.2Loading required package: TTR\n",
      "Warning message:\n",
      ": package 'TTR' was built under R version 3.3.2Version 0.4-0 included new data defaults. See ?getSymbols.\n",
      "    As of 0.4-0, 'getSymbols' uses env=parent.frame() and\n",
      " auto.assign=TRUE by default.\n",
      "\n",
      " This  behavior  will be  phased out in 0.5-0  when the call  will\n",
      " default to use auto.assign=FALSE. getOption(\"getSymbols.env\") and \n",
      " getOptions(\"getSymbols.auto.assign\") are now checked for alternate defaults\n",
      "\n",
      " This message is shown once per session and may be disabled by setting \n",
      " options(\"getSymbols.warning4.0\"=FALSE). See ?getSymbols for more details.\n"
     ]
    },
    {
     "data": {
      "text/plain": [
       "           DGS10\n",
       "1962-01-02  4.06\n",
       "1962-01-03  4.03\n",
       "1962-01-04  3.99\n",
       "1962-01-05  4.02\n",
       "1962-01-08  4.03\n",
       "1962-01-09  4.05"
      ]
     },
     "metadata": {},
     "output_type": "display_data"
    }
   ],
   "source": [
    "##obtaining 10 year ttm treasury t10 bill serie\n",
    "library(quantmod)\n",
    "\n",
    "t10yr <- getSymbols(\"DGS10\", src=\"FRED\", auto.assign = FALSE)\n",
    "head(t10yr)"
   ]
  },
  {
   "cell_type": "code",
   "execution_count": null,
   "metadata": {
    "collapsed": true
   },
   "outputs": [],
   "source": []
  }
 ],
 "metadata": {
  "kernelspec": {
   "display_name": "R",
   "language": "R",
   "name": "ir"
  },
  "language_info": {
   "codemirror_mode": "r",
   "file_extension": ".r",
   "mimetype": "text/x-r-source",
   "name": "R",
   "pygments_lexer": "r",
   "version": "3.3.0"
  }
 },
 "nbformat": 4,
 "nbformat_minor": 0
}

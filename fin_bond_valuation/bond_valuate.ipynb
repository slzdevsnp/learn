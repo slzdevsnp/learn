{
 "cells": [
  {
   "cell_type": "markdown",
   "metadata": {},
   "source": [
    "# Bond Valuation and Analysis in R\n",
    "\n",
    "* Chapter 1: Bond Valuation\n",
    "* Chapter 2: Estimating Yield to Maturity\n",
    "* Chapter 3: Duration and Convexity\n",
    "* Chapter 4: Comprehensive Example"
   ]
  },
  {
   "cell_type": "markdown",
   "metadata": {},
   "source": [
    "## Chap Introduction and Plain Vanilla Bond Valuation\n",
    "\n",
    "### Examples \n",
    "\n",
    "Examples will be based on bonds with yearly coupons with a fixed maturity, not callable bonds\n",
    "\n",
    "\n",
    "### Defnitions\n",
    "**par value**  is bond's face value\n",
    "\n",
    "**coupon**  is bond's interest rate payable periodically\n",
    "\n",
    "**maturity** date  is a date when a bon'ds par value is payed back to inverstor\n",
    "\n",
    "##### Time value of Value (TVM)\n",
    "FV = PV*(1+r) FV Future Value, PV Present Value, r interest rate\n",
    "\n",
    "###### interest compounding\n",
    "fv = pv * (1+r1)*(1+r2)\n",
    "\n",
    "##### getting a present value from a future value\n",
    "$$PV_0 = \\frac{FV_i}{\\prod_1^i (1+r_i)}$$\n",
    "\n",
    "#### coupon's payments serie\n",
    "$$V = \\sum_{t=1}^{T-1} \\frac{C_t}{(1+y)^t} $$ \n",
    "\n",
    "where $C_t$ is a coupon payed at $t$ th period\n",
    "\n",
    "### value of coupons and maturity  serie\n",
    "$$V = \\sum_{t=1}^{T-1} \\frac{C_t}{(1+y)^t}  + \\frac{C_T + P}{(1+y)^T}  $$\n",
    "\n",
    "where P is a principal repayment\n",
    "\n",
    "\n"
   ]
  }
 ],
 "metadata": {
  "kernelspec": {
   "display_name": "R",
   "language": "R",
   "name": "ir"
  },
  "language_info": {
   "codemirror_mode": "r",
   "file_extension": ".r",
   "mimetype": "text/x-r-source",
   "name": "R",
   "pygments_lexer": "r",
   "version": "3.3.0"
  }
 },
 "nbformat": 4,
 "nbformat_minor": 0
}

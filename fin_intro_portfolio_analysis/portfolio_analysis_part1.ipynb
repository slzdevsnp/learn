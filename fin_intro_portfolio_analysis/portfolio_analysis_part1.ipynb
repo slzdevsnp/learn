{
 "cells": [
  {
   "cell_type": "markdown",
   "metadata": {},
   "source": [
    "# Portfolio Basics\n",
    "\n",
    "## Course overview\n",
    "* ch1 Porfolio weights and returns\n",
    "* ch2 Portfolio performance evaluation\n",
    "* ch3 Drivers of Performance\n",
    "* ch4 Portofolio Optimization\n",
    "\n",
    "## To avoid large losses\n",
    "* carefully select deversified portfolios\n",
    "* backtest portfolio strategy\n",
    "* constant monitoring of portfolio performance"
   ]
  },
  {
   "cell_type": "code",
   "execution_count": 15,
   "metadata": {
    "collapsed": false
   },
   "outputs": [],
   "source": [
    "require(quantmod)"
   ]
  },
  {
   "cell_type": "code",
   "execution_count": 16,
   "metadata": {
    "collapsed": false
   },
   "outputs": [
    {
     "data": {
      "text/html": [
       "<ol class=list-inline>\n",
       "\t<li>\"PEP\"</li>\n",
       "\t<li>\"KO\"</li>\n",
       "</ol>\n"
      ],
      "text/latex": [
       "\\begin{enumerate*}\n",
       "\\item \"PEP\"\n",
       "\\item \"KO\"\n",
       "\\end{enumerate*}\n"
      ],
      "text/markdown": [
       "1. \"PEP\"\n",
       "2. \"KO\"\n",
       "\n",
       "\n"
      ],
      "text/plain": [
       "[1] \"PEP\" \"KO\" "
      ]
     },
     "metadata": {},
     "output_type": "display_data"
    },
    {
     "data": {
      "image/png": "[encoded data removed]",
      "text/plain": [
       "Plot with title \"\""
      ]
     },
     "metadata": {
      "image/svg+xml": {
       "isolated": true
      }
     },
     "output_type": "display_data"
    }
   ],
   "source": [
    "##first example show how two companies (pepsico and coca-kola) selling similar products\n",
    "# can have a evolving relative value\n",
    "ticker<-new.env()\n",
    "getSymbols(c('PEP','KO'), env=ticker, src=\"yahoo\", from=as.Date(\"2003-01-02\") )\n",
    "ko<-Ad(ticker$KO)  # adjusted value\n",
    "ko<-ko/as.numeric(ko[1]) #normalize by first element\n",
    "pep<-Ad(ticker$PEP)\n",
    "pep<-pep/as.numeric(pep[1])\n",
    "ko_pep <-ko/pep #ratio of two tickers\n",
    "plot.zoo(ko_pep)\n",
    "abline(h=1)"
   ]
  },
  {
   "cell_type": "markdown",
   "metadata": {},
   "source": [
    "## Portfolio weights\n",
    "For N investments $V_1,..V_N$ the i_th weight $w_i = \\frac{V_i}{\\sum_i^N V_i}$\n",
    "\n",
    "### analyzing values of portfolio weights reveal the investment bets"
   ]
  },
  {
   "cell_type": "code",
   "execution_count": 17,
   "metadata": {
    "collapsed": false
   },
   "outputs": [
    {
     "name": "stdout",
     "output_type": "stream",
     "text": [
      "   Equities       Bonds Commodities \n",
      "        0.4         0.4         0.2 \n"
     ]
    }
   ],
   "source": [
    "#simple R to compute weights given amounts for each asset class \n",
    "# Define the vector values\n",
    "values <- c(4000,4000,2000)\n",
    "names(values) <- c(\"Equities\", \"Bonds\", \"Commodities\")\n",
    "# Define the vector weights\n",
    "weights <- values/sum(values)\n",
    "\n",
    "# Print the resulting weights Sum of weights always yields to 1\n",
    "print(weights)\n"
   ]
  },
  {
   "cell_type": "markdown",
   "metadata": {},
   "source": [
    "![title](alloc_strat.png)"
   ]
  },
  {
   "cell_type": "code",
   "execution_count": 18,
   "metadata": {
    "collapsed": false
   },
   "outputs": [
    {
     "data": {
      "text/plain": [
       "    Min.  1st Qu.   Median     Mean  3rd Qu.     Max. \n",
       "0.001442 0.003389 0.018030 0.100000 0.115400 0.576900 "
      ]
     },
     "metadata": {},
     "output_type": "display_data"
    },
    {
     "data": {
      "image/png": "[encoded data removed]",
      "text/plain": [
       "Plot with title \"market capitalization weighted portfolio weights\""
      ]
     },
     "metadata": {
      "image/svg+xml": {
       "isolated": true
      }
     },
     "output_type": "display_data"
    }
   ],
   "source": [
    "#a simple example of market capitalization weighted portfolio\n",
    "#using 10 market capitalisations in millions USD\n",
    "# Define marketcaps\n",
    "marketcaps<-c(5, 8, 9, 20, 25, 100, 100, 500, 700, 2000) \n",
    "  \n",
    "# Compute the weights\n",
    "weights <- marketcaps/sum(marketcaps)\n",
    "  \n",
    "# Inspect summary statistics\n",
    "summary(weights)\n",
    "  \n",
    "# Create a barplot of weights\n",
    "  barplot(weights,main=\"market capitalization weighted portfolio weights\" , xlab=\"weights\")\n",
    "# the bigget weigth comes for a biggest marketcap"
   ]
  },
  {
   "cell_type": "markdown",
   "metadata": {},
   "source": [
    "# Porfolio Returns\n",
    "### return is a relative change  in value\n",
    "$$ R = \\frac{EMV-BMV}{BMV} $$\n",
    "### 3 steps\n",
    "* initial portfolio value = sum of N investments at initial date\n",
    "* final portfolio value = sum of N investment values at final date\n",
    "* $$  R=\\frac{finalValue - initialValue}{initialValue} $$\n"
   ]
  },
  {
   "cell_type": "markdown",
   "metadata": {},
   "source": [
    "![title](ex_2assets_ret_1.png)"
   ]
  },
  {
   "cell_type": "markdown",
   "metadata": {},
   "source": [
    "# Portfolio return also\n",
    "$$PortfolioReturn = w_1 R_1 + w_2 R_2+..+w_n R_n$$\n",
    "where  \n",
    "$$w_i=\\frac{Asset_i}{\\sum_i^N Asset_i}$$\n",
    "and \n",
    "$$ R_i =\\frac{EMV(Asset_i)-BMV(Asset_i)}{BMV(Asset_i)}$$"
   ]
  },
  {
   "cell_type": "code",
   "execution_count": 19,
   "metadata": {
    "collapsed": false
   },
   "outputs": [
    {
     "name": "stdout",
     "output_type": "stream",
     "text": [
      "[1] 0.4 0.6\n",
      "[1] -0.1  0.1\n",
      "[1] 0.02\n"
     ]
    }
   ],
   "source": [
    "## so the previous example using the sum of weighted returns formula\n",
    "bmv<-c(200,300)\n",
    "emv<-c(180,330)\n",
    "wgh<-bmv/sum(bmv)\n",
    "ret<-(emv-bmv)/bmv\n",
    "print(wgh) #weights\n",
    "print(ret) #2 asset individual returns\n",
    "r_prtf <- sum(wgh*ret) #portfolio return\n",
    "print(r_prtf)"
   ]
  },
  {
   "cell_type": "code",
   "execution_count": 20,
   "metadata": {
    "collapsed": false
   },
   "outputs": [
    {
     "data": {
      "text/html": [
       "1045"
      ],
      "text/latex": [
       "1045"
      ],
      "text/markdown": [
       "1045"
      ],
      "text/plain": [
       "[1] 1045"
      ]
     },
     "metadata": {},
     "output_type": "display_data"
    }
   ],
   "source": [
    "#first chain-link example\n",
    "#first period you make 10%  but second period you loose 5% \n",
    "#Q what is the final value of $1000 invested ?\n",
    "\n",
    "1000*(1+0.1)*(1-0.05)"
   ]
  },
  {
   "cell_type": "markdown",
   "metadata": {},
   "source": [
    "### Q. after a loss of 50% in 1 period what should be a return in the next period to pare a loss?"
   ]
  },
  {
   "cell_type": "code",
   "execution_count": 21,
   "metadata": {
    "collapsed": true
   },
   "outputs": [],
   "source": [
    "#(1-0.5)*(1+x) = 1\n",
    "#1+x-0.5-0.5x=1\n",
    "#0.5x=0.5\n",
    "#x=1\n",
    "## i.e. you need a 100% return to erase a previous 50% loss "
   ]
  },
  {
   "cell_type": "markdown",
   "metadata": {},
   "source": [
    "## The practioner's challenge\n",
    "* in practice, time series of portfolio returns\n",
    "* longer history means more info on portfolio available\n",
    "\n",
    "### use PerformanceAnalytics Package\n",
    "\n",
    "### Dynamics of Porfolio Weights  2 approaches\n",
    "* Set initial weights  and do not intervene\n",
    "* actively change portfolio weights. (**Rebalancing**)\n",
    "\n"
   ]
  },
  {
   "cell_type": "code",
   "execution_count": 22,
   "metadata": {
    "collapsed": false
   },
   "outputs": [
    {
     "data": {
      "text/html": [
       "<ol class=list-inline>\n",
       "\t<li>\"AAPL\"</li>\n",
       "\t<li>\"MSFT\"</li>\n",
       "</ol>\n"
      ],
      "text/latex": [
       "\\begin{enumerate*}\n",
       "\\item \"AAPL\"\n",
       "\\item \"MSFT\"\n",
       "\\end{enumerate*}\n"
      ],
      "text/markdown": [
       "1. \"AAPL\"\n",
       "2. \"MSFT\"\n",
       "\n",
       "\n"
      ],
      "text/plain": [
       "[1] \"AAPL\" \"MSFT\""
      ]
     },
     "metadata": {},
     "output_type": "display_data"
    },
    {
     "data": {
      "text/plain": [
       "           AAPL.Adjusted MSFT.Adjusted\n",
       "2006-01-04   0.002943074  0.0048435111\n",
       "2006-01-05  -0.007869759  0.0007415454"
      ]
     },
     "metadata": {},
     "output_type": "display_data"
    }
   ],
   "source": [
    "#first usage of PortfolioAnalytics Return.Calculate\n",
    "require(PerformanceAnalytics)\n",
    "#ticker env is present\n",
    "getSymbols(c('AAPL','MSFT'), env=ticker, src=\"yahoo\", from=as.Date(\"2006-01-01\"),to=as.Date(\"2016-08-31\"))\n",
    "prices<-cbind(Ad(ticker$AAPL), Ad(ticker$MSFT))\n",
    "returns<-Return.calculate(prices)\n",
    "returns<-returns[-1,] #remove first NA line\n",
    "#print head of returns\n",
    "head(returns,2)"
   ]
  },
  {
   "cell_type": "code",
   "execution_count": 23,
   "metadata": {
    "collapsed": false
   },
   "outputs": [
    {
     "data": {
      "image/png": "[encoded data removed]",
      "text/plain": [
       "Plot with title \"\""
      ]
     },
     "metadata": {
      "image/svg+xml": {
       "isolated": true
      }
     },
     "output_type": "display_data"
    }
   ],
   "source": [
    "##first usage of Return.portfolio\n",
    "#create equal weights for 2-asset portfolio\n",
    "eq_weights <- c(0.5, 0.5)\n",
    "# Create a portfolio using buy and hold (weights fixed, no rebalancing)\n",
    "pf_bh <- Return.portfolio(R =returns, weights =eq_weights)\n",
    "# Create a portfolio rebalancing monthly \n",
    "pf_rebal <- Return.portfolio(R=returns, weights=eq_weights,rebalance_on=\"months\")\n",
    "# Plot the time-series of daily returns\n",
    "par(mfrow = c(2, 1), mar = c(2, 4, 2, 2))\n",
    "plot.zoo(pf_bh)\n",
    "plot.zoo(pf_rebal)"
   ]
  },
  {
   "cell_type": "code",
   "execution_count": 24,
   "metadata": {
    "collapsed": false
   },
   "outputs": [
    {
     "data": {
      "text/plain": [
       "           AAPL.Adjusted\n",
       "2016-08-30     0.7968525\n",
       "2016-08-31     0.7982086"
      ]
     },
     "metadata": {},
     "output_type": "display_data"
    },
    {
     "data": {
      "text/plain": [
       "           AAPL.Adjusted\n",
       "2016-08-30     0.4987742\n",
       "2016-08-31     0.5008739"
      ]
     },
     "metadata": {},
     "output_type": "display_data"
    },
    {
     "data": {
      "image/png": "[encoded data removed]",
      "text/plain": [
       "Plot with title \"\""
      ]
     },
     "metadata": {
      "image/svg+xml": {
       "isolated": true
      }
     },
     "output_type": "display_data"
    }
   ],
   "source": [
    "#getting portfolio returns as well as bop, eop weights\n",
    "pf_bh <- Return.portfolio(R =returns, weights =eq_weights, verbose=TRUE)\n",
    "pf_rebal <- Return.portfolio(R=returns, weights=eq_weights,rebalance_on=\"months\",verbose=TRUE)\n",
    "## see apple eop period weighgs for buy&hold and rebalanced portfolio\n",
    "tail(pf_bh$EOP.Weight$AAPL.Adjusted,2)\n",
    "tail(pf_rebal$EOP.Weight$AAPL.Adjusted,2)\n",
    "##plot these end of period weights\n",
    "par(mfrow = c(2, 1), mar=c(2, 4, 2, 2))\n",
    "plot.zoo(pf_bh$EOP.Weight[,1])\n",
    "#as we can see rebalanced weight oscilates around 0.5 and b&h  grows higher because AAPL relatively outperforms MSFT\n",
    "plot.zoo(pf_rebal$EOP.Weight[,1])"
   ]
  },
  {
   "cell_type": "markdown",
   "metadata": {},
   "source": [
    "## Dimensions of portfolio performance\n",
    "### risk \n",
    "### reward\n",
    "\n",
    "#### Portfolio mean return\n",
    "#### Portfolio volatility\n",
    "**assume a sample of T portfolio return observation**\n",
    "$$ R_1,R_2,\\dots,R_T$$\n",
    "\n",
    "* **Arithmetic** mean return\n",
    "$$ \\hat{\\mu} = \\frac{R_1+R_2+..+R_T}{T}$$\n",
    "\n",
    "Returns can deviate from average return **De-meaned return** $R_i-\\hat{\\mu}$\n",
    "\n",
    "* Variance of the portfolio\n",
    "$$ \\hat{\\sigma}^2= \\frac{\\sum_{j=1}^T (R_j-\\hat{\\mu})^2}{T-1}$$\n",
    "* **volatility** of portfolio is a square root of its variance\n"
   ]
  },
  {
   "cell_type": "markdown",
   "metadata": {},
   "source": [
    "### Arithmetic return mean vs geometric return mean\n",
    "* Arithmetic mean return does not reflect  non zero contribution of +r followed by -r\n",
    "* **Geometric** mean\n",
    "$$ \\hat{R} = \\left[(1+R_1)*..*(1+R_T)\\right]^{\\frac{1}{T}} - 1 $$\n",
    "e.g \n",
    "$$ [(1+0.5)*(1-0.5)]^{\\frac{1}{2}} -1 \\neq 0 = -0.134 $$\n"
   ]
  },
  {
   "cell_type": "code",
   "execution_count": 27,
   "metadata": {
    "collapsed": true
   },
   "outputs": [],
   "source": [
    "## example with sp500 returns"
   ]
  }
 ],
 "metadata": {
  "kernelspec": {
   "display_name": "R",
   "language": "R",
   "name": "ir"
  },
  "language_info": {
   "codemirror_mode": "r",
   "file_extension": ".r",
   "mimetype": "text/x-r-source",
   "name": "R",
   "pygments_lexer": "r",
   "version": "3.3.0"
  }
 },
 "nbformat": 4,
 "nbformat_minor": 0
}

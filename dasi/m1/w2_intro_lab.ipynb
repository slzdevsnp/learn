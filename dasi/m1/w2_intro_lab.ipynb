{
 "cells": [
  {
   "cell_type": "code",
   "execution_count": 1,
   "metadata": {
    "collapsed": false
   },
   "outputs": [
    {
     "name": "stderr",
     "output_type": "stream",
     "text": [
      "Warning message:\n",
      ": package 'dplyr' was built under R version 3.3.1\n",
      "Attaching package: 'dplyr'\n",
      "\n",
      "The following objects are masked from 'package:stats':\n",
      "\n",
      "    filter, lag\n",
      "\n",
      "The following objects are masked from 'package:base':\n",
      "\n",
      "    intersect, setdiff, setequal, union\n",
      "\n",
      "Warning message:\n",
      ": package 'ggplot2' was built under R version 3.3.1"
     ]
    }
   ],
   "source": [
    "library(statsr)\n",
    "library(dplyr)\n",
    "library(ggplot2)"
   ]
  },
  {
   "cell_type": "code",
   "execution_count": 2,
   "metadata": {
    "collapsed": false
   },
   "outputs": [
    {
     "name": "stdout",
     "output_type": "stream",
     "text": [
      "Classes 'tbl_df' and 'data.frame':\t32735 obs. of  16 variables:\n",
      " $ year     : int  2013 2013 2013 2013 2013 2013 2013 2013 2013 2013 ...\n",
      " $ month    : int  6 5 12 5 7 1 12 8 9 4 ...\n",
      " $ day      : int  30 7 8 14 21 1 9 13 26 30 ...\n",
      " $ dep_time : int  940 1657 859 1841 1102 1817 1259 1920 725 1323 ...\n",
      " $ dep_delay: num  15 -3 -1 -4 -3 -3 14 85 -10 62 ...\n",
      " $ arr_time : int  1216 2104 1238 2122 1230 2008 1617 2032 1027 1549 ...\n",
      " $ arr_delay: num  -4 10 11 -34 -8 3 22 71 -8 60 ...\n",
      " $ carrier  : chr  \"VX\" \"DL\" \"DL\" \"DL\" ...\n",
      " $ tailnum  : chr  \"N626VA\" \"N3760C\" \"N712TW\" \"N914DL\" ...\n",
      " $ flight   : int  407 329 422 2391 3652 353 1428 1407 2279 4162 ...\n",
      " $ origin   : chr  \"JFK\" \"JFK\" \"JFK\" \"JFK\" ...\n",
      " $ dest     : chr  \"LAX\" \"SJU\" \"LAX\" \"TPA\" ...\n",
      " $ air_time : num  313 216 376 135 50 138 240 48 148 110 ...\n",
      " $ distance : num  2475 1598 2475 1005 296 ...\n",
      " $ hour     : num  9 16 8 18 11 18 12 19 7 13 ...\n",
      " $ minute   : num  40 57 59 41 2 17 59 20 25 23 ...\n"
     ]
    },
    {
     "data": {
      "text/html": [
       "<ol class=list-inline>\n",
       "\t<li>\"year\"</li>\n",
       "\t<li>\"month\"</li>\n",
       "\t<li>\"day\"</li>\n",
       "\t<li>\"dep_time\"</li>\n",
       "\t<li>\"dep_delay\"</li>\n",
       "\t<li>\"arr_time\"</li>\n",
       "\t<li>\"arr_delay\"</li>\n",
       "\t<li>\"carrier\"</li>\n",
       "\t<li>\"tailnum\"</li>\n",
       "\t<li>\"flight\"</li>\n",
       "\t<li>\"origin\"</li>\n",
       "\t<li>\"dest\"</li>\n",
       "\t<li>\"air_time\"</li>\n",
       "\t<li>\"distance\"</li>\n",
       "\t<li>\"hour\"</li>\n",
       "\t<li>\"minute\"</li>\n",
       "</ol>\n"
      ],
      "text/latex": [
       "\\begin{enumerate*}\n",
       "\\item \"year\"\n",
       "\\item \"month\"\n",
       "\\item \"day\"\n",
       "\\item \"dep\\_time\"\n",
       "\\item \"dep\\_delay\"\n",
       "\\item \"arr\\_time\"\n",
       "\\item \"arr\\_delay\"\n",
       "\\item \"carrier\"\n",
       "\\item \"tailnum\"\n",
       "\\item \"flight\"\n",
       "\\item \"origin\"\n",
       "\\item \"dest\"\n",
       "\\item \"air\\_time\"\n",
       "\\item \"distance\"\n",
       "\\item \"hour\"\n",
       "\\item \"minute\"\n",
       "\\end{enumerate*}\n"
      ],
      "text/markdown": [
       "1. \"year\"\n",
       "2. \"month\"\n",
       "3. \"day\"\n",
       "4. \"dep_time\"\n",
       "5. \"dep_delay\"\n",
       "6. \"arr_time\"\n",
       "7. \"arr_delay\"\n",
       "8. \"carrier\"\n",
       "9. \"tailnum\"\n",
       "10. \"flight\"\n",
       "11. \"origin\"\n",
       "12. \"dest\"\n",
       "13. \"air_time\"\n",
       "14. \"distance\"\n",
       "15. \"hour\"\n",
       "16. \"minute\"\n",
       "\n",
       "\n"
      ],
      "text/plain": [
       " [1] \"year\"      \"month\"     \"day\"       \"dep_time\"  \"dep_delay\" \"arr_time\" \n",
       " [7] \"arr_delay\" \"carrier\"   \"tailnum\"   \"flight\"    \"origin\"    \"dest\"     \n",
       "[13] \"air_time\"  \"distance\"  \"hour\"      \"minute\"   "
      ]
     },
     "metadata": {},
     "output_type": "display_data"
    }
   ],
   "source": [
    "#load data on nyc plane flights and their delays\n",
    "data(nycflights)\n",
    "str(nycflights)\n",
    "names(nycflights)"
   ]
  },
  {
   "cell_type": "code",
   "execution_count": 3,
   "metadata": {
    "collapsed": true
   },
   "outputs": [],
   "source": [
    "## filtering with dplyr (multiple criteria)\n",
    "sfo_feb_flights <- nycflights %>%\n",
    "  filter(dest == \"SFO\", month == 2) "
   ]
  },
  {
   "cell_type": "code",
   "execution_count": 5,
   "metadata": {
    "collapsed": false
   },
   "outputs": [
    {
     "data": {
      "text/html": [
       "68"
      ],
      "text/latex": [
       "68"
      ],
      "text/markdown": [
       "68"
      ],
      "text/plain": [
       "[1] 68"
      ]
     },
     "metadata": {},
     "output_type": "display_data"
    }
   ],
   "source": [
    "#qz q1 how many sfo flighrts in this df\n",
    "nrow(sfo_feb_flights)"
   ]
  },
  {
   "cell_type": "code",
   "execution_count": 15,
   "metadata": {
    "collapsed": false,
    "scrolled": true
   },
   "outputs": [
    {
     "name": "stderr",
     "output_type": "stream",
     "text": [
      "`stat_bin()` using `bins = 30`. Pick better value with `binwidth`.\n"
     ]
    },
    {
     "data": {
      "image/png": "[encoded data removed]",
      "text/plain": [
       "plot without title"
      ]
     },
     "metadata": {
      "image/svg+xml": {
       "isolated": true
      }
     },
     "output_type": "display_data"
    }
   ],
   "source": [
    "#hist for arrival delays\n",
    "ggplot(data = sfo_feb_flights, aes(x = arr_delay)) +\n",
    "  geom_histogram()\n"
   ]
  },
  {
   "cell_type": "code",
   "execution_count": 16,
   "metadata": {
    "collapsed": false
   },
   "outputs": [
    {
     "data": {
      "text/html": [
       "<table>\n",
       "<thead><tr><th></th><th scope=col>mean_ad</th><th scope=col>sd_dd</th><th scope=col>n</th></tr></thead>\n",
       "<tbody>\n",
       "\t<tr><th scope=row>1</th><td>-4.50000</td><td>36.28062</td><td>68.00000</td></tr>\n",
       "</tbody>\n",
       "</table>\n"
      ],
      "text/latex": [
       "\\begin{tabular}{r|lll}\n",
       "  & mean\\_ad & sd\\_dd & n\\\\\n",
       "\\hline\n",
       "\t1 & -4.50000 & 36.28062 & 68.00000\\\\\n",
       "\\end{tabular}\n"
      ],
      "text/plain": [
       "  mean_ad    sd_dd  n\n",
       "1    -4.5 36.28062 68"
      ]
     },
     "metadata": {},
     "output_type": "display_data"
    }
   ],
   "source": [
    "#summary stats\n",
    "sfo_feb_flights %>%\n",
    "  summarise(mean_ad = mean(arr_delay), sd_dd = sd(arr_delay), n = n())"
   ]
  },
  {
   "cell_type": "markdown",
   "metadata": {},
   "source": [
    "#### qz q2  false: No flight is delayed more than 2 hours."
   ]
  },
  {
   "cell_type": "code",
   "execution_count": 8,
   "metadata": {
    "collapsed": false
   },
   "outputs": [
    {
     "data": {
      "text/html": [
       "<table>\n",
       "<thead><tr><th></th><th scope=col>carrier</th><th scope=col>arr_med</th><th scope=col>arr_iqr</th></tr></thead>\n",
       "<tbody>\n",
       "\t<tr><th scope=row>1</th><td>AA  </td><td>5   </td><td>17.5</td></tr>\n",
       "\t<tr><th scope=row>2</th><td>B6   </td><td>-10.5</td><td>12.25</td></tr>\n",
       "\t<tr><th scope=row>3</th><td>DL </td><td>-15</td><td>22 </td></tr>\n",
       "\t<tr><th scope=row>4</th><td>UA </td><td>-10</td><td>22 </td></tr>\n",
       "\t<tr><th scope=row>5</th><td>VX   </td><td>-22.5</td><td>21.25</td></tr>\n",
       "</tbody>\n",
       "</table>\n"
      ],
      "text/latex": [
       "\\begin{tabular}{r|lll}\n",
       "  & carrier & arr\\_med & arr\\_iqr\\\\\n",
       "\\hline\n",
       "\t1 & AA   & 5    & 17.5\\\\\n",
       "\t2 & B6    & -10.5 & 12.25\\\\\n",
       "\t3 & DL  & -15 & 22 \\\\\n",
       "\t4 & UA  & -10 & 22 \\\\\n",
       "\t5 & VX    & -22.5 & 21.25\\\\\n",
       "\\end{tabular}\n"
      ],
      "text/plain": [
       "  carrier arr_med arr_iqr\n",
       "1      AA     5.0   17.50\n",
       "2      B6   -10.5   12.25\n",
       "3      DL   -15.0   22.00\n",
       "4      UA   -10.0   22.00\n",
       "5      VX   -22.5   21.25"
      ]
     },
     "metadata": {},
     "output_type": "display_data"
    }
   ],
   "source": [
    "sfo_feb_flights %>%\n",
    "group_by(carrier) %>%\n",
    "summarise(arr_med=median(arr_delay), arr_iqr=IQR(arr_delay))"
   ]
  },
  {
   "cell_type": "markdown",
   "metadata": {},
   "source": [
    "#### qz q3 Which carrier is the has the hights IQR of arrival delays?  DL and UA"
   ]
  },
  {
   "cell_type": "code",
   "execution_count": 10,
   "metadata": {
    "collapsed": false
   },
   "outputs": [
    {
     "data": {
      "text/html": [
       "<table>\n",
       "<thead><tr><th></th><th scope=col>month</th><th scope=col>mean_dd</th></tr></thead>\n",
       "<tbody>\n",
       "\t<tr><th scope=row>1</th><td> 7.00000</td><td>20.75456</td></tr>\n",
       "\t<tr><th scope=row>2</th><td> 6.00000</td><td>20.35029</td></tr>\n",
       "\t<tr><th scope=row>3</th><td>12.00000</td><td>17.36819</td></tr>\n",
       "\t<tr><th scope=row>4</th><td> 4.00000</td><td>14.55448</td></tr>\n",
       "\t<tr><th scope=row>5</th><td> 3.0000</td><td>13.5176</td></tr>\n",
       "\t<tr><th scope=row>6</th><td> 5.0000</td><td>13.2648</td></tr>\n",
       "\t<tr><th scope=row>7</th><td> 8.0000</td><td>12.6191</td></tr>\n",
       "\t<tr><th scope=row>8</th><td> 2.00000</td><td>10.68723</td></tr>\n",
       "\t<tr><th scope=row>9</th><td> 1.00000</td><td>10.23333</td></tr>\n",
       "\t<tr><th scope=row>10</th><td>9.000000</td><td>6.872436</td></tr>\n",
       "\t<tr><th scope=row>11</th><td>11.000000</td><td> 6.103183</td></tr>\n",
       "\t<tr><th scope=row>12</th><td>10.000000</td><td> 5.880374</td></tr>\n",
       "</tbody>\n",
       "</table>\n"
      ],
      "text/latex": [
       "\\begin{tabular}{r|ll}\n",
       "  & month & mean\\_dd\\\\\n",
       "\\hline\n",
       "\t1 &  7.00000 & 20.75456\\\\\n",
       "\t2 &  6.00000 & 20.35029\\\\\n",
       "\t3 & 12.00000 & 17.36819\\\\\n",
       "\t4 &  4.00000 & 14.55448\\\\\n",
       "\t5 &  3.0000 & 13.5176\\\\\n",
       "\t6 &  5.0000 & 13.2648\\\\\n",
       "\t7 &  8.0000 & 12.6191\\\\\n",
       "\t8 &  2.00000 & 10.68723\\\\\n",
       "\t9 &  1.00000 & 10.23333\\\\\n",
       "\t10 & 9.000000 & 6.872436\\\\\n",
       "\t11 & 11.000000 &  6.103183\\\\\n",
       "\t12 & 10.000000 &  5.880374\\\\\n",
       "\\end{tabular}\n"
      ],
      "text/plain": [
       "   month   mean_dd\n",
       "1      7 20.754559\n",
       "2      6 20.350293\n",
       "3     12 17.368189\n",
       "4      4 14.554477\n",
       "5      3 13.517602\n",
       "6      5 13.264800\n",
       "7      8 12.619097\n",
       "8      2 10.687227\n",
       "9      1 10.233333\n",
       "10     9  6.872436\n",
       "11    11  6.103183\n",
       "12    10  5.880374"
      ]
     },
     "metadata": {},
     "output_type": "display_data"
    }
   ],
   "source": [
    "#which month would you expect to have the highest\n",
    "# average delay departing from an NYC airport?\n",
    "nycflights %>%\n",
    "  group_by(month) %>%\n",
    "  summarise(mean_dd = mean(dep_delay)) %>%\n",
    "  arrange(desc(mean_dd))"
   ]
  },
  {
   "cell_type": "markdown",
   "metadata": {},
   "source": [
    "##### qz q4  longeset delay in July"
   ]
  },
  {
   "cell_type": "code",
   "execution_count": 12,
   "metadata": {
    "collapsed": false
   },
   "outputs": [
    {
     "data": {
      "text/html": [
       "<table>\n",
       "<thead><tr><th></th><th scope=col>month</th><th scope=col>med_dd</th></tr></thead>\n",
       "<tbody>\n",
       "\t<tr><th scope=row>1</th><td>12</td><td> 1</td></tr>\n",
       "\t<tr><th scope=row>2</th><td>6</td><td>0</td></tr>\n",
       "\t<tr><th scope=row>3</th><td>7</td><td>0</td></tr>\n",
       "\t<tr><th scope=row>4</th><td> 3</td><td>-1</td></tr>\n",
       "\t<tr><th scope=row>5</th><td> 5</td><td>-1</td></tr>\n",
       "\t<tr><th scope=row>6</th><td> 8</td><td>-1</td></tr>\n",
       "\t<tr><th scope=row>7</th><td> 1</td><td>-2</td></tr>\n",
       "\t<tr><th scope=row>8</th><td> 2</td><td>-2</td></tr>\n",
       "\t<tr><th scope=row>9</th><td> 4</td><td>-2</td></tr>\n",
       "\t<tr><th scope=row>10</th><td>11</td><td>-2</td></tr>\n",
       "\t<tr><th scope=row>11</th><td> 9</td><td>-3</td></tr>\n",
       "\t<tr><th scope=row>12</th><td>10</td><td>-3</td></tr>\n",
       "</tbody>\n",
       "</table>\n"
      ],
      "text/latex": [
       "\\begin{tabular}{r|ll}\n",
       "  & month & med\\_dd\\\\\n",
       "\\hline\n",
       "\t1 & 12 &  1\\\\\n",
       "\t2 & 6 & 0\\\\\n",
       "\t3 & 7 & 0\\\\\n",
       "\t4 &  3 & -1\\\\\n",
       "\t5 &  5 & -1\\\\\n",
       "\t6 &  8 & -1\\\\\n",
       "\t7 &  1 & -2\\\\\n",
       "\t8 &  2 & -2\\\\\n",
       "\t9 &  4 & -2\\\\\n",
       "\t10 & 11 & -2\\\\\n",
       "\t11 &  9 & -3\\\\\n",
       "\t12 & 10 & -3\\\\\n",
       "\\end{tabular}\n"
      ],
      "text/plain": [
       "   month med_dd\n",
       "1     12      1\n",
       "2      6      0\n",
       "3      7      0\n",
       "4      3     -1\n",
       "5      5     -1\n",
       "6      8     -1\n",
       "7      1     -2\n",
       "8      2     -2\n",
       "9      4     -2\n",
       "10    11     -2\n",
       "11     9     -3\n",
       "12    10     -3"
      ]
     },
     "metadata": {},
     "output_type": "display_data"
    }
   ],
   "source": [
    "  nycflights %>%\n",
    "  group_by(month) %>%\n",
    "  summarise(med_dd = median(dep_delay)) %>%\n",
    "  arrange(desc(med_dd))"
   ]
  },
  {
   "cell_type": "markdown",
   "metadata": {},
   "source": [
    "#### qz q5 Which month has the highest median departure delay from an NYC airport?  December"
   ]
  },
  {
   "cell_type": "markdown",
   "metadata": {},
   "source": [
    "#### qz q6  which measure is more realiable? Median would be more reliable as the distribution of delays is skewed."
   ]
  },
  {
   "cell_type": "code",
   "execution_count": 19,
   "metadata": {
    "collapsed": false,
    "scrolled": false
   },
   "outputs": [
    {
     "data": {
      "image/png": "[encoded data removed]",
      "text/plain": [
       "plot without title"
      ]
     },
     "metadata": {
      "image/svg+xml": {
       "isolated": true
      }
     },
     "output_type": "display_data"
    }
   ],
   "source": [
    "#visualize the distributions of departure delays across months using side-by-side box plots:\n",
    "  ggplot(nycflights, aes(x = factor(month), y = dep_delay)) +\n",
    "  geom_boxplot()"
   ]
  },
  {
   "cell_type": "code",
   "execution_count": null,
   "metadata": {
    "collapsed": true
   },
   "outputs": [],
   "source": []
  }
 ],
 "metadata": {
  "kernelspec": {
   "display_name": "R",
   "language": "R",
   "name": "ir"
  },
  "language_info": {
   "codemirror_mode": "r",
   "file_extension": ".r",
   "mimetype": "text/x-r-source",
   "name": "R",
   "pygments_lexer": "r",
   "version": "3.3.0"
  }
 },
 "nbformat": 4,
 "nbformat_minor": 0
}

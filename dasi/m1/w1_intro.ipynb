{
 "cells": [
  {
   "cell_type": "code",
   "execution_count": 1,
   "metadata": {
    "collapsed": false
   },
   "outputs": [
    {
     "data": {
      "text/html": [
       "<ol class=list-inline>\n",
       "\t<li>\"C:/Users/zimine/Documents/R/win-library/3.3\"</li>\n",
       "\t<li>\"C:/Users/zimine/Anaconda2/envs/py35/R/library\"</li>\n",
       "</ol>\n"
      ],
      "text/latex": [
       "\\begin{enumerate*}\n",
       "\\item \"C:/Users/zimine/Documents/R/win-library/3.3\"\n",
       "\\item \"C:/Users/zimine/Anaconda2/envs/py35/R/library\"\n",
       "\\end{enumerate*}\n"
      ],
      "text/markdown": [
       "1. \"C:/Users/zimine/Documents/R/win-library/3.3\"\n",
       "2. \"C:/Users/zimine/Anaconda2/envs/py35/R/library\"\n",
       "\n",
       "\n"
      ],
      "text/plain": [
       "[1] \"C:/Users/zimine/Documents/R/win-library/3.3\"  \n",
       "[2] \"C:/Users/zimine/Anaconda2/envs/py35/R/library\""
      ]
     },
     "metadata": {},
     "output_type": "display_data"
    }
   ],
   "source": [
    ".libPaths()"
   ]
  },
  {
   "cell_type": "code",
   "execution_count": 2,
   "metadata": {
    "collapsed": false
   },
   "outputs": [
    {
     "name": "stderr",
     "output_type": "stream",
     "text": [
      "Warning message:\n",
      ": package 'dplyr' was built under R version 3.3.1\n",
      "Attaching package: 'dplyr'\n",
      "\n",
      "The following objects are masked from 'package:stats':\n",
      "\n",
      "    filter, lag\n",
      "\n",
      "The following objects are masked from 'package:base':\n",
      "\n",
      "    intersect, setdiff, setequal, union\n",
      "\n",
      "Warning message:\n",
      ": package 'ggplot2' was built under R version 3.3.1"
     ]
    }
   ],
   "source": [
    "library(statsr)\n",
    "library(dplyr)\n",
    "library(ggplot2)"
   ]
  },
  {
   "cell_type": "markdown",
   "metadata": {},
   "source": [
    "## dataset1  dr arbuthnot baptism records"
   ]
  },
  {
   "cell_type": "code",
   "execution_count": 3,
   "metadata": {
    "collapsed": false
   },
   "outputs": [],
   "source": [
    "data(arbuthnot)"
   ]
  },
  {
   "cell_type": "code",
   "execution_count": 4,
   "metadata": {
    "collapsed": false
   },
   "outputs": [
    {
     "name": "stdout",
     "output_type": "stream",
     "text": [
      "Classes 'tbl_df', 'tbl' and 'data.frame':\t82 obs. of  3 variables:\n",
      " $ year : int  1629 1630 1631 1632 1633 1634 1635 1636 1637 1638 ...\n",
      " $ boys : int  5218 4858 4422 4994 5158 5035 5106 4917 4703 5359 ...\n",
      " $ girls: int  4683 4457 4102 4590 4839 4820 4928 4605 4457 4952 ...\n"
     ]
    }
   ],
   "source": [
    "str(arbuthnot)"
   ]
  }
 ],
 "metadata": {
  "kernelspec": {
   "display_name": "R",
   "language": "R",
   "name": "ir"
  },
  "language_info": {
   "codemirror_mode": "r",
   "file_extension": ".r",
   "mimetype": "text/x-r-source",
   "name": "R",
   "pygments_lexer": "r",
   "version": "3.3.0"
  }
 },
 "nbformat": 4,
 "nbformat_minor": 0
}

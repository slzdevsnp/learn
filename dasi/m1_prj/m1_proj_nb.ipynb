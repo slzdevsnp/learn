{
 "cells": [
  {
   "cell_type": "code",
   "execution_count": 1,
   "metadata": {
    "collapsed": false
   },
   "outputs": [
    {
     "name": "stderr",
     "output_type": "stream",
     "text": [
      "Warning message:\n",
      ": package 'dplyr' was built under R version 3.3.1\n",
      "Attaching package: 'dplyr'\n",
      "\n",
      "The following objects are masked from 'package:stats':\n",
      "\n",
      "    filter, lag\n",
      "\n",
      "The following objects are masked from 'package:base':\n",
      "\n",
      "    intersect, setdiff, setequal, union\n",
      "\n",
      "Warning message:\n",
      ": package 'ggplot2' was built under R version 3.3.1Warning message:\n",
      ": package 'gridExtra' was built under R version 3.3.1\n",
      "Attaching package: 'gridExtra'\n",
      "\n",
      "The following object is masked from 'package:dplyr':\n",
      "\n",
      "    combine\n",
      "\n",
      "------------------------------------------------------------------------------\n",
      "data.table + dplyr code now lives in dtplyr.\n",
      "Please library(dtplyr)!\n",
      "------------------------------------------------------------------------------\n",
      "\n",
      "Attaching package: 'data.table'\n",
      "\n",
      "The following objects are masked from 'package:dplyr':\n",
      "\n",
      "    between, last\n",
      "\n"
     ]
    }
   ],
   "source": [
    "#packages\n",
    "library(statsr)\n",
    "library(dplyr)\n",
    "library(ggplot2)\n",
    "library(gridExtra)\n",
    "library(data.table)"
   ]
  },
  {
   "cell_type": "code",
   "execution_count": 2,
   "metadata": {
    "collapsed": true
   },
   "outputs": [],
   "source": [
    "#loading data\n",
    "load(\"brfss2013.Rdata\")"
   ]
  },
  {
   "cell_type": "markdown",
   "metadata": {},
   "source": [
    "## q1  is brfss2013  subject heights are normally distributed? \n",
    "\n",
    "* variable htm4"
   ]
  },
  {
   "cell_type": "code",
   "execution_count": 3,
   "metadata": {
    "collapsed": false
   },
   "outputs": [
    {
     "data": {
      "text/html": [
       "491775"
      ],
      "text/latex": [
       "491775"
      ],
      "text/markdown": [
       "491775"
      ],
      "text/plain": [
       "[1] 491775"
      ]
     },
     "metadata": {},
     "output_type": "display_data"
    },
    {
     "data": {
      "text/plain": [
       "   Min. 1st Qu.  Median    Mean 3rd Qu.    Max.    NA's \n",
       "    1.0   163.0   168.0   169.3   178.0  2469.0    7643 "
      ]
     },
     "metadata": {},
     "output_type": "display_data"
    }
   ],
   "source": [
    "#summary of the variable shows out of 491775 points there are 7643 NAs ( 1.5 %)\n",
    "nrow(brfss2013)\n",
    "summary(brfss2013$htm4)"
   ]
  },
  {
   "cell_type": "code",
   "execution_count": 4,
   "metadata": {
    "collapsed": true
   },
   "outputs": [],
   "source": [
    "#filter the data get rid of NAs + filter extreme values\n",
    "#borders 50 and 280 come from wikipedia from the list of shortest and tallest pbeople\n",
    "cbrfss2013<-brfss2013 %>% filter(!is.na(htm4) & htm4 > 50 & htm4 < 280)"
   ]
  },
  {
   "cell_type": "code",
   "execution_count": 5,
   "metadata": {
    "collapsed": false
   },
   "outputs": [
    {
     "data": {
      "text/plain": [
       "   Min. 1st Qu.  Median    Mean 3rd Qu.    Max. \n",
       "   91.0   163.0   168.0   169.3   178.0   236.0 "
      ]
     },
     "metadata": {},
     "output_type": "display_data"
    }
   ],
   "source": [
    "summary(cbrfss2013$htm4)"
   ]
  },
  {
   "cell_type": "code",
   "execution_count": 6,
   "metadata": {
    "collapsed": false
   },
   "outputs": [
    {
     "data": {
      "image/png": "[encoded data removed]",
      "text/plain": [
       "plot without title"
      ]
     },
     "metadata": {
      "image/svg+xml": {
       "isolated": true
      }
     },
     "output_type": "display_data"
    }
   ],
   "source": [
    "#plotting of histogram along with its mean and median we observe that the histogram is unimodal and appear to be symmetric\n",
    "print(\n",
    "ggplot(data = cbrfss2013,  aes(x = htm4)) +\n",
    "  geom_histogram(bins=30)\n",
    "  + ggtitle(\"BRFSS 2013 height of subjects\") \n",
    "  + labs(x=\"height [cm]\",y=\"number of subjects\") \n",
    "  + geom_vline(aes(xintercept=mean(cbrfss2013$htm4),color=\"Mean\"))\n",
    "  + geom_vline(aes(xintercept=median(cbrfss2013$htm4),color=\"Median\"))\n",
    ") \n",
    "\n"
   ]
  },
  {
   "cell_type": "code",
   "execution_count": 7,
   "metadata": {
    "collapsed": false
   },
   "outputs": [
    {
     "data": {
      "image/png": "[encoded data removed]",
      "text/plain": [
       "plot without title"
      ]
     },
     "metadata": {
      "image/svg+xml": {
       "isolated": true
      }
     },
     "output_type": "display_data"
    }
   ],
   "source": [
    "##check the symmetri of the distribution\n",
    "print(\n",
    "ggplot(data=cbrfss2013, aes(x=0, y=htm4))\n",
    "  + geom_boxplot() + coord_flip() \n",
    "  + ggtitle(\"BFRSS 2013 subject heights\") \n",
    " + labs(y=\"height [cm]\", x=\"\" ) \n",
    " + theme(axis.title.y=element_blank(), axis.ticks.y=element_blank(), axis.text.y=element_blank(), aspect.ratio=0.3 )\n",
    ")\n",
    "# we can observe a limited  lack of symmetrie of the median between first and 3rd quartile "
   ]
  },
  {
   "cell_type": "code",
   "execution_count": 8,
   "metadata": {
    "collapsed": false
   },
   "outputs": [],
   "source": [
    "## see 1sd, 2sd 3 sd percentages\n",
    "ssd<-sd(cbrfss2013$htm4)\n",
    "smu <-mean(cbrfss2013$htm4)"
   ]
  },
  {
   "cell_type": "code",
   "execution_count": 9,
   "metadata": {
    "collapsed": false
   },
   "outputs": [],
   "source": [
    "cbrfss2013 <- cbrfss2013 %>%\n",
    "mutate(in_1sd = ifelse(abs(htm4 -smu) < 1*ssd, 1, 0)\n",
    "      ,in_2sd = ifelse(abs(htm4 -smu) < 2*ssd, 1, 0)\n",
    "      ,in_3sd = ifelse(abs(htm4 -smu) < 3*ssd, 1, 0))"
   ]
  },
  {
   "cell_type": "code",
   "execution_count": 10,
   "metadata": {
    "collapsed": false
   },
   "outputs": [
    {
     "name": "stdout",
     "output_type": "stream",
     "text": [
      "[1] \"number and percentage of subjects having a height within 1 standard deviation from the mean\"\n"
     ]
    },
    {
     "data": {
      "text/html": [
       "<table>\n",
       "<thead><tr><th></th><th scope=col>count</th><th scope=col>pct</th></tr></thead>\n",
       "<tbody>\n",
       "\t<tr><th scope=row>1</th><td>3.08366e+05</td><td>6.36954e-01</td></tr>\n",
       "</tbody>\n",
       "</table>\n"
      ],
      "text/latex": [
       "\\begin{tabular}{r|ll}\n",
       "  & count & pct\\\\\n",
       "\\hline\n",
       "\t1 & 3.08366e+05 & 6.36954e-01\\\\\n",
       "\\end{tabular}\n"
      ],
      "text/plain": [
       "   count      pct\n",
       "1 308366 0.636954"
      ]
     },
     "metadata": {},
     "output_type": "display_data"
    },
    {
     "name": "stdout",
     "output_type": "stream",
     "text": [
      "[1] \"number and percentage of subjects having a height  within 2 standard deviation from the mean\"\n"
     ]
    },
    {
     "data": {
      "text/html": [
       "<table>\n",
       "<thead><tr><th></th><th scope=col>count</th><th scope=col>pct</th></tr></thead>\n",
       "<tbody>\n",
       "\t<tr><th scope=row>1</th><td>4.66406e+05</td><td>9.63398e-01</td></tr>\n",
       "</tbody>\n",
       "</table>\n"
      ],
      "text/latex": [
       "\\begin{tabular}{r|ll}\n",
       "  & count & pct\\\\\n",
       "\\hline\n",
       "\t1 & 4.66406e+05 & 9.63398e-01\\\\\n",
       "\\end{tabular}\n"
      ],
      "text/plain": [
       "   count      pct\n",
       "1 466406 0.963398"
      ]
     },
     "metadata": {},
     "output_type": "display_data"
    },
    {
     "name": "stdout",
     "output_type": "stream",
     "text": [
      "[1] \"number and percentage of subjects having a height  within 3 standard deviation from the mean\"\n"
     ]
    },
    {
     "data": {
      "text/html": [
       "<table>\n",
       "<thead><tr><th></th><th scope=col>count</th><th scope=col>pct</th></tr></thead>\n",
       "<tbody>\n",
       "\t<tr><th scope=row>1</th><td>4.82738e+05</td><td>9.97133e-01</td></tr>\n",
       "</tbody>\n",
       "</table>\n"
      ],
      "text/latex": [
       "\\begin{tabular}{r|ll}\n",
       "  & count & pct\\\\\n",
       "\\hline\n",
       "\t1 & 4.82738e+05 & 9.97133e-01\\\\\n",
       "\\end{tabular}\n"
      ],
      "text/plain": [
       "   count      pct\n",
       "1 482738 0.997133"
      ]
     },
     "metadata": {},
     "output_type": "display_data"
    }
   ],
   "source": [
    "#print the percenrages\n",
    "print('number and percentage of subjects having a height within 1 standard deviation from the mean')\n",
    "cbrfss2013 %>% filter(in_1sd ==1) %>% summarize(count=n(), pct=n()/nrow(cbrfss2013))\n",
    "print('number and percentage of subjects having a height  within 2 standard deviation from the mean')\n",
    "cbrfss2013 %>% filter(in_2sd ==1) %>% summarize(count=n(), pct=n()/nrow(cbrfss2013))\n",
    "print('number and percentage of subjects having a height  within 3 standard deviation from the mean')\n",
    "cbrfss2013 %>% filter(in_3sd ==1) %>% summarize(count=n(), pct=n()/nrow(cbrfss2013))"
   ]
  },
  {
   "cell_type": "code",
   "execution_count": 11,
   "metadata": {
    "collapsed": false
   },
   "outputs": [
    {
     "data": {
      "image/png": "[encoded data removed]",
      "text/plain": [
       "plot without title"
      ]
     },
     "metadata": {
      "image/svg+xml": {
       "isolated": true
      }
     },
     "output_type": "display_data"
    }
   ],
   "source": [
    "## normal probaility plot\n",
    "qqplot.qq <- function (vec, titlestr) # argument: vector of numbers\n",
    "{\n",
    "  # following four lines from base R's qqline()\n",
    "  y <- quantile(vec[!is.na(vec)], c(0.25, 0.75))\n",
    "  x <- qnorm(c(0.25, 0.75))\n",
    "  slope <- diff(y)/diff(x)\n",
    "  int <- y[1L] - slope * x[1L]\n",
    "\n",
    "  d <- data.frame(resids = vec)\n",
    "\n",
    "  ggplot(d, aes(sample = resids)) + stat_qq() + geom_abline(slope = slope, intercept = int) + ggtitle(titlestr)\n",
    "}\n",
    "\n",
    "#call the func\n",
    "qqplot.qq(cbrfss2013$htm4, 'Normal probability plot for BRFSS 2013 heights')\n",
    "# We can observe that in the interval between 2.5 standard deviations of theoretical quantiles\n",
    "# following the standard normal distribution N(0,1)  the sample data follows relatively closely the theoretical line\n",
    "#deviations  from the line  suggesst that heights data have larger tails (more rare events) than those  from a true normal distribution. "
   ]
  },
  {
   "cell_type": "markdown",
   "metadata": {},
   "source": [
    "## q1 we can deduce that subject heights only approximately follow the normal distribution"
   ]
  },
  {
   "cell_type": "markdown",
   "metadata": {},
   "source": [
    "### q2  Are college educated people in good health with lower income more likely to make an economic decision to  forgo a health insurance when compared to people with  pre-college education from the same income category ?"
   ]
  },
  {
   "cell_type": "code",
   "execution_count": 12,
   "metadata": {
    "collapsed": false
   },
   "outputs": [
    {
     "name": "stdout",
     "output_type": "stream",
     "text": [
      "'data.frame':\t491775 obs. of  5 variables:\n",
      " $ genhlth : Factor w/ 5 levels \"Excellent\",\"Very good\",..: 4 3 3 2 3 2 4 3 1 3 ...\n",
      " $ X_rfhlth: Factor w/ 2 levels \"Good or Better Health\",..: 2 1 1 1 1 1 2 1 1 1 ...\n",
      " $ X_educag: Factor w/ 4 levels \"Did not graduate high school\",..: 4 3 4 2 4 4 2 3 4 2 ...\n",
      " $ X_incomg: Factor w/ 5 levels \"Less than $15,000\",..: 5 5 5 5 4 5 NA 4 5 2 ...\n",
      " $ hlthpln1: Factor w/ 2 levels \"Yes\",\"No\": 1 1 1 1 1 1 1 1 1 1 ...\n"
     ]
    }
   ],
   "source": [
    "#0 select variables to work on\n",
    "#X_rfhlth: Adults with good or better health b,X_rfhlth,X_educag,X_incomg,hlthpln1)\n",
    "sel_brfss2013 <- brfss2013 %>% select (genhlth,X_rfhlth,X_educag,X_incomg,hlthpln1)\n",
    "str(sel_brfss2013)"
   ]
  },
  {
   "cell_type": "code",
   "execution_count": 13,
   "metadata": {
    "collapsed": true
   },
   "outputs": [],
   "source": [
    "sel_brfss2013 <- sel_brfss2013  %>%\n",
    "mutate(edu_cat = factor( ifelse( is.na(X_educag),NA\n",
    "\t\t\t\t\t\t\t\t,ifelse(X_educag %in% c(\"Attended college or technical school\"\n",
    "\t\t\t\t\t\t\t\t\t\t\t\t\t   ,\"Graduated from college or technical school\")\n",
    "\t\t\t\t\t\t\t\t\t\t,\"college education\",\"pre-college education\"))) )\n"
   ]
  },
  {
   "cell_type": "code",
   "execution_count": 14,
   "metadata": {
    "collapsed": false
   },
   "outputs": [
    {
     "data": {
      "image/png": "[encoded data removed]",
      "text/plain": [
       "plot without title"
      ]
     },
     "metadata": {
      "image/svg+xml": {
       "isolated": true
      }
     },
     "output_type": "display_data"
    }
   ],
   "source": [
    "#motivating eda chart\n",
    "#plot(sel_brfss2013$hlthpln1~sel_brfss2013$genhlth)\n",
    "\n",
    "sel_brfss2013$health_condition<-sel_brfss2013$genhlth\n",
    "sel_brfss2013$has_plan<-sel_brfss2013$hlthpln1\n",
    "sel_brfss2013$education <-sel_brfss2013$edu_cat\n",
    "sel_brfss2013$income <-sel_brfss2013$X_incomg\n",
    "\n",
    "p1 <- ggplot(sel_brfss2013, aes(x=health_condition, fill =has_plan )) +\n",
    "  geom_bar() +\n",
    "  ggtitle(\"Health plans for different health conditions\") \n",
    "\n",
    "p2 <- ggplot(sel_brfss2013, aes(x=health_condition, fill =education )) +\n",
    "  geom_bar() +\n",
    "  ggtitle(\"Education level for different health conditions\") \n",
    "\n",
    "p3 <- ggplot(sel_brfss2013, aes(x=education, fill = income )) +\n",
    "  geom_bar() +\n",
    "  ggtitle(\"Education income levels vs education\") \n",
    "\n",
    "grid.arrange(p1,p2,p3,nrow=3)"
   ]
  },
  {
   "cell_type": "code",
   "execution_count": 15,
   "metadata": {
    "collapsed": false
   },
   "outputs": [],
   "source": [
    "# 1.  create a health condition variable \n",
    "sel_brfss2013 <- sel_brfss2013  %>%\n",
    "mutate(g_health =factor(ifelse(is.na(genhlth), NA\n",
    "                       ,ifelse(genhlth %in% c(\"Excellent\", \"Very good\", \"Good\"),\n",
    "                        \"excellent or good\", \"poor or fair\"))) )"
   ]
  },
  {
   "cell_type": "code",
   "execution_count": 16,
   "metadata": {
    "collapsed": false
   },
   "outputs": [],
   "source": [
    "#2. create a variable on education level\n",
    "sel_brfss2013 <- sel_brfss2013  %>%\n",
    "mutate(edu_cat = factor( ifelse( is.na(X_educag),NA\n",
    "\t\t\t\t\t\t\t\t,ifelse(X_educag %in%\n",
    "                                    c(\"Attended college or technical school\"\n",
    "\t\t\t\t\t\t\t\t,\"Graduated from college or technical school\")\n",
    "                                ,\"college education\",\"pre-college education\"))) )"
   ]
  },
  {
   "cell_type": "code",
   "execution_count": 17,
   "metadata": {
    "collapsed": false
   },
   "outputs": [],
   "source": [
    "#3 create a variable on income category  low middle upper\n",
    "sel_brfss2013 <- sel_brfss2013  %>%\n",
    "mutate(incom_cat = factor(ifelse(is.na(X_incomg),NA\n",
    "\t\t\t\t\t\t,ifelse(X_incomg %in% \n",
    "                        c(\"Less than $15,000\",\"$15,000 to less than $25,000\"),\"low\"\n",
    "                        ,ifelse(X_incomg %in% c(\"$25,000 to less than $35,000\",\"$35,000 to less than $50,000\")\n",
    "\t\t\t\t\t\t,\"middle\",\"upper\")))) )"
   ]
  },
  {
   "cell_type": "code",
   "execution_count": 18,
   "metadata": {
    "collapsed": false
   },
   "outputs": [
    {
     "data": {
      "text/html": [
       "<table>\n",
       "<thead><tr><th></th><th scope=col>has_plan</th><th scope=col>g_health</th><th scope=col>edu_cat</th><th scope=col>incom_cat</th><th scope=col>count</th></tr></thead>\n",
       "<tbody>\n",
       "\t<tr><th scope=row>1</th><td>No               </td><td>excellent or good</td><td>college education</td><td>low              </td><td>8599             </td></tr>\n",
       "\t<tr><th scope=row>2</th><td>No                   </td><td>excellent or good    </td><td>pre-college education</td><td>low                  </td><td>11136                </td></tr>\n",
       "</tbody>\n",
       "</table>\n"
      ],
      "text/latex": [
       "\\begin{tabular}{r|lllll}\n",
       "  & has\\_plan & g\\_health & edu\\_cat & incom\\_cat & count\\\\\n",
       "\\hline\n",
       "\t1 & No                & excellent or good & college education & low               & 8599             \\\\\n",
       "\t2 & No                    & excellent or good     & pre-college education & low                   & 11136                \\\\\n",
       "\\end{tabular}\n"
      ],
      "text/plain": [
       "  has_plan          g_health               edu_cat incom_cat count\n",
       "1       No excellent or good     college education       low  8599\n",
       "2       No excellent or good pre-college education       low 11136"
      ]
     },
     "metadata": {},
     "output_type": "display_data"
    }
   ],
   "source": [
    "## show summary statistics \n",
    "sel_brfss2013  %>%\n",
    "filter( !is.na(edu_cat) \n",
    "\t\t& g_health ==\"excellent or good\"  \n",
    "\t\t& incom_cat %in%c(\"low\") \n",
    "\t\t& has_plan == \"No\" ) %>%\n",
    "group_by(has_plan,g_health,edu_cat,incom_cat) %>%\n",
    "summarize(count=n()) %>% \n",
    "arrange(edu_cat)"
   ]
  },
  {
   "cell_type": "code",
   "execution_count": 19,
   "metadata": {
    "collapsed": false
   },
   "outputs": [
    {
     "data": {
      "text/plain": [
       "                       incom_cat\n",
       "edu_cat                   low middle upper\n",
       "  college education      8599   5633  3710\n",
       "  pre-college education 11136   5040  1879"
      ]
     },
     "metadata": {},
     "output_type": "display_data"
    }
   ],
   "source": [
    "# using xtabs\n",
    "xtabs(~edu_cat+incom_cat\n",
    "\t  ,data=sel_brfss2013 %>% filter(!is.na(edu_cat) \n",
    "\t\t\t\t\t\t\t\t   & g_health ==\"excellent or good\" \n",
    "\t\t\t\t\t\t\t\t   & !is.na(incom_cat)\n",
    "\t\t\t\t\t\t\t\t   & has_plan == \"No\") )\n"
   ]
  },
  {
   "cell_type": "code",
   "execution_count": 20,
   "metadata": {
    "collapsed": false
   },
   "outputs": [
    {
     "data": {
      "text/html": [
       "0.435723334177857"
      ],
      "text/latex": [
       "0.435723334177857"
      ],
      "text/markdown": [
       "0.435723334177857"
      ],
      "text/plain": [
       "[1] 0.4357233"
      ]
     },
     "metadata": {},
     "output_type": "display_data"
    }
   ],
   "source": [
    "#a relative frequency that a college educated person with low income forgoes a health care plan\n",
    "8599 / (8599+11136)"
   ]
  },
  {
   "cell_type": "markdown",
   "metadata": {},
   "source": [
    "#### q1 thus for low income individuas with colledge education still are more likely to take the health plan compared to those  with pre-colledge education"
   ]
  },
  {
   "cell_type": "markdown",
   "metadata": {
    "collapsed": true
   },
   "source": [
    "### q2 Among  physical activity or  healthy food which factor has a greater influence to reduce a number of sick days"
   ]
  },
  {
   "cell_type": "code",
   "execution_count": 23,
   "metadata": {
    "collapsed": false
   },
   "outputs": [
    {
     "name": "stdout",
     "output_type": "stream",
     "text": [
      "'data.frame':\t491775 obs. of  4 variables:\n",
      " $ X_frutsum: num  413 20 46 49 7 157 150 67 100 58 ...\n",
      " $ X_vegesum: num  53 148 191 136 243 143 216 360 172 114 ...\n",
      " $ X_pacat1 : Factor w/ 4 levels \"Highly active\",..: 4 3 4 3 4 3 2 3 2 2 ...\n",
      " $ physhlth : int  30 0 3 2 10 0 1 5 0 0 ...\n",
      "NULL\n"
     ]
    }
   ],
   "source": [
    "# selection of variables\n",
    "se1l_brfss2013 <- brfss2013 %>% \n",
    "select (X_frutsum  # sum of consumed fruits in 30 days\n",
    "\t   ,X_vegesum  # sum fo consumed vegatables in 30 days\n",
    "\t   ,X_pacat1  # sport activity\n",
    "\t   ,physhlth) # number of days sick in past 30 days\n",
    "print ( str(se1l_brfss2013) )"
   ]
  },
  {
   "cell_type": "code",
   "execution_count": 24,
   "metadata": {
    "collapsed": false
   },
   "outputs": [
    {
     "name": "stdout",
     "output_type": "stream",
     "text": [
      "   Min. 1st Qu.  Median    Mean 3rd Qu.    Max.    NA's \n",
      "  0.000   0.000   0.000   4.353   3.000  60.000   10957 \n"
     ]
    },
    {
     "data": {
      "image/png": "[encoded data removed]",
      "text/plain": [
       "plot without title"
      ]
     },
     "metadata": {
      "image/svg+xml": {
       "isolated": true
      }
     },
     "output_type": "display_data"
    }
   ],
   "source": [
    "# motivating charts\n",
    "print (summary(se1l_brfss2013$physhlth) )\n",
    "\n",
    "p1 <- ggplot(data = se1l_brfss2013 %>% filter(physhlth>0.99 & physhlth < 32) ,  aes(x = physhlth)) +\n",
    "  geom_histogram(bins=8)\n",
    "print(p1)\n"
   ]
  }
 ],
 "metadata": {
  "kernelspec": {
   "display_name": "R",
   "language": "R",
   "name": "ir"
  },
  "language_info": {
   "codemirror_mode": "r",
   "file_extension": ".r",
   "mimetype": "text/x-r-source",
   "name": "R",
   "pygments_lexer": "r",
   "version": "3.3.0"
  }
 },
 "nbformat": 4,
 "nbformat_minor": 0
}

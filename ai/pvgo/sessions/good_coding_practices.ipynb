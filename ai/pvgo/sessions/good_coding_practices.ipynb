{
 "cells": [
  {
   "cell_type": "markdown",
   "metadata": {},
   "source": [
    "## Good Coding Practices"
   ]
  },
  {
   "cell_type": "markdown",
   "metadata": {},
   "source": [
    "### Ada Lovelace (1815 - 1852)\n",
    "**the first programmer**"
   ]
  },
  {
   "cell_type": "markdown",
   "metadata": {},
   "source": [
    "language code is translated in machine code interpretable by the computer hardware\n",
    "\n",
    "**good coding** is about **communicating** with a machine and a human correctly and in the clearest possible way"
   ]
  },
  {
   "cell_type": "markdown",
   "metadata": {},
   "source": [
    "**the average** business app has 375 K LOCS  and has over **1M** of technical debth\n",
    "\n",
    "Some running code can bear risks of not just financial loss but life and death"
   ]
  },
  {
   "cell_type": "markdown",
   "metadata": {},
   "source": [
    "##### Good coding is important even when writing scripts\n",
    "* Data Scientists share scripting code with other people\n",
    "* script will be rerun\n",
    "* script may be used for production code"
   ]
  },
  {
   "cell_type": "markdown",
   "metadata": {},
   "source": [
    "#### Simple rules \n",
    "* pick good names (the most important)\n",
    "* comment the right things\n",
    "* write small function (modularity)\n",
    "* think about style and layout"
   ]
  },
  {
   "cell_type": "markdown",
   "metadata": {},
   "source": [
    "#### Naming\n",
    "\n",
    "* functions\n",
    "    * use verbs\n",
    "    * avoid generics 'do', 'be'\n",
    "    * be consistence casing, '_'\n",
    "    * one word per concept\n",
    "\n",
    "e.g.\n",
    "\n",
    "    * getNumberOfPages\n",
    "    * setMaximumNumberOfAllowedAttempt\n",
    "    * transfer_cash_to_account\n",
    "\n",
    "\n",
    "\n",
    "* variables\n",
    "    * use nouns\n",
    "    * be consistent casing, '_'\n",
    "    * consider context (domain)\n",
    "     \n",
    " "
   ]
  },
  {
   "cell_type": "code",
   "execution_count": 4,
   "metadata": {},
   "outputs": [
    {
     "data": {
      "text/plain": [
       "5.0"
      ]
     },
     "execution_count": 4,
     "metadata": {},
     "output_type": "execute_result"
    }
   ],
   "source": [
    "def solution(A):\n",
    "    b = 0\n",
    "    for a in A:\n",
    "        b = b + a\n",
    "    m = (len(A)+1)*(len(A)+2)/2 - b\n",
    "    return m\n",
    "\n",
    "A = [1,2,3,4,6,7,8,9]\n",
    "\n",
    "solution(A)"
   ]
  },
  {
   "cell_type": "code",
   "execution_count": 5,
   "metadata": {},
   "outputs": [
    {
     "data": {
      "text/plain": [
       "5.0"
      ]
     },
     "execution_count": 5,
     "metadata": {},
     "output_type": "execute_result"
    }
   ],
   "source": [
    "## refactored\n",
    "def find_missing_in_continuous(set_of_naturals):\n",
    "    \"\"\"\n",
    "    rturn missing number\n",
    "    this function only workds on continuous set of positive numbers starting from 1\n",
    "    that have a single missing number. \n",
    "    \"\"\"    \n",
    "    actual_sum = 0\n",
    "    for a in set_of_naturals:\n",
    "        actual_sum = actual_sum + a\n",
    "    l = len(set_of_naturals)\n",
    "    missing_element = (l+1)*(l+2)/2 - actual_sum\n",
    "    return missing_element\n",
    "\n",
    "find_missing_in_continuous(A)"
   ]
  },
  {
   "cell_type": "markdown",
   "metadata": {},
   "source": [
    "### Comments\n",
    "\n",
    "* comments shoudl explain why, not how\n",
    "* Do comment unusual code \n",
    "* do comment file headers\n",
    "* do comments function & class headers\n",
    "* use TODO and FIXME\n",
    "* do not comment pas code, get rid of past code, use version control\n",
    "* do not comment out code\n",
    "* do not comment conditions\n",
    "* do not repeat code in comments\n"
   ]
  },
  {
   "cell_type": "code",
   "execution_count": 7,
   "metadata": {},
   "outputs": [
    {
     "name": "stdout",
     "output_type": "stream",
     "text": [
      "5\n"
     ]
    }
   ],
   "source": [
    "\n",
    "from pprint import pprint as pp\n",
    "import math\n",
    "\n",
    "def solution(N):\n",
    "    maximum = int(math.sqrt(N))\n",
    "    c = 0\n",
    "\n",
    "    for a in range(1,maximum+1):\n",
    "        if N % a == 0:\n",
    "            c+=2\n",
    "\n",
    "    if maximum * maximum == N:\n",
    "        c -= 1\n",
    "    return c\n",
    "\n",
    "\n",
    "pp(solution(16))"
   ]
  },
  {
   "cell_type": "code",
   "execution_count": 9,
   "metadata": {},
   "outputs": [
    {
     "name": "stdout",
     "output_type": "stream",
     "text": [
      "8\n"
     ]
    }
   ],
   "source": [
    "## propertly refactored\n",
    "def findNumberOfDivisors(positiveNumber):\n",
    "    \"\"\"\n",
    "    this function calculates the number of integers from 1..positiveNumber that\n",
    "    divide the integer input N\n",
    "    :param positiveNumber: positive integer\n",
    "    :return:  a number of divisors of this positiveNumber\n",
    "    \"\"\"\n",
    "\n",
    "    numberSqRoot = int(math.sqrt(positiveNumber))\n",
    "    numberOfDivisors = 0\n",
    "\n",
    "    # in sequence up to the number's square root check if it devides the number\n",
    "    for a in range(1,numberSqRoot+1):\n",
    "        if positiveNumber % a == 0:\n",
    "            numberOfDivisors += 2 #this should be explained\n",
    "\n",
    "    if numberSqRoot * numberSqRoot == positiveNumber:\n",
    "        numberOfDivisors -= 1 #this shoudl be explained\n",
    "    return numberOfDivisors\n",
    "\n",
    "pp(findNumberOfDivisors(24))"
   ]
  },
  {
   "cell_type": "markdown",
   "metadata": {},
   "source": [
    "### Functions\n",
    "* should be small\n",
    "* do only one thing\n",
    "* have no side effects\n",
    "* have a small set of parameters\n",
    "* have an event smaller set of positional parameters\n",
    "* be named well \n",
    "* be commented well\n"
   ]
  },
  {
   "cell_type": "markdown",
   "metadata": {},
   "source": [
    "### Layout and style\n",
    "\n",
    "Purpose\n",
    "* enhance readability\n",
    "* higlight important points\n",
    "\n",
    "things to consider:\n",
    "\n",
    "* placement of brackets\n",
    "* tabs of spaces (spaces usually better)\n",
    "* line length (80 chars max? )\n",
    "* spacing around operators\n",
    "* refer to your language style guide!\n",
    "\n",
    "\n",
    "run code through linter to check for code style problems\n",
    "\n",
    "python lovers check out website flake8\n"
   ]
  },
  {
   "cell_type": "markdown",
   "metadata": {},
   "source": [
    "## Testing\n",
    "\n",
    "The **cost** of fixing a bug grows **exponentially**\n",
    "\n",
    "testing can take a significant effort.  testing time can be greater than the coding time."
   ]
  },
  {
   "cell_type": "markdown",
   "metadata": {},
   "source": [
    "* test early\n",
    "* test often\n",
    "* test everywhere\n",
    "* automate it \n",
    "\n",
    "\n",
    "Test types:\n",
    "* unit tests\n",
    "* acceptance tests\n",
    "* regression tests\n",
    "* user tests\n",
    "\n"
   ]
  },
  {
   "cell_type": "markdown",
   "metadata": {},
   "source": [
    "### Debugging"
   ]
  },
  {
   "cell_type": "markdown",
   "metadata": {},
   "source": [
    "**work systematically**\n",
    "write a test that fails to reproduce the problem"
   ]
  },
  {
   "cell_type": "markdown",
   "metadata": {},
   "source": [
    "### Things left out\n",
    "* Refactoring\n",
    "* Code review\n",
    "* Pair programming\n",
    "* Legacy code techniques\n",
    "* Architecture and code design"
   ]
  },
  {
   "cell_type": "markdown",
   "metadata": {},
   "source": [
    "### the Agle Development Process"
   ]
  },
  {
   "cell_type": "markdown",
   "metadata": {},
   "source": [
    "**waterfall methdology**  vs **Agile methodology**\n",
    "\n",
    "**Agile**  much shorter lifecycle max = 1 month\n",
    "\n",
    "buzzwords:\n",
    "\n",
    "* Scrum\n",
    "* Kanban\n",
    "* Extreme Programming\n",
    "* Feature Driven Development\n",
    "* .. many others\n",
    "\n",
    "\n",
    "Scrum sprint: (could be used for S2DS project)\n",
    "* sprint planning meeting\n",
    "* sprint review meeting"
   ]
  },
  {
   "cell_type": "markdown",
   "metadata": {},
   "source": [
    "### The Human Factor\n",
    "\n",
    "writing software: almost always a **team effort**\n",
    "\n",
    "prblems that can develop:\n",
    "* not being able to take criticism\n",
    "* strong ego -> inflexible, bad, personalized code\n",
    "* my code / your code mentality\n",
    "* the expert blackmailer (only one person understands the code)\n"
   ]
  },
  {
   "cell_type": "markdown",
   "metadata": {},
   "source": [
    "**paired  programming**  driver and navigator\n",
    "it ensures a good transfer of knowledge\n",
    "\n",
    "code review is a cheaper version of paired programming serving the same goal, but less effective of paired programming"
   ]
  },
  {
   "cell_type": "markdown",
   "metadata": {},
   "source": [
    "**Remember**: learning to code well is a never ending process.\n",
    "If you stope enjoying it something is wrong and you need to fix it!! "
   ]
  },
  {
   "cell_type": "markdown",
   "metadata": {},
   "source": [
    "book:\n",
    "\n",
    "* Clean code   Robert Martin\n",
    "* Code craft  Pete Goodiffe\n",
    "* the programatic Programmer   Andrew Hunt , Dave Thomas\n",
    "* Code Complete  Steve McConnell\n",
    "\n",
    "resources:\n",
    "* codeacademy.com\n",
    "* codility.com/programmers/lessons  (recruiters use it)\n",
    "* hackerrank (recruiters use it )\n",
    "* local meetups (sft dev.  good for networking)\n",
    "* coderdojo.com\n",
    "* coderkata.com\n",
    "* cyber-dojo.org\n"
   ]
  },
  {
   "cell_type": "code",
   "execution_count": null,
   "metadata": {},
   "outputs": [],
   "source": []
  }
 ],
 "metadata": {
  "kernelspec": {
   "display_name": "Python 3",
   "language": "python",
   "name": "python3"
  },
  "language_info": {
   "codemirror_mode": {
    "name": "ipython",
    "version": 3
   },
   "file_extension": ".py",
   "mimetype": "text/x-python",
   "name": "python",
   "nbconvert_exporter": "python",
   "pygments_lexer": "ipython3",
   "version": "3.6.5"
  }
 },
 "nbformat": 4,
 "nbformat_minor": 2
}

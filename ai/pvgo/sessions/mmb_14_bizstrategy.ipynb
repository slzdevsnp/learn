{
 "cells": [
  {
   "cell_type": "markdown",
   "metadata": {},
   "source": [
    "book: Strategies of the Serengeti"
   ]
  },
  {
   "cell_type": "markdown",
   "metadata": {},
   "source": [
    "**books about strategies**. 1982: In Search of Excellence. 1994 built to last, 2001 goot to great. How the mighty Fall"
   ]
  },
  {
   "cell_type": "markdown",
   "metadata": {},
   "source": [
    "**Be** a person of **vision**  from now! "
   ]
  },
  {
   "cell_type": "markdown",
   "metadata": {},
   "source": [
    "Vision -> Goals -> Strategies -> Tactics -> Activity"
   ]
  },
  {
   "cell_type": "markdown",
   "metadata": {},
   "source": [
    "Goals:  what we do. How we do it. Our people. Our Customer. Our money."
   ]
  },
  {
   "cell_type": "markdown",
   "metadata": {},
   "source": [
    "* First mover\n",
    "* Early entrant\n",
    "* Follower\n",
    "* Late entrant\n"
   ]
  },
  {
   "cell_type": "markdown",
   "metadata": {},
   "source": [
    "#### Prepare for resessions\n",
    "\n",
    "List of measures. Assign measures to 3 levels. Data is there to predict recessions.\n",
    "Prepare and assign measures to prepare a company for a recession.\n",
    "\n",
    "* level 1\n",
    "* level 2 \n",
    "* level 3"
   ]
  },
  {
   "cell_type": "markdown",
   "metadata": {},
   "source": [
    "**Zebra** 6 F strategies for a reactive threats\n",
    "\n",
    "* Fight\n",
    "* Flight\n",
    "* Flock (gather together)\n",
    "* Freeze \n",
    "* Fragment (break a company up)   example VW having all those brands in differnt price/quality zones\n",
    "* Frolic\n",
    "\n",
    "\n",
    "e.g. Jollibee vs McDonalds  use-case"
   ]
  },
  {
   "cell_type": "markdown",
   "metadata": {},
   "source": [
    "**Hienna**\n",
    "\n",
    "benefits from actions of others by getting the rest of fist of other predators\n"
   ]
  },
  {
   "cell_type": "markdown",
   "metadata": {},
   "source": [
    "#### Assess a strategy\n",
    "\n",
    "* F.easibility\n",
    "* A.cceptibility\n",
    "* S.ustainability\n",
    "* T.imeliness"
   ]
  },
  {
   "cell_type": "code",
   "execution_count": null,
   "metadata": {},
   "outputs": [],
   "source": []
  }
 ],
 "metadata": {
  "kernelspec": {
   "display_name": "Python 3",
   "language": "python",
   "name": "python3"
  },
  "language_info": {
   "codemirror_mode": {
    "name": "ipython",
    "version": 3
   },
   "file_extension": ".py",
   "mimetype": "text/x-python",
   "name": "python",
   "nbconvert_exporter": "python",
   "pygments_lexer": "ipython3",
   "version": "3.6.5"
  }
 },
 "nbformat": 4,
 "nbformat_minor": 2
}

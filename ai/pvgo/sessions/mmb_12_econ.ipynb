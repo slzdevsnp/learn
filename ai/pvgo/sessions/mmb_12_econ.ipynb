{
 "cells": [
  {
   "cell_type": "markdown",
   "metadata": {},
   "source": [
    "## Introduction to Economics"
   ]
  },
  {
   "cell_type": "markdown",
   "metadata": {},
   "source": [
    "In the world  economies lives a shock\n",
    "\n",
    "now any shocks affects everybody in the world"
   ]
  },
  {
   "cell_type": "markdown",
   "metadata": {},
   "source": [
    "## Macroeconomics"
   ]
  },
  {
   "cell_type": "markdown",
   "metadata": {},
   "source": [
    "Economy in aggregate  and looks in 4 areas\n",
    "* econ growth, changes in GDP\n",
    "* unemployment\n",
    "* inflation - rate of change of specified price index\n",
    "* balance of payments  (exports - imports)\n",
    "\n",
    "**These four** areas are fundamentally related\n",
    "\n"
   ]
  },
  {
   "cell_type": "markdown",
   "metadata": {},
   "source": [
    "uk real gdp average growth = 2.8 % YoY.\n",
    "\n",
    "real gdp is a gdp adjusted for inflation. (inflation pct is substracted)\n",
    "\n",
    "econ boom : high gdp growth, low unemploymen,  B or P deficint inflatioon up?\n",
    "    \n",
    "slump/recession:  low gdp growth high unemployment B or P surplus, inflaton failing?"
   ]
  },
  {
   "cell_type": "markdown",
   "metadata": {},
   "source": [
    "### simple model of transactions:\n",
    "    \n",
    "**Households** and **Firms**  exchange transactions: expenses on goods,services  ; income rent wages, interests and profits"
   ]
  },
  {
   "cell_type": "markdown",
   "metadata": {},
   "source": [
    "**how is GDP** is calculated.  it is based on aggregate global demand. \n",
    "\n",
    "It reflects a change in national income which is a synonime with GDP"
   ]
  },
  {
   "cell_type": "markdown",
   "metadata": {},
   "source": [
    "Consumer spending and GDP are highly correlated\n",
    "\n",
    "Visa publishes monthly data on aggregated transactiosn for consumer spending"
   ]
  },
  {
   "cell_type": "markdown",
   "metadata": {},
   "source": [
    "London City is most democratic and meritocratic  get job easy, get out easy"
   ]
  },
  {
   "cell_type": "markdown",
   "metadata": {},
   "source": [
    "**Unempoyment lags** GDP by 2 years"
   ]
  },
  {
   "cell_type": "markdown",
   "metadata": {},
   "source": [
    "**CCI** consumer confidence index.  shows customers intent to purchase"
   ]
  },
  {
   "cell_type": "markdown",
   "metadata": {},
   "source": [
    "CCI precedes  real GDP often can predict GDP falls"
   ]
  },
  {
   "cell_type": "markdown",
   "metadata": {},
   "source": [
    "### Interest Rate"
   ]
  },
  {
   "cell_type": "markdown",
   "metadata": {},
   "source": [
    "* Base Rate  monthly\n",
    "* Risk free rate  (return on government bonds) daily\n",
    "* LIBOR  (london interbank rate)  daily\n",
    "\n",
    "german bond is less risky, italina is more risky\n",
    "\n",
    "Libor is a very sensitive indicator for how much banks are willing to lend liquidity"
   ]
  },
  {
   "cell_type": "markdown",
   "metadata": {},
   "source": [
    "slide of transmission of monetary policy!!"
   ]
  },
  {
   "cell_type": "markdown",
   "metadata": {},
   "source": [
    "### How does the business cycle affect companies performance?\n",
    "\n",
    "\n",
    "* fixed costs   (building lease )\n",
    "* variable costs ( elecriticity )\n",
    "\n",
    "variable costs bring more risk to earning\n"
   ]
  },
  {
   "cell_type": "markdown",
   "metadata": {},
   "source": [
    "**Churn rate** is such a key.  because clients help to decrease the fixed costs and increase profitability"
   ]
  },
  {
   "cell_type": "markdown",
   "metadata": {},
   "source": [
    "Big challenge and profit potential, predict correctly a demand for a product\n",
    "\n",
    "Product demand is condition by economy but also by shift in customer's culture"
   ]
  },
  {
   "cell_type": "code",
   "execution_count": null,
   "metadata": {},
   "outputs": [],
   "source": []
  }
 ],
 "metadata": {
  "kernelspec": {
   "display_name": "Python 3",
   "language": "python",
   "name": "python3"
  },
  "language_info": {
   "codemirror_mode": {
    "name": "ipython",
    "version": 3
   },
   "file_extension": ".py",
   "mimetype": "text/x-python",
   "name": "python",
   "nbconvert_exporter": "python",
   "pygments_lexer": "ipython3",
   "version": "3.6.5"
  }
 },
 "nbformat": 4,
 "nbformat_minor": 2
}

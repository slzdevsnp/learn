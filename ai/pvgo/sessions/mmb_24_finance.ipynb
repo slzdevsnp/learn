{
 "cells": [
  {
   "cell_type": "markdown",
   "metadata": {},
   "source": [
    "## Finance is easy"
   ]
  },
  {
   "cell_type": "markdown",
   "metadata": {},
   "source": [
    "Finance is about: (from: to: )\n",
    "    \n",
    "    where you money comes from  (liabilities)\n",
    "    where your money goes to    (assets)\n",
    "    \n",
    "distinct between ST (short term) and LT (long term) \n",
    "\n",
    "border = 1 Y"
   ]
  },
  {
   "cell_type": "markdown",
   "metadata": {},
   "source": [
    "LT liability = capital\n",
    "\n",
    "LT assets = fixed assets\n",
    "ST assets = current assets\n",
    "\n",
    "share/equity  = part of the company\n",
    "\n",
    "\n",
    "assets:\n",
    "\n",
    "long term assets:\n",
    "* fixed assetws\n",
    "* Land and Buildings\n",
    "* Vehicles\n",
    "* Non-tangible assets (brands, patents)\n",
    "\n",
    "short term assets:\n",
    "* stock & WiP (work in progress)\n",
    "* Debtors (Receivables. Who own money to company) \n",
    "* cash/bank\n",
    "\n",
    "\n",
    "liabilities:\n",
    "\n",
    "* accruals\n",
    "* creditors\n",
    "* st loans\n",
    "* retained profit = gross profit - (interest+tax+dividents)\n"
   ]
  },
  {
   "cell_type": "markdown",
   "metadata": {},
   "source": [
    "**Balance sheet**\n",
    "\n",
    "\n"
   ]
  },
  {
   "cell_type": "code",
   "execution_count": null,
   "metadata": {},
   "outputs": [],
   "source": []
  }
 ],
 "metadata": {
  "kernelspec": {
   "display_name": "Python 3",
   "language": "python",
   "name": "python3"
  },
  "language_info": {
   "codemirror_mode": {
    "name": "ipython",
    "version": 3
   },
   "file_extension": ".py",
   "mimetype": "text/x-python",
   "name": "python",
   "nbconvert_exporter": "python",
   "pygments_lexer": "ipython3",
   "version": "3.6.5"
  }
 },
 "nbformat": 4,
 "nbformat_minor": 2
}

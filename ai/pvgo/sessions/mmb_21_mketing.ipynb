{
 "cells": [
  {
   "cell_type": "markdown",
   "metadata": {},
   "source": [
    "### 3 reasons. Status Quo"
   ]
  },
  {
   "cell_type": "markdown",
   "metadata": {},
   "source": [
    "* Failure to see big picute\n",
    "* Fear\n",
    "* Lack of appropriate skills"
   ]
  },
  {
   "cell_type": "markdown",
   "metadata": {},
   "source": [
    "Scientific people  do not understand  **Commercial thinking**\n",
    "\n",
    "Commercial thinking:\n",
    "* Financial\n",
    "* Joined Up\n",
    "* Longer term\n",
    "* Aware of business levers\n",
    "* Understand & manage risks\n",
    "* Resource efficient\n",
    "* Customer focused\n",
    "* Market aware\n",
    "* Big picture\n",
    "\n",
    "quote: Cheapest is very rarely the cheapest"
   ]
  },
  {
   "cell_type": "markdown",
   "metadata": {},
   "source": [
    "## Marketing\n",
    "\n",
    "The idea of funnel"
   ]
  },
  {
   "cell_type": "markdown",
   "metadata": {},
   "source": [
    "![title](im/funnel.png)"
   ]
  },
  {
   "cell_type": "markdown",
   "metadata": {},
   "source": []
  }
 ],
 "metadata": {
  "kernelspec": {
   "display_name": "Python 3",
   "language": "python",
   "name": "python3"
  },
  "language_info": {
   "codemirror_mode": {
    "name": "ipython",
    "version": 3
   },
   "file_extension": ".py",
   "mimetype": "text/x-python",
   "name": "python",
   "nbconvert_exporter": "python",
   "pygments_lexer": "ipython3",
   "version": "3.6.5"
  }
 },
 "nbformat": 4,
 "nbformat_minor": 2
}

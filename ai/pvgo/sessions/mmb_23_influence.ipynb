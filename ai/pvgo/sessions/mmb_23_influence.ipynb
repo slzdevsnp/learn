{
 "cells": [
  {
   "cell_type": "markdown",
   "metadata": {},
   "source": [
    "### Quality writing\n",
    "\n",
    "* clarity\n",
    "* business style"
   ]
  },
  {
   "cell_type": "markdown",
   "metadata": {},
   "source": [
    "### 4 types of communications\n",
    "\n",
    "* Red (risk)\n",
    "* Blue (averse to risk)\n",
    "* Yellow (dreamer)\n",
    "* Green (people oriented)\n",
    "\n",
    "\n",
    "* pretend to fall for the red's dominance to impress him\n"
   ]
  },
  {
   "cell_type": "markdown",
   "metadata": {},
   "source": [
    "for Mr. **Red**\n",
    "car is a means of a communications and a show of success\n",
    "\n",
    "\n",
    "for Mr. **Blue** a car is practical. e.g. Volvo. Objectivity, Rationality, Judgement\n",
    "\n",
    "for Mr(s) **Green** a car is SUV , a family car"
   ]
  },
  {
   "cell_type": "markdown",
   "metadata": {},
   "source": [
    "### Behaviour is the choice"
   ]
  },
  {
   "cell_type": "markdown",
   "metadata": {},
   "source": [
    "Adapt to your counterparty to speak their type of language"
   ]
  },
  {
   "cell_type": "code",
   "execution_count": null,
   "metadata": {},
   "outputs": [],
   "source": []
  }
 ],
 "metadata": {
  "kernelspec": {
   "display_name": "Python 3",
   "language": "python",
   "name": "python3"
  },
  "language_info": {
   "codemirror_mode": {
    "name": "ipython",
    "version": 3
   },
   "file_extension": ".py",
   "mimetype": "text/x-python",
   "name": "python",
   "nbconvert_exporter": "python",
   "pygments_lexer": "ipython3",
   "version": "3.6.5"
  }
 },
 "nbformat": 4,
 "nbformat_minor": 2
}

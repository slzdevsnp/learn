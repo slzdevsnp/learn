{
 "cells": [
  {
   "cell_type": "markdown",
   "metadata": {},
   "source": [
    "### Attitude is key"
   ]
  },
  {
   "cell_type": "markdown",
   "metadata": {},
   "source": [
    "* be proactive\n",
    "* begin with the end in mind\n",
    "* put first thing first\n",
    "* think win-win\n",
    "* seek first to understand then to be understood\n",
    "* synergise\n",
    "* sharpen the saw"
   ]
  },
  {
   "cell_type": "markdown",
   "metadata": {},
   "source": [
    "**Urgent vs important quadrant**\n",
    "  => concentrate on **very important and low urgency** and to a lower degree on important and urgent\n",
    "  ##### reserve time in calendar for strategic thinking on important but low urgency"
   ]
  },
  {
   "cell_type": "markdown",
   "metadata": {},
   "source": [
    "**any job is to provide a solution**"
   ]
  },
  {
   "cell_type": "markdown",
   "metadata": {},
   "source": [
    "**read** the covey book. the 7 habits of highly effective people"
   ]
  },
  {
   "cell_type": "markdown",
   "metadata": {},
   "source": [
    "**tasks in the information job**\n",
    "\n",
    "* see the balance in the picture\n",
    "* see the detail in the picture\n",
    "* see the big picture"
   ]
  },
  {
   "cell_type": "markdown",
   "metadata": {},
   "source": [
    "We cannot solve our problems with the same thinking we used when we created them. Albert Einstein\n"
   ]
  },
  {
   "cell_type": "markdown",
   "metadata": {},
   "source": [
    "Efforce to provide an unusual intelligence to bring unique view on business"
   ]
  },
  {
   "cell_type": "markdown",
   "metadata": {},
   "source": [
    "#### Company models\n",
    "\n",
    "* stock market listed\n",
    "* privately  owned\n",
    "* private equity\n",
    "* public sector"
   ]
  },
  {
   "cell_type": "markdown",
   "metadata": {},
   "source": [
    "for a stock market listed, need to present results consistency. "
   ]
  },
  {
   "cell_type": "markdown",
   "metadata": {},
   "source": [
    "the City is filled with bankers and accountants. They don't like risks"
   ]
  },
  {
   "cell_type": "markdown",
   "metadata": {},
   "source": [
    "EPS earnings per share.  bankers like steady  EPS"
   ]
  },
  {
   "cell_type": "markdown",
   "metadata": {},
   "source": [
    "### type of risks\n",
    "\n",
    "* market risk (losing everything)\n",
    "* credit risk (inability to meet debt commitments)\n",
    "* performance risk ( have results not far from predictions. to be inline with expectations )\n",
    "* variability in relation to market or in relation to projections\n",
    "\n",
    "make portfolio balanced allocation"
   ]
  },
  {
   "cell_type": "markdown",
   "metadata": {},
   "source": [
    "### Privately owned companies"
   ]
  },
  {
   "cell_type": "markdown",
   "metadata": {},
   "source": [
    "Some big companies are privately owned:  lego, dyson, virgin, mars. Family owners want to keep control."
   ]
  },
  {
   "cell_type": "markdown",
   "metadata": {},
   "source": [
    "### Private equity"
   ]
  },
  {
   "cell_type": "markdown",
   "metadata": {},
   "source": [
    "These are companies which gather invesments which they invest in companies which will be sold in 3-5 years.\n",
    "\n",
    "1/3 companies will achieve achievements 1/3 will be so so  1/3 will fail"
   ]
  },
  {
   "cell_type": "markdown",
   "metadata": {},
   "source": [
    "### Public sector"
   ]
  },
  {
   "cell_type": "markdown",
   "metadata": {},
   "source": [
    "* avoid risks\n",
    "* provide services\n",
    "* keep the funding\n",
    "* avoid publicity\n",
    "\n",
    "governments, transport, ministry of defenses, national health service"
   ]
  },
  {
   "cell_type": "markdown",
   "metadata": {},
   "source": [
    "### 7 key blocks of business in the company\n",
    "\n",
    "* 0 Strategy\n",
    "* 11 Finance\n",
    "* 12 People\n",
    "* 13 Product\n",
    "* 14 Processes\n",
    "* 15 Technology\n",
    "* 16 Marketing\n",
    "\n",
    "Either the strategy is right or a company goes out of business.\n"
   ]
  },
  {
   "cell_type": "markdown",
   "metadata": {},
   "source": [
    "![title](im/bigpic.png)"
   ]
  },
  {
   "cell_type": "code",
   "execution_count": null,
   "metadata": {},
   "outputs": [],
   "source": []
  }
 ],
 "metadata": {
  "kernelspec": {
   "display_name": "Python 3",
   "language": "python",
   "name": "python3"
  },
  "language_info": {
   "codemirror_mode": {
    "name": "ipython",
    "version": 3
   },
   "file_extension": ".py",
   "mimetype": "text/x-python",
   "name": "python",
   "nbconvert_exporter": "python",
   "pygments_lexer": "ipython3",
   "version": "3.6.5"
  }
 },
 "nbformat": 4,
 "nbformat_minor": 2
}

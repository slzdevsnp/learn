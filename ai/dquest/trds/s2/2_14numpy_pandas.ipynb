{
 "cells": [
  {
   "cell_type": "code",
   "execution_count": 54,
   "metadata": {},
   "outputs": [],
   "source": [
    "import csv\n",
    "import numpy as np\n",
    "from pprint import pprint as pp"
   ]
  },
  {
   "cell_type": "markdown",
   "metadata": {},
   "source": [
    "### NUMPY"
   ]
  },
  {
   "cell_type": "code",
   "execution_count": 55,
   "metadata": {},
   "outputs": [
    {
     "data": {
      "text/plain": [
       "[['2016',\n",
       "  '1',\n",
       "  '1',\n",
       "  '5',\n",
       "  '0',\n",
       "  '2',\n",
       "  '4',\n",
       "  '21.00',\n",
       "  '2037',\n",
       "  '52.00',\n",
       "  '0.80',\n",
       "  '5.54',\n",
       "  '11.65',\n",
       "  '69.99',\n",
       "  '1']]"
      ]
     },
     "execution_count": 55,
     "metadata": {},
     "output_type": "execute_result"
    }
   ],
   "source": [
    "# import nyc_taxi.csv as a list of lists\n",
    "f = open(\"nyc_taxis.csv\", \"r\")\n",
    "taxi_list = list(csv.reader(f)) #its a list\n",
    "# remove the header row\n",
    "taxi_list = taxi_list[1:]\n",
    "taxi_list[0:1] #show  1st eelement"
   ]
  },
  {
   "cell_type": "code",
   "execution_count": 56,
   "metadata": {},
   "outputs": [
    {
     "data": {
      "text/plain": [
       "[2016.0,\n",
       " 1.0,\n",
       " 1.0,\n",
       " 5.0,\n",
       " 0.0,\n",
       " 2.0,\n",
       " 4.0,\n",
       " 21.0,\n",
       " 2037.0,\n",
       " 52.0,\n",
       " 0.8,\n",
       " 5.54,\n",
       " 11.65,\n",
       " 69.99,\n",
       " 1.0]"
      ]
     },
     "execution_count": 56,
     "metadata": {},
     "output_type": "execute_result"
    }
   ],
   "source": [
    "#convert all numbers to float type\n",
    "c_taxi_list = [ [ float(f) for f in r ] for r in taxi_list]\n",
    "c_taxi_list[0]"
   ]
  },
  {
   "cell_type": "code",
   "execution_count": 57,
   "metadata": {},
   "outputs": [
    {
     "data": {
      "text/plain": [
       "(89560, 15)"
      ]
     },
     "execution_count": 57,
     "metadata": {},
     "output_type": "execute_result"
    }
   ],
   "source": [
    "taxi = np.array(c_taxi_list)  #create numpy array\n",
    "taxi.shape"
   ]
  },
  {
   "cell_type": "code",
   "execution_count": 58,
   "metadata": {},
   "outputs": [
    {
     "name": "stdout",
     "output_type": "stream",
     "text": [
      "array([  2.01600000e+03,   1.00000000e+00,   1.00000000e+00,\n",
      "         5.00000000e+00,   0.00000000e+00,   2.00000000e+00,\n",
      "         4.00000000e+00,   2.10000000e+01,   2.03700000e+03,\n",
      "         5.20000000e+01,   8.00000000e-01,   5.54000000e+00,\n",
      "         1.16500000e+01,   6.99900000e+01,   1.00000000e+00])\n",
      "array([[  2.01600000e+03,   1.00000000e+00],\n",
      "       [  2.01600000e+03,   1.00000000e+00]])\n"
     ]
    }
   ],
   "source": [
    "#first 10 rows\n",
    "taxi_ten = taxi[:10]\n",
    "pp(taxi_ten[0,]) #first row\n",
    "pp(taxi_ten[0:2,0:2]) #first 2 rows first two coluns"
   ]
  },
  {
   "cell_type": "code",
   "execution_count": 59,
   "metadata": {},
   "outputs": [
    {
     "name": "stdout",
     "output_type": "stream",
     "text": [
      "array([[  2.01600000e+03,   1.00000000e+00,   1.00000000e+00],\n",
      "       [  2.01600000e+03,   1.00000000e+00,   1.00000000e+00],\n",
      "       [  2.01600000e+03,   1.00000000e+00,   1.00000000e+00]])\n"
     ]
    }
   ],
   "source": [
    "pp(taxi_ten[[0,1,3],0:3]) # subset specific rows and specific columns with numeric indexing"
   ]
  },
  {
   "cell_type": "code",
   "execution_count": 60,
   "metadata": {},
   "outputs": [],
   "source": [
    "row_0 = taxi[0,:]\n",
    "rows_391_to_500 = taxi[391:501,:] #inclusive\n",
    "row_21_column_5 = taxi[21, 5]\n",
    "\n",
    "columns_1_4_7=taxi[:,[1,4,7]]\n",
    "row_99_columns_5_to_8=taxi[99,5:9] #inclusing for column\n",
    "rows_100_to_200_column_14=taxi[100:201,14]"
   ]
  },
  {
   "cell_type": "code",
   "execution_count": 61,
   "metadata": {},
   "outputs": [
    {
     "name": "stdout",
     "output_type": "stream",
     "text": [
      "array([ 37.11340206,  38.58157895,  31.27222982])\n",
      "array([ 37.11340206,  38.58157895,  31.27222982])\n",
      "array([ True,  True,  True, ...,  True,  True,  True], dtype=bool)\n"
     ]
    }
   ],
   "source": [
    "## math ops for each array element \n",
    "trip_distance_miles = taxi[:,7]\n",
    "trip_length_seconds = taxi[:,8]\n",
    "trip_length_hours = trip_length_seconds / 3600\n",
    "trip_mph = trip_distance_miles / trip_length_hours\n",
    "trip_mph_a = np.divide(trip_distance_miles,  trip_length_hours) #same as above with formal syntax\n",
    "\n",
    "pp(trip_mph[0:3])\n",
    "pp(trip_mph_a[0:3])\n",
    "pp(trip_mph == trip_mph_a)"
   ]
  },
  {
   "cell_type": "code",
   "execution_count": 62,
   "metadata": {},
   "outputs": [],
   "source": [
    "##statistic ops  noa column\n",
    "mph_mean=trip_mph.mean()\n",
    "mph_max=trip_mph.max()\n",
    "mph_min=trip_mph.min()\n",
    "mph_sum=trip_mph.sum()\n",
    "#mph_median=trip_mph.median() #method does not exist\n",
    "import statistics as s\n",
    "mph_median=s.median(trip_mph) #method does not exist\n",
    "\n",
    "\n"
   ]
  },
  {
   "cell_type": "code",
   "execution_count": 63,
   "metadata": {},
   "outputs": [
    {
     "data": {
      "text/plain": [
       "array([  2.01600000e+03,   6.00000000e+00,   3.10000000e+01,\n",
       "         7.00000000e+00,   5.00000000e+00,   6.00000000e+00,\n",
       "         7.00000000e+00,   1.82900000e+02,   8.63830000e+04,\n",
       "         4.00000000e+02,   6.30000000e+00,   8.05540000e+02,\n",
       "         1.00000000e+02,   8.34840000e+02,   4.00000000e+00])"
      ]
     },
     "execution_count": 63,
     "metadata": {},
     "output_type": "execute_result"
    }
   ],
   "source": [
    "taxi.max(axis=0) #columns max max for each column"
   ]
  },
  {
   "cell_type": "code",
   "execution_count": 64,
   "metadata": {},
   "outputs": [
    {
     "data": {
      "text/plain": [
       "array([ 2037.,  2016.,  2016., ...,  2822.,  2016.,  2016.])"
      ]
     },
     "execution_count": 64,
     "metadata": {},
     "output_type": "execute_result"
    }
   ],
   "source": [
    "taxi.max(axis=1) #rows max  (max for each row)"
   ]
  },
  {
   "cell_type": "code",
   "execution_count": 65,
   "metadata": {},
   "outputs": [
    {
     "name": "stdout",
     "output_type": "stream",
     "text": [
      "array([[1, 1, 1, 1],\n",
      "       [1, 1, 1, 1],\n",
      "       [0, 0, 0, 0]])\n"
     ]
    }
   ],
   "source": [
    "#concatenate a row to a numpy 2d arr\n",
    "ones = np.array([\n",
    "        [1,1,1,1],\n",
    "        [1,1,1,1]\n",
    "      ])\n",
    "\n",
    "zeros = np.array([ 0, 0, 0, 0])\n",
    "zeros_2d = np.expand_dims(zeros,axis=0)\n",
    "\n",
    "rowbound = np.concatenate([ones,zeros_2d],axis=0)\n",
    "\n",
    "pp(rowbound)"
   ]
  },
  {
   "cell_type": "code",
   "execution_count": 66,
   "metadata": {},
   "outputs": [
    {
     "data": {
      "text/plain": [
       "array([[ 1,  1,  1,  1, 10],\n",
       "       [ 1,  1,  1,  1, 11]])"
      ]
     },
     "execution_count": 66,
     "metadata": {},
     "output_type": "execute_result"
    }
   ],
   "source": [
    "#concatenate a column to a numpy 2d arr\n",
    "tens = np.array([10,11])\n",
    "tens_2d = np.expand_dims(tens,axis=1)\n",
    "colbound = np.concatenate([ones, tens_2d], axis=1)\n",
    "colbound"
   ]
  },
  {
   "cell_type": "code",
   "execution_count": 70,
   "metadata": {},
   "outputs": [],
   "source": [
    "#adding a column to taxi dataset\n",
    "trip_mph_2d = np.expand_dims(trip_mph,axis=1)\n",
    "taxi = np.concatenate([taxi,trip_mph_2d],axis=1)"
   ]
  },
  {
   "cell_type": "code",
   "execution_count": 68,
   "metadata": {},
   "outputs": [
    {
     "name": "stdout",
     "output_type": "stream",
     "text": [
      "array([[5, 2, 8, 3, 4],\n",
      "       [2, 8, 6, 2, 5],\n",
      "       [1, 6, 2, 7, 7],\n",
      "       [0, 7, 7, 4, 5],\n",
      "       [5, 7, 1, 1, 2]])\n",
      "array([[5, 7, 1, 1, 2],\n",
      "       [5, 2, 8, 3, 4],\n",
      "       [2, 8, 6, 2, 5],\n",
      "       [0, 7, 7, 4, 5],\n",
      "       [1, 6, 2, 7, 7]])\n"
     ]
    }
   ],
   "source": [
    "#sorting np array on given column\n",
    "i_sq = np.array([[5,2,8,3,4],[2,8,6,2,5],[1,6,2,7,7],[0,7,7,4,5],[5,7,1,1,2]])\n",
    "\n",
    "idx_srt = np.argsort(i_sq[:,4]) #on 4rth column\n",
    "pp(i_sq)\n",
    "pp(i_sq[idx_srt])"
   ]
  },
  {
   "cell_type": "code",
   "execution_count": 73,
   "metadata": {},
   "outputs": [
    {
     "name": "stdout",
     "output_type": "stream",
     "text": [
      "array([[  2.01600000e+03,   1.00000000e+00,   2.20000000e+01,\n",
      "          5.00000000e+00,   3.00000000e+00,   2.00000000e+00,\n",
      "          2.00000000e+00,   2.30000000e+01,   1.00000000e+00,\n",
      "          2.50000000e+00,   8.00000000e-01,   0.00000000e+00,\n",
      "          0.00000000e+00,   3.30000000e+00,   2.00000000e+00,\n",
      "          8.28000000e+04],\n",
      "       [  2.01600000e+03,   2.00000000e+00,   1.30000000e+01,\n",
      "          6.00000000e+00,   3.00000000e+00,   2.00000000e+00,\n",
      "          2.00000000e+00,   1.96000000e+01,   1.00000000e+00,\n",
      "          2.50000000e+00,   8.00000000e-01,   0.00000000e+00,\n",
      "          0.00000000e+00,   3.30000000e+00,   2.00000000e+00,\n",
      "          7.05600000e+04]])\n"
     ]
    }
   ],
   "source": [
    "##sorting taxi on last column (added trip_mph\")\n",
    "ix = np.argsort(-taxi[:,15])  #minus in front of taxi means sort in desc order\n",
    "taxi_sorted_by_avgspeed = taxi[ix]\n",
    "\n",
    "pp(taxi_sorted_by_avgspeed[0:2,])"
   ]
  },
  {
   "cell_type": "markdown",
   "metadata": {},
   "source": [
    "#### Numpy boolean indexing"
   ]
  },
  {
   "cell_type": "code",
   "execution_count": 80,
   "metadata": {},
   "outputs": [
    {
     "data": {
      "text/plain": [
       "array([[  2.01600000e+03,   1.00000000e+00,   1.00000000e+00,\n",
       "          5.00000000e+00,   0.00000000e+00,   2.00000000e+00,\n",
       "          4.00000000e+00,   2.10000000e+01,   2.03700000e+03,\n",
       "          5.20000000e+01,   8.00000000e-01,   5.54000000e+00,\n",
       "          1.16500000e+01,   6.99900000e+01,   1.00000000e+00],\n",
       "       [  2.01600000e+03,   1.00000000e+00,   1.00000000e+00,\n",
       "          5.00000000e+00,   0.00000000e+00,   2.00000000e+00,\n",
       "          1.00000000e+00,   1.62900000e+01,   1.52000000e+03,\n",
       "          4.50000000e+01,   1.30000000e+00,   0.00000000e+00,\n",
       "          8.00000000e+00,   5.43000000e+01,   1.00000000e+00]])"
      ]
     },
     "execution_count": 80,
     "metadata": {},
     "output_type": "execute_result"
    }
   ],
   "source": [
    "taxi = np.genfromtxt('nyc_taxis.csv', delimiter=',')  #same dataset as before\n",
    "taxi.dtype \n",
    "taxi = taxi[1:,] #strip off 0th row with header"
   ]
  },
  {
   "cell_type": "code",
   "execution_count": 82,
   "metadata": {},
   "outputs": [
    {
     "name": "stdout",
     "output_type": "stream",
     "text": [
      "array([[5, 2, 8, 3, 4],\n",
      "       [2, 8, 6, 2, 5],\n",
      "       [1, 6, 2, 7, 7],\n",
      "       [0, 7, 7, 4, 5],\n",
      "       [5, 7, 1, 1, 2]])\n",
      "afer filtering  on 4rth column\n",
      "array([[5, 2, 8, 3, 4],\n",
      "       [5, 7, 1, 1, 2]])\n"
     ]
    }
   ],
   "source": [
    "# how to filter on a column\n",
    "i_sq = np.array([[5,2,8,3,4],[2,8,6,2,5],[1,6,2,7,7],[0,7,7,4,5],[5,7,1,1,2]])\n",
    "pp(i_sq)\n",
    "ix = i_sq[:,4] < 5 # we sort on the last column, index = 4, it produces a boolean filter\n",
    "i_sq_filtered = i_sq[ix]\n",
    "print('afer filtering  on 4rth column')\n",
    "pp(i_sq_filtered)"
   ]
  },
  {
   "cell_type": "code",
   "execution_count": 84,
   "metadata": {},
   "outputs": [
    {
     "name": "stdout",
     "output_type": "stream",
     "text": [
      "raids in january:13481\n"
     ]
    }
   ],
   "source": [
    "taxi_head = ['pickup_year','pickup_month','pickup_day','pickup_dayofweek','pickup_time','pickup_location_code','dropoff_location_code','trip_distance','trip_length','fare_amount','fees_amount','tolls_amount','tip_amount','total_amount','payment_type']\n",
    "pickup_month_ix = taxi_head.index('pickup_month')\n",
    "pickup_month = taxi[:,pickup_month_ix] #2nd column of the whole dataset\n",
    "\n",
    "january_bool = pickup_month == 1 #creates a bool index\n",
    "january = pickup_month[january_bool]  # elements fro all pickup months only from january\n",
    "\n",
    "january.shape\n",
    "january_rides = january.shape[0] # get number of rows (vec lenght) = number of raids in jan\n",
    "print('raids in january:{}'.format(january_rides))"
   ]
  },
  {
   "cell_type": "code",
   "execution_count": 88,
   "metadata": {},
   "outputs": [
    {
     "name": "stdout",
     "output_type": "stream",
     "text": [
      "array([[ 1,  2,  3],\n",
      "       [ 7,  8,  9],\n",
      "       [10, 11, 12]])\n",
      "'index on columns'\n",
      "array([[ 2,  3],\n",
      "       [ 5,  6],\n",
      "       [ 8,  9],\n",
      "       [11, 12]])\n"
     ]
    }
   ],
   "source": [
    "#indexes on 0th or 1st dimension\n",
    "arr = np.array( [\n",
    "    [1,2,3],\n",
    "    [4,5,6],\n",
    "    [7,8,9],\n",
    "    [10,11,12]\n",
    "])\n",
    "\n",
    "bl_1 = [True, False, True, True]\n",
    "pp(arr[bl_1]) #index on rows\n",
    "\n",
    "pp('index on columns')\n",
    "bl_2 = [False, True, True]\n",
    "pp(arr[:,bl_2]) # filter specific columns"
   ]
  },
  {
   "cell_type": "code",
   "execution_count": 99,
   "metadata": {},
   "outputs": [
    {
     "name": "stdout",
     "output_type": "stream",
     "text": [
      "array([[  2. ,   2. ,  19.3,   5. ],\n",
      "       [  2. ,   2. ,  21.4,   7. ],\n",
      "       [  2. ,   2. ,  12.4,   4. ],\n",
      "       [  2. ,   2. ,  23. ,   1. ],\n",
      "       [  2. ,   2. ,  19.6,   1. ],\n",
      "       [  2. ,   2. ,  17.3,   4. ],\n",
      "       [  3. ,   3. ,  20.6,   6. ],\n",
      "       [  2. ,   2. ,  11.7,   3. ],\n",
      "       [  2. ,   2. ,  17.2,   5. ],\n",
      "       [  2. ,   2. ,  16.6,   5. ],\n",
      "       [  2. ,   2. ,  16.7,   2. ],\n",
      "       [  3. ,   3. ,  17.8,   2. ],\n",
      "       [  2. ,   2. ,  17.2,   2. ],\n",
      "       [  2. ,   2. ,  19.8,   4. ],\n",
      "       [  2. ,   2. ,   9.6,   3. ],\n",
      "       [  2. ,   2. ,   8.6,   3. ],\n",
      "       [  2. ,   2. ,  17.7,   5. ],\n",
      "       [  3. ,   3. ,  16.9,   3. ],\n",
      "       [  2. ,   2. ,  17.9,   6. ],\n",
      "       [  2. ,   2. ,  11.6,   3. ],\n",
      "       [  3. ,   3. ,   8.8,   3. ],\n",
      "       [  2. ,   2. ,  11.7,   4. ],\n",
      "       [  2. ,   2. ,  10.7,   3. ],\n",
      "       [  2. ,   2. ,  15.8,   5. ],\n",
      "       [  2. ,   2. ,  18.7,   4. ],\n",
      "       [  2. ,   2. ,   8.7,   3. ],\n",
      "       [  2. ,   2. ,  27.1,   4. ]])\n",
      "['pickup_location_code',\n",
      " 'dropoff_location_code',\n",
      " 'trip_distance',\n",
      " 'trip_length']\n"
     ]
    }
   ],
   "source": [
    "## how to filter out tax data rows with unrealistic speeds\n",
    "\n",
    "trip_mph = taxi[:,7] / ( taxi[:,8] / 3600 )\n",
    "trip_mph_bl = trip_mph > 10000 #filter\n",
    "\n",
    "trips_over_high = taxi[trip_mph_bl,5:9] #subcolumns 5 to 9\n",
    "pp(trips_over_high)\n",
    "pp(taxi_head[5:9])"
   ]
  },
  {
   "cell_type": "code",
   "execution_count": 105,
   "metadata": {},
   "outputs": [
    {
     "name": "stdout",
     "output_type": "stream",
     "text": [
      "array([[  4.00000000e+00,   2.00000000e+00,   2.14500000e+01,\n",
      "          2.00400000e+03,   5.20000000e+01,   8.00000000e-01,\n",
      "          0.00000000e+00,   5.28000000e+01,   1.05600000e+02],\n",
      "       [  3.00000000e+00,   4.00000000e+00,   9.20000000e+00,\n",
      "          1.04100000e+03,   2.70000000e+01,   1.30000000e+00,\n",
      "          5.54000000e+00,   6.00000000e+01,   9.38400000e+01]])\n"
     ]
    }
   ],
   "source": [
    "##find rows with highest tip amounts\n",
    "tips = taxi[:,12]\n",
    "tip_bool = tips > 50\n",
    "top_tips = taxi[tip_bool, 5:14]\n",
    "pp(top_tips[0:2,])"
   ]
  },
  {
   "cell_type": "code",
   "execution_count": 106,
   "metadata": {},
   "outputs": [],
   "source": [
    "taxi_modified = taxi.copy()\n",
    "\n",
    "taxi_modified[28214,5] = 1 #modify dataset cell\n",
    "taxi_modified[:,0] = 16 #modify dataset 1st column\n",
    "taxi_modified[1800:1802,7] = taxi_modified[:,7].mean()"
   ]
  },
  {
   "cell_type": "code",
   "execution_count": 107,
   "metadata": {},
   "outputs": [
    {
     "name": "stdout",
     "output_type": "stream",
     "text": [
      "array([ 1,  2, 99, 99, 99])\n"
     ]
    }
   ],
   "source": [
    "#assign values based on filter\n",
    "a = np.array([1, 2, 3, 4, 5])\n",
    "a[a>2] = 99\n",
    "pp(a)"
   ]
  },
  {
   "cell_type": "code",
   "execution_count": 108,
   "metadata": {},
   "outputs": [
    {
     "name": "stdout",
     "output_type": "stream",
     "text": [
      "array([[ 1,  2,  3],\n",
      "       [ 4, 99,  6],\n",
      "       [ 7, 99,  9]])\n"
     ]
    }
   ],
   "source": [
    "#how to assign values to specific column, based on filter\n",
    "c = np.array([[1, 2, 3],\n",
    "                  [4, 5, 6],\n",
    "                  [7, 8, 9]])\n",
    "\n",
    "\n",
    "#first column c[:,1]>2 is a filter\n",
    "c[c[:,1] > 2, 1] = 99 #assign to 2nd column a value based on filter on 1st col\n",
    "pp(c)"
   ]
  },
  {
   "cell_type": "code",
   "execution_count": 111,
   "metadata": {},
   "outputs": [
    {
     "name": "stdout",
     "output_type": "stream",
     "text": [
      "'taxi travels to jfk:11832'\n",
      "'taxi travels to laguardia:16602'\n",
      "'taxi travels to newwark:63'\n"
     ]
    }
   ],
   "source": [
    "##challenges\n",
    "jfk=taxi[taxi[:,5]==2,:] # 2 is id of jfk\n",
    "laguardia=taxi[taxi[:,5]==3,:]  # 4 is id of laguardia\n",
    "newark=taxi[taxi[:,5]==5,:] #  5 is id of newwark\n",
    "\n",
    "jfk_count = taxi[taxi[:,6]==2,:].shape[0]\n",
    "laguardia_count = taxi[taxi[:,6]==3,:].shape[0]\n",
    "newark_count = taxi[taxi[:,6]==5,:].shape[0]\n",
    "\n",
    "pp('taxi travels to jfk:{}'.format(jfk_count))\n",
    "pp('taxi travels to laguardia:{}'.format(laguardia_count))\n",
    "pp('taxi travels to newwark:{}'.format(newark_count))"
   ]
  },
  {
   "cell_type": "code",
   "execution_count": 113,
   "metadata": {},
   "outputs": [
    {
     "name": "stdout",
     "output_type": "stream",
     "text": [
      "('uncleaned 12.6674260830728 mean distance vs cleaned 12.666396599932893 mean '\n",
      " 'distance')\n"
     ]
    }
   ],
   "source": [
    "##challenge to remove the bad data\n",
    "trip_mph = taxi[:,7] / ( taxi[:,8] / 3600 )\n",
    "cleaned_taxi = taxi[trip_mph < 100,:]  #safe to assume that travels < 100 miles\n",
    "\n",
    "notcleaned_mean_distance = taxi[:,7].mean()\n",
    "mean_distance = cleaned_taxi[:,7].mean()\n",
    "mean_length   = cleaned_taxi[:,8].mean()\n",
    "mean_total_amount   = cleaned_taxi[:,13].mean()\n",
    "mean_mph   = trip_mph[trip_mph < 100].mean()\n",
    "\n",
    "pp('uncleaned {} mean distance vs cleaned {} mean distance'.format(notcleaned_mean_distance,mean_distance))"
   ]
  },
  {
   "cell_type": "markdown",
   "metadata": {},
   "source": [
    "## PANDAS"
   ]
  },
  {
   "cell_type": "code",
   "execution_count": 114,
   "metadata": {},
   "outputs": [],
   "source": [
    "import pandas as pd"
   ]
  },
  {
   "cell_type": "code",
   "execution_count": 115,
   "metadata": {},
   "outputs": [],
   "source": [
    "def load_header(filename, separator=','):\n",
    "    cols = []\n",
    "    with open(filename, mode=\"rt\", encoding='utf-8') as f:\n",
    "        chars = [line.split('\\n')[0] for line in f.readlines()[0]]\n",
    "    gchars = ''.join(chars)\n",
    "    cols = gchars.split(separator)\n",
    "    return cols\n",
    "\n",
    "def get_colidx(colname, columns):\n",
    "    ix = columns.index(colname)   # index()  api of list\n",
    "    return ix"
   ]
  },
  {
   "cell_type": "code",
   "execution_count": 116,
   "metadata": {},
   "outputs": [
    {
     "name": "stdout",
     "output_type": "stream",
     "text": [
      "['company',\n",
      " 'rank',\n",
      " 'revenues',\n",
      " 'revenue_change',\n",
      " 'profits',\n",
      " 'assets',\n",
      " 'profit_change',\n",
      " 'ceo',\n",
      " 'industry',\n",
      " 'sector',\n",
      " 'previous_rank',\n",
      " 'country',\n",
      " 'hq_location',\n",
      " 'website',\n",
      " 'years_on_global_500_list',\n",
      " 'employees',\n",
      " 'total_stockholder_equity']\n"
     ]
    }
   ],
   "source": [
    "fn=\"f500.csv\"\n",
    "dt_head=load_header(fn)\n",
    "pp(dt_head)"
   ]
  },
  {
   "cell_type": "code",
   "execution_count": 118,
   "metadata": {},
   "outputs": [
    {
     "name": "stdout",
     "output_type": "stream",
     "text": [
      "4\n"
     ]
    }
   ],
   "source": [
    "pp(get_colidx(\"profits\", dt_head))"
   ]
  },
  {
   "cell_type": "markdown",
   "metadata": {},
   "source": [
    "### loading df from csv specifying index column"
   ]
  },
  {
   "cell_type": "code",
   "execution_count": 182,
   "metadata": {},
   "outputs": [],
   "source": [
    "\n",
    "f500 = pd.read_csv(fn, index_col=0) # !here is what you defined as index!!\n",
    "#company column will be used as index"
   ]
  },
  {
   "cell_type": "code",
   "execution_count": 183,
   "metadata": {},
   "outputs": [
    {
     "name": "stdout",
     "output_type": "stream",
     "text": [
      "(500, 16)\n",
      "<class 'pandas.core.frame.DataFrame'>\n",
      "Index: 500 entries, Walmart to AutoNation\n",
      "Data columns (total 16 columns):\n",
      "rank                        500 non-null int64\n",
      "revenues                    500 non-null int64\n",
      "revenue_change              498 non-null float64\n",
      "profits                     499 non-null float64\n",
      "assets                      500 non-null int64\n",
      "profit_change               436 non-null float64\n",
      "ceo                         500 non-null object\n",
      "industry                    500 non-null object\n",
      "sector                      500 non-null object\n",
      "previous_rank               500 non-null int64\n",
      "country                     500 non-null object\n",
      "hq_location                 500 non-null object\n",
      "website                     500 non-null object\n",
      "years_on_global_500_list    500 non-null int64\n",
      "employees                   500 non-null int64\n",
      "total_stockholder_equity    500 non-null int64\n",
      "dtypes: float64(3), int64(7), object(6)\n",
      "memory usage: 66.4+ KB\n",
      "None\n"
     ]
    }
   ],
   "source": [
    "f500_type = type(f500)\n",
    "f500_shape = f500.shape\n",
    "pp(f500_shape)\n",
    "\n",
    "pp(f500.info()) #summary of columns"
   ]
  },
  {
   "cell_type": "code",
   "execution_count": 125,
   "metadata": {},
   "outputs": [
    {
     "name": "stdout",
     "output_type": "stream",
     "text": [
      "            rank  revenues  revenue_change  profits  assets  profit_change  \\\n",
      "company                                                                      \n",
      "Walmart        1    485873             0.8  13643.0  198825           -7.2   \n",
      "State Grid     2    315199            -4.4   9571.3  489838           -6.2   \n",
      "\n",
      "                            ceo               industry     sector  \\\n",
      "company                                                             \n",
      "Walmart     C. Douglas McMillon  General Merchandisers  Retailing   \n",
      "State Grid              Kou Wei              Utilities     Energy   \n",
      "\n",
      "            previous_rank country      hq_location                 website  \\\n",
      "company                                                                      \n",
      "Walmart                 1     USA  Bentonville, AR  http://www.walmart.com   \n",
      "State Grid              2   China   Beijing, China  http://www.sgcc.com.cn   \n",
      "\n",
      "            years_on_global_500_list  employees  total_stockholder_equity  \n",
      "company                                                                    \n",
      "Walmart                           23    2300000                     77798  \n",
      "State Grid                        17     926067                    209456  \n"
     ]
    }
   ],
   "source": [
    "f500_head = f500.head(2)\n",
    "f500_tail = f500.tail(2)\n",
    "pp(f500_head)"
   ]
  },
  {
   "cell_type": "code",
   "execution_count": 126,
   "metadata": {},
   "outputs": [],
   "source": [
    "#accessing subcolumns\n",
    "industries = f500.loc[:,'industry'] #1 column\n",
    "#selected columns\n",
    "previous = f500.loc[:,['rank','previous_rank','years_on_global_500_list']]\n",
    "#selected columns with numeric indexes\n",
    "financial_data = f500.iloc[:,1:6]"
   ]
  },
  {
   "cell_type": "code",
   "execution_count": 129,
   "metadata": {},
   "outputs": [
    {
     "name": "stdout",
     "output_type": "stream",
     "text": [
      "company\n",
      "Exxon Mobil     Darren W. Woods\n",
      "BP             Robert W. Dudley\n",
      "Chevron          John S. Watson\n",
      "Name: ceo, dtype: object\n"
     ]
    }
   ],
   "source": [
    "ceos = f500[\"ceo\"] #get one column\n",
    "walmart = ceos['Walmart']\n",
    "apple_to_samsung = ceos['Apple':'Samsung Electronics']\n",
    "oil_companies = ceos[['Exxon Mobil','BP', 'Chevron']]\n",
    "pp(oil_companies)"
   ]
  },
  {
   "cell_type": "code",
   "execution_count": 133,
   "metadata": {},
   "outputs": [],
   "source": [
    "#access specific index names\n",
    "drink_companies = f500.loc[[\"Anheuser-Busch InBev\", \"Coca-Cola\", \"Heineken Holding\"]]\n",
    "big_movers = f500.loc[['Aviva','HP','JD.com','BHP Billiton']]\n",
    "middle_companies=f500.loc['Tata Motors':'Nationwide',[\"rank\", \"country\"]]\n",
    "#pp(big_movers)"
   ]
  },
  {
   "cell_type": "code",
   "execution_count": 135,
   "metadata": {},
   "outputs": [
    {
     "data": {
      "text/html": [
       "<div>\n",
       "<style scoped>\n",
       "    .dataframe tbody tr th:only-of-type {\n",
       "        vertical-align: middle;\n",
       "    }\n",
       "\n",
       "    .dataframe tbody tr th {\n",
       "        vertical-align: top;\n",
       "    }\n",
       "\n",
       "    .dataframe thead th {\n",
       "        text-align: right;\n",
       "    }\n",
       "</style>\n",
       "<table border=\"1\" class=\"dataframe\">\n",
       "  <thead>\n",
       "    <tr style=\"text-align: right;\">\n",
       "      <th></th>\n",
       "      <th>rank</th>\n",
       "      <th>revenues</th>\n",
       "      <th>revenue_change</th>\n",
       "      <th>profits</th>\n",
       "      <th>assets</th>\n",
       "      <th>profit_change</th>\n",
       "      <th>previous_rank</th>\n",
       "      <th>years_on_global_500_list</th>\n",
       "      <th>employees</th>\n",
       "      <th>total_stockholder_equity</th>\n",
       "    </tr>\n",
       "  </thead>\n",
       "  <tbody>\n",
       "    <tr>\n",
       "      <th>count</th>\n",
       "      <td>500.000000</td>\n",
       "      <td>500.000000</td>\n",
       "      <td>498.000000</td>\n",
       "      <td>499.000000</td>\n",
       "      <td>5.000000e+02</td>\n",
       "      <td>436.000000</td>\n",
       "      <td>500.000000</td>\n",
       "      <td>500.000000</td>\n",
       "      <td>5.000000e+02</td>\n",
       "      <td>500.000000</td>\n",
       "    </tr>\n",
       "    <tr>\n",
       "      <th>mean</th>\n",
       "      <td>250.500000</td>\n",
       "      <td>55416.358000</td>\n",
       "      <td>4.538353</td>\n",
       "      <td>3055.203206</td>\n",
       "      <td>2.436323e+05</td>\n",
       "      <td>24.152752</td>\n",
       "      <td>222.134000</td>\n",
       "      <td>15.036000</td>\n",
       "      <td>1.339983e+05</td>\n",
       "      <td>30628.076000</td>\n",
       "    </tr>\n",
       "    <tr>\n",
       "      <th>std</th>\n",
       "      <td>144.481833</td>\n",
       "      <td>45725.478963</td>\n",
       "      <td>28.549067</td>\n",
       "      <td>5171.981071</td>\n",
       "      <td>4.851937e+05</td>\n",
       "      <td>437.509566</td>\n",
       "      <td>146.941961</td>\n",
       "      <td>7.932752</td>\n",
       "      <td>1.700878e+05</td>\n",
       "      <td>43642.576833</td>\n",
       "    </tr>\n",
       "    <tr>\n",
       "      <th>min</th>\n",
       "      <td>1.000000</td>\n",
       "      <td>21609.000000</td>\n",
       "      <td>-67.300000</td>\n",
       "      <td>-13038.000000</td>\n",
       "      <td>3.717000e+03</td>\n",
       "      <td>-793.700000</td>\n",
       "      <td>0.000000</td>\n",
       "      <td>1.000000</td>\n",
       "      <td>3.280000e+02</td>\n",
       "      <td>-59909.000000</td>\n",
       "    </tr>\n",
       "    <tr>\n",
       "      <th>25%</th>\n",
       "      <td>125.750000</td>\n",
       "      <td>29003.000000</td>\n",
       "      <td>-5.900000</td>\n",
       "      <td>556.950000</td>\n",
       "      <td>3.658850e+04</td>\n",
       "      <td>-22.775000</td>\n",
       "      <td>92.750000</td>\n",
       "      <td>7.000000</td>\n",
       "      <td>4.293250e+04</td>\n",
       "      <td>7553.750000</td>\n",
       "    </tr>\n",
       "    <tr>\n",
       "      <th>50%</th>\n",
       "      <td>250.500000</td>\n",
       "      <td>40236.000000</td>\n",
       "      <td>0.550000</td>\n",
       "      <td>1761.600000</td>\n",
       "      <td>7.326150e+04</td>\n",
       "      <td>-0.350000</td>\n",
       "      <td>219.500000</td>\n",
       "      <td>17.000000</td>\n",
       "      <td>9.291050e+04</td>\n",
       "      <td>15809.500000</td>\n",
       "    </tr>\n",
       "    <tr>\n",
       "      <th>75%</th>\n",
       "      <td>375.250000</td>\n",
       "      <td>63926.750000</td>\n",
       "      <td>6.975000</td>\n",
       "      <td>3954.000000</td>\n",
       "      <td>1.805640e+05</td>\n",
       "      <td>17.700000</td>\n",
       "      <td>347.250000</td>\n",
       "      <td>23.000000</td>\n",
       "      <td>1.689172e+05</td>\n",
       "      <td>37828.500000</td>\n",
       "    </tr>\n",
       "    <tr>\n",
       "      <th>max</th>\n",
       "      <td>500.000000</td>\n",
       "      <td>485873.000000</td>\n",
       "      <td>442.300000</td>\n",
       "      <td>45687.000000</td>\n",
       "      <td>3.473238e+06</td>\n",
       "      <td>8909.500000</td>\n",
       "      <td>500.000000</td>\n",
       "      <td>23.000000</td>\n",
       "      <td>2.300000e+06</td>\n",
       "      <td>301893.000000</td>\n",
       "    </tr>\n",
       "  </tbody>\n",
       "</table>\n",
       "</div>"
      ],
      "text/plain": [
       "             rank       revenues  revenue_change       profits        assets  \\\n",
       "count  500.000000     500.000000      498.000000    499.000000  5.000000e+02   \n",
       "mean   250.500000   55416.358000        4.538353   3055.203206  2.436323e+05   \n",
       "std    144.481833   45725.478963       28.549067   5171.981071  4.851937e+05   \n",
       "min      1.000000   21609.000000      -67.300000 -13038.000000  3.717000e+03   \n",
       "25%    125.750000   29003.000000       -5.900000    556.950000  3.658850e+04   \n",
       "50%    250.500000   40236.000000        0.550000   1761.600000  7.326150e+04   \n",
       "75%    375.250000   63926.750000        6.975000   3954.000000  1.805640e+05   \n",
       "max    500.000000  485873.000000      442.300000  45687.000000  3.473238e+06   \n",
       "\n",
       "       profit_change  previous_rank  years_on_global_500_list     employees  \\\n",
       "count     436.000000     500.000000                500.000000  5.000000e+02   \n",
       "mean       24.152752     222.134000                 15.036000  1.339983e+05   \n",
       "std       437.509566     146.941961                  7.932752  1.700878e+05   \n",
       "min      -793.700000       0.000000                  1.000000  3.280000e+02   \n",
       "25%       -22.775000      92.750000                  7.000000  4.293250e+04   \n",
       "50%        -0.350000     219.500000                 17.000000  9.291050e+04   \n",
       "75%        17.700000     347.250000                 23.000000  1.689172e+05   \n",
       "max      8909.500000     500.000000                 23.000000  2.300000e+06   \n",
       "\n",
       "       total_stockholder_equity  \n",
       "count                500.000000  \n",
       "mean               30628.076000  \n",
       "std                43642.576833  \n",
       "min               -59909.000000  \n",
       "25%                 7553.750000  \n",
       "50%                15809.500000  \n",
       "75%                37828.500000  \n",
       "max               301893.000000  "
      ]
     },
     "execution_count": 135,
     "metadata": {},
     "output_type": "execute_result"
    }
   ],
   "source": [
    "## describe() on column gives summary statistics\n",
    "profits_desc = f500.profits.describe()\n",
    "f500.describe()  #how to get summary stats on whole dataset"
   ]
  },
  {
   "cell_type": "code",
   "execution_count": 139,
   "metadata": {},
   "outputs": [
    {
     "data": {
      "text/plain": [
       "USA        132\n",
       "China      109\n",
       "Japan       51\n",
       "Germany     29\n",
       "France      29\n",
       "Name: country, dtype: int64"
      ]
     },
     "execution_count": 139,
     "metadata": {},
     "output_type": "execute_result"
    }
   ],
   "source": [
    "#record counts\n",
    "f500[\"country\"].value_counts().head(5)"
   ]
  },
  {
   "cell_type": "code",
   "execution_count": 225,
   "metadata": {},
   "outputs": [
    {
     "data": {
      "text/plain": [
       "array(['USA', 'China', 'Japan', 'Germany', 'Netherlands'], dtype=object)"
      ]
     },
     "execution_count": 225,
     "metadata": {},
     "output_type": "execute_result"
    }
   ],
   "source": [
    "##unique values \n",
    "lst_ctries=f500[\"country\"].unique()\n",
    "lst_ctries[0:5] #fist 5 countries"
   ]
  },
  {
   "cell_type": "code",
   "execution_count": 145,
   "metadata": {},
   "outputs": [
    {
     "data": {
      "text/plain": [
       "rank                            500.0\n",
       "revenues                     485873.0\n",
       "revenue_change                  442.3\n",
       "profits                       45687.0\n",
       "assets                      3473238.0\n",
       "profit_change                  8909.5\n",
       "previous_rank                   500.0\n",
       "years_on_global_500_list         23.0\n",
       "employees                   2300000.0\n",
       "total_stockholder_equity     301893.0\n",
       "dtype: float64"
      ]
     },
     "execution_count": 145,
     "metadata": {},
     "output_type": "execute_result"
    }
   ],
   "source": [
    "f500.min(numeric_only=True)\n",
    "f500.median(numeric_only=True)\n",
    "f500.max(numeric_only=True)"
   ]
  },
  {
   "cell_type": "code",
   "execution_count": 148,
   "metadata": {},
   "outputs": [
    {
     "name": "stdout",
     "output_type": "stream",
     "text": [
      "<class 'pandas.core.frame.DataFrame'>\n",
      "Index: 500 entries, Walmart to AutoNation\n",
      "Data columns (total 17 columns):\n",
      "rank                        500 non-null int64\n",
      "revenues                    500 non-null int64\n",
      "revenue_change              498 non-null float64\n",
      "profits                     499 non-null float64\n",
      "assets                      500 non-null int64\n",
      "profit_change               436 non-null float64\n",
      "ceo                         500 non-null object\n",
      "industry                    500 non-null object\n",
      "sector                      500 non-null object\n",
      "previous_rank               500 non-null int64\n",
      "country                     500 non-null object\n",
      "hq_location                 500 non-null object\n",
      "website                     500 non-null object\n",
      "years_on_global_500_list    500 non-null int64\n",
      "employees                   500 non-null int64\n",
      "total_stockholder_equity    500 non-null int64\n",
      "revenues_b                  500 non-null float64\n",
      "dtypes: float64(4), int64(7), object(6)\n",
      "memory usage: 90.3+ KB\n"
     ]
    }
   ],
   "source": [
    "#adding a derived column\n",
    "f500[\"revenues_b\"] = f500[\"revenues\"] / 1000\n",
    "f500.info()"
   ]
  },
  {
   "cell_type": "code",
   "execution_count": 163,
   "metadata": {},
   "outputs": [
    {
     "data": {
      "text/html": [
       "<div>\n",
       "<style scoped>\n",
       "    .dataframe tbody tr th:only-of-type {\n",
       "        vertical-align: middle;\n",
       "    }\n",
       "\n",
       "    .dataframe tbody tr th {\n",
       "        vertical-align: top;\n",
       "    }\n",
       "\n",
       "    .dataframe thead th {\n",
       "        text-align: right;\n",
       "    }\n",
       "</style>\n",
       "<table border=\"1\" class=\"dataframe\">\n",
       "  <thead>\n",
       "    <tr style=\"text-align: right;\">\n",
       "      <th></th>\n",
       "      <th>rank</th>\n",
       "      <th>revenues</th>\n",
       "      <th>revenue_change</th>\n",
       "      <th>profits</th>\n",
       "      <th>assets</th>\n",
       "      <th>profit_change</th>\n",
       "      <th>ceo</th>\n",
       "      <th>industry</th>\n",
       "      <th>sector</th>\n",
       "      <th>previous_rank</th>\n",
       "      <th>country</th>\n",
       "      <th>hq_location</th>\n",
       "      <th>website</th>\n",
       "      <th>years_on_global_500_list</th>\n",
       "      <th>employees</th>\n",
       "      <th>total_stockholder_equity</th>\n",
       "      <th>revenues_b</th>\n",
       "    </tr>\n",
       "    <tr>\n",
       "      <th>company</th>\n",
       "      <th></th>\n",
       "      <th></th>\n",
       "      <th></th>\n",
       "      <th></th>\n",
       "      <th></th>\n",
       "      <th></th>\n",
       "      <th></th>\n",
       "      <th></th>\n",
       "      <th></th>\n",
       "      <th></th>\n",
       "      <th></th>\n",
       "      <th></th>\n",
       "      <th></th>\n",
       "      <th></th>\n",
       "      <th></th>\n",
       "      <th></th>\n",
       "      <th></th>\n",
       "    </tr>\n",
       "  </thead>\n",
       "  <tbody>\n",
       "    <tr>\n",
       "      <th>Samsung Electronics</th>\n",
       "      <td>15</td>\n",
       "      <td>173957</td>\n",
       "      <td>-2.0</td>\n",
       "      <td>19316.5</td>\n",
       "      <td>217104</td>\n",
       "      <td>16.8</td>\n",
       "      <td>Oh-Hyun Kwon</td>\n",
       "      <td>Electronics, Electrical Equip.</td>\n",
       "      <td>Technology</td>\n",
       "      <td>13</td>\n",
       "      <td>South Korea</td>\n",
       "      <td>Suwon, South Korea</td>\n",
       "      <td>http://www.samsung.com</td>\n",
       "      <td>23</td>\n",
       "      <td>325000</td>\n",
       "      <td>154376</td>\n",
       "      <td>173.957</td>\n",
       "    </tr>\n",
       "    <tr>\n",
       "      <th>Hyundai Motor</th>\n",
       "      <td>78</td>\n",
       "      <td>80701</td>\n",
       "      <td>-0.8</td>\n",
       "      <td>4659.0</td>\n",
       "      <td>148092</td>\n",
       "      <td>-17.9</td>\n",
       "      <td>Mong-Koo Chung</td>\n",
       "      <td>Motor Vehicles and Parts</td>\n",
       "      <td>Motor Vehicles &amp; Parts</td>\n",
       "      <td>84</td>\n",
       "      <td>South Korea</td>\n",
       "      <td>Seoul, South Korea</td>\n",
       "      <td>http://worldwide.hyundai.com</td>\n",
       "      <td>22</td>\n",
       "      <td>129315</td>\n",
       "      <td>55639</td>\n",
       "      <td>80.701</td>\n",
       "    </tr>\n",
       "    <tr>\n",
       "      <th>SK Holdings</th>\n",
       "      <td>95</td>\n",
       "      <td>72579</td>\n",
       "      <td>107.4</td>\n",
       "      <td>659.7</td>\n",
       "      <td>85332</td>\n",
       "      <td>-86.0</td>\n",
       "      <td>Tae Won Chey</td>\n",
       "      <td>Petroleum Refining</td>\n",
       "      <td>Energy</td>\n",
       "      <td>294</td>\n",
       "      <td>South Korea</td>\n",
       "      <td>Seoul, South Korea</td>\n",
       "      <td>http://www.sk.co.kr</td>\n",
       "      <td>2</td>\n",
       "      <td>84000</td>\n",
       "      <td>10858</td>\n",
       "      <td>72.579</td>\n",
       "    </tr>\n",
       "    <tr>\n",
       "      <th>Korea Electric Power</th>\n",
       "      <td>177</td>\n",
       "      <td>51500</td>\n",
       "      <td>-0.6</td>\n",
       "      <td>6074.1</td>\n",
       "      <td>147265</td>\n",
       "      <td>-48.3</td>\n",
       "      <td>Hwan-Eik Cho</td>\n",
       "      <td>Utilities</td>\n",
       "      <td>Energy</td>\n",
       "      <td>172</td>\n",
       "      <td>South Korea</td>\n",
       "      <td>Jeollanam-do, South Korea</td>\n",
       "      <td>http://www.kepco.co.kr</td>\n",
       "      <td>23</td>\n",
       "      <td>43688</td>\n",
       "      <td>59394</td>\n",
       "      <td>51.500</td>\n",
       "    </tr>\n",
       "    <tr>\n",
       "      <th>LG Electronics</th>\n",
       "      <td>201</td>\n",
       "      <td>47712</td>\n",
       "      <td>-4.6</td>\n",
       "      <td>66.2</td>\n",
       "      <td>31348</td>\n",
       "      <td>-39.8</td>\n",
       "      <td>Seong-Jin Jo</td>\n",
       "      <td>Electronics, Electrical Equip.</td>\n",
       "      <td>Technology</td>\n",
       "      <td>180</td>\n",
       "      <td>South Korea</td>\n",
       "      <td>Seoul, South Korea</td>\n",
       "      <td>http://www.lg.com</td>\n",
       "      <td>17</td>\n",
       "      <td>75000</td>\n",
       "      <td>9926</td>\n",
       "      <td>47.712</td>\n",
       "    </tr>\n",
       "  </tbody>\n",
       "</table>\n",
       "</div>"
      ],
      "text/plain": [
       "                      rank  revenues  revenue_change  profits  assets  \\\n",
       "company                                                                 \n",
       "Samsung Electronics     15    173957            -2.0  19316.5  217104   \n",
       "Hyundai Motor           78     80701            -0.8   4659.0  148092   \n",
       "SK Holdings             95     72579           107.4    659.7   85332   \n",
       "Korea Electric Power   177     51500            -0.6   6074.1  147265   \n",
       "LG Electronics         201     47712            -4.6     66.2   31348   \n",
       "\n",
       "                      profit_change             ceo  \\\n",
       "company                                               \n",
       "Samsung Electronics            16.8    Oh-Hyun Kwon   \n",
       "Hyundai Motor                 -17.9  Mong-Koo Chung   \n",
       "SK Holdings                   -86.0    Tae Won Chey   \n",
       "Korea Electric Power          -48.3    Hwan-Eik Cho   \n",
       "LG Electronics                -39.8    Seong-Jin Jo   \n",
       "\n",
       "                                            industry                  sector  \\\n",
       "company                                                                        \n",
       "Samsung Electronics   Electronics, Electrical Equip.              Technology   \n",
       "Hyundai Motor               Motor Vehicles and Parts  Motor Vehicles & Parts   \n",
       "SK Holdings                       Petroleum Refining                  Energy   \n",
       "Korea Electric Power                       Utilities                  Energy   \n",
       "LG Electronics        Electronics, Electrical Equip.              Technology   \n",
       "\n",
       "                      previous_rank      country                hq_location  \\\n",
       "company                                                                       \n",
       "Samsung Electronics              13  South Korea         Suwon, South Korea   \n",
       "Hyundai Motor                    84  South Korea         Seoul, South Korea   \n",
       "SK Holdings                     294  South Korea         Seoul, South Korea   \n",
       "Korea Electric Power            172  South Korea  Jeollanam-do, South Korea   \n",
       "LG Electronics                  180  South Korea         Seoul, South Korea   \n",
       "\n",
       "                                           website  years_on_global_500_list  \\\n",
       "company                                                                        \n",
       "Samsung Electronics         http://www.samsung.com                        23   \n",
       "Hyundai Motor         http://worldwide.hyundai.com                        22   \n",
       "SK Holdings                    http://www.sk.co.kr                         2   \n",
       "Korea Electric Power        http://www.kepco.co.kr                        23   \n",
       "LG Electronics                   http://www.lg.com                        17   \n",
       "\n",
       "                      employees  total_stockholder_equity  revenues_b  \n",
       "company                                                                \n",
       "Samsung Electronics      325000                    154376     173.957  \n",
       "Hyundai Motor            129315                     55639      80.701  \n",
       "SK Holdings               84000                     10858      72.579  \n",
       "Korea Electric Power      43688                     59394      51.500  \n",
       "LG Electronics            75000                      9926      47.712  "
      ]
     },
     "execution_count": 163,
     "metadata": {},
     "output_type": "execute_result"
    }
   ],
   "source": [
    "#make a mask on index\n",
    "kr_records = f500[\"country\"] == 'South Korea'\n",
    "#list(kr_records)\n",
    "f500[kr_records][0:5] # first 5 records with country corea"
   ]
  },
  {
   "cell_type": "code",
   "execution_count": 184,
   "metadata": {},
   "outputs": [
    {
     "name": "stdout",
     "output_type": "stream",
     "text": [
      "NaN       33\n",
      " 471.0     1\n",
      " 234.0     1\n",
      " 125.0     1\n",
      " 166.0     1\n",
      "Name: previous_rank, dtype: int64\n"
     ]
    },
    {
     "data": {
      "text/html": [
       "<div>\n",
       "<style scoped>\n",
       "    .dataframe tbody tr th:only-of-type {\n",
       "        vertical-align: middle;\n",
       "    }\n",
       "\n",
       "    .dataframe tbody tr th {\n",
       "        vertical-align: top;\n",
       "    }\n",
       "\n",
       "    .dataframe thead th {\n",
       "        text-align: right;\n",
       "    }\n",
       "</style>\n",
       "<table border=\"1\" class=\"dataframe\">\n",
       "  <thead>\n",
       "    <tr style=\"text-align: right;\">\n",
       "      <th></th>\n",
       "      <th>rank</th>\n",
       "      <th>revenues</th>\n",
       "      <th>revenue_change</th>\n",
       "      <th>profits</th>\n",
       "      <th>assets</th>\n",
       "      <th>profit_change</th>\n",
       "      <th>ceo</th>\n",
       "      <th>industry</th>\n",
       "      <th>sector</th>\n",
       "      <th>previous_rank</th>\n",
       "    </tr>\n",
       "    <tr>\n",
       "      <th>company</th>\n",
       "      <th></th>\n",
       "      <th></th>\n",
       "      <th></th>\n",
       "      <th></th>\n",
       "      <th></th>\n",
       "      <th></th>\n",
       "      <th></th>\n",
       "      <th></th>\n",
       "      <th></th>\n",
       "      <th></th>\n",
       "    </tr>\n",
       "  </thead>\n",
       "  <tbody>\n",
       "    <tr>\n",
       "      <th>Legal &amp; General Group</th>\n",
       "      <td>49</td>\n",
       "      <td>105235</td>\n",
       "      <td>442.3</td>\n",
       "      <td>1697.9</td>\n",
       "      <td>577954</td>\n",
       "      <td>3.4</td>\n",
       "      <td>Nigel Wilson</td>\n",
       "      <td>Insurance: Life, Health (stock)</td>\n",
       "      <td>Financials</td>\n",
       "      <td>NaN</td>\n",
       "    </tr>\n",
       "    <tr>\n",
       "      <th>Uniper</th>\n",
       "      <td>91</td>\n",
       "      <td>74407</td>\n",
       "      <td>NaN</td>\n",
       "      <td>-3557.5</td>\n",
       "      <td>51541</td>\n",
       "      <td>NaN</td>\n",
       "      <td>Klaus Schafer</td>\n",
       "      <td>Energy</td>\n",
       "      <td>Energy</td>\n",
       "      <td>NaN</td>\n",
       "    </tr>\n",
       "    <tr>\n",
       "      <th>Dell Technologies</th>\n",
       "      <td>124</td>\n",
       "      <td>64806</td>\n",
       "      <td>18.1</td>\n",
       "      <td>-1672.0</td>\n",
       "      <td>118206</td>\n",
       "      <td>NaN</td>\n",
       "      <td>Michael S. Dell</td>\n",
       "      <td>Computers, Office Equipment</td>\n",
       "      <td>Technology</td>\n",
       "      <td>NaN</td>\n",
       "    </tr>\n",
       "    <tr>\n",
       "      <th>Anbang Insurance Group</th>\n",
       "      <td>139</td>\n",
       "      <td>60800</td>\n",
       "      <td>124.0</td>\n",
       "      <td>3883.9</td>\n",
       "      <td>430040</td>\n",
       "      <td>0.9</td>\n",
       "      <td>Wu Xiaohui</td>\n",
       "      <td>Insurance: Life, Health (Mutual)</td>\n",
       "      <td>Financials</td>\n",
       "      <td>NaN</td>\n",
       "    </tr>\n",
       "    <tr>\n",
       "      <th>Albertsons Cos.</th>\n",
       "      <td>141</td>\n",
       "      <td>59678</td>\n",
       "      <td>1.6</td>\n",
       "      <td>-373.3</td>\n",
       "      <td>23755</td>\n",
       "      <td>NaN</td>\n",
       "      <td>Robert G. Miller</td>\n",
       "      <td>Food and Drug Stores</td>\n",
       "      <td>Food &amp; Drug Stores</td>\n",
       "      <td>NaN</td>\n",
       "    </tr>\n",
       "  </tbody>\n",
       "</table>\n",
       "</div>"
      ],
      "text/plain": [
       "                        rank  revenues  revenue_change  profits  assets  \\\n",
       "company                                                                   \n",
       "Legal & General Group     49    105235           442.3   1697.9  577954   \n",
       "Uniper                    91     74407             NaN  -3557.5   51541   \n",
       "Dell Technologies        124     64806            18.1  -1672.0  118206   \n",
       "Anbang Insurance Group   139     60800           124.0   3883.9  430040   \n",
       "Albertsons Cos.          141     59678             1.6   -373.3   23755   \n",
       "\n",
       "                        profit_change               ceo  \\\n",
       "company                                                   \n",
       "Legal & General Group             3.4      Nigel Wilson   \n",
       "Uniper                            NaN     Klaus Schafer   \n",
       "Dell Technologies                 NaN   Michael S. Dell   \n",
       "Anbang Insurance Group            0.9        Wu Xiaohui   \n",
       "Albertsons Cos.                   NaN  Robert G. Miller   \n",
       "\n",
       "                                                industry              sector  \\\n",
       "company                                                                        \n",
       "Legal & General Group    Insurance: Life, Health (stock)          Financials   \n",
       "Uniper                                            Energy              Energy   \n",
       "Dell Technologies            Computers, Office Equipment          Technology   \n",
       "Anbang Insurance Group  Insurance: Life, Health (Mutual)          Financials   \n",
       "Albertsons Cos.                     Food and Drug Stores  Food & Drug Stores   \n",
       "\n",
       "                        previous_rank  \n",
       "company                                \n",
       "Legal & General Group             NaN  \n",
       "Uniper                            NaN  \n",
       "Dell Technologies                 NaN  \n",
       "Anbang Insurance Group            NaN  \n",
       "Albertsons Cos.                   NaN  "
      ]
     },
     "execution_count": 184,
     "metadata": {},
     "output_type": "execute_result"
    }
   ],
   "source": [
    "##assign values to df based on mask\n",
    "msk =f500[\"previous_rank\"] == 0\n",
    "f500.loc[msk,\"previous_rank\"] = np.nan\n",
    "pp(f500[\"previous_rank\"].value_counts(dropna=False).head(5))\n",
    "f500[msk].iloc[:,0:10].head(5)"
   ]
  },
  {
   "cell_type": "code",
   "execution_count": 185,
   "metadata": {},
   "outputs": [
    {
     "data": {
      "text/plain": [
       "Beijing, China     56\n",
       "Tokyo, Japan       36\n",
       "Paris, France      17\n",
       "New York, NY       15\n",
       "London, Britain    14\n",
       "Name: hq_location, dtype: int64"
      ]
     },
     "execution_count": 185,
     "metadata": {},
     "output_type": "execute_result"
    }
   ],
   "source": [
    "f500.hq_location.value_counts().head(5)"
   ]
  },
  {
   "cell_type": "code",
   "execution_count": 210,
   "metadata": {},
   "outputs": [],
   "source": [
    "#reread country\n",
    "fn=\"f500.csv\"\n",
    "f500 = pd.read_csv(fn, index_col=0)"
   ]
  },
  {
   "cell_type": "code",
   "execution_count": 216,
   "metadata": {},
   "outputs": [
    {
     "name": "stdout",
     "output_type": "stream",
     "text": [
      "New York, NY    15\n",
      "Houston, TX      5\n",
      "Atlanta, GA      4\n",
      "Name: hq_location, dtype: int64\n"
     ]
    }
   ],
   "source": [
    "us_msk = f500[\"country\"] == 'USA'\n",
    "cities_usa = f500[us_msk].hq_location.value_counts()\n",
    "pp(cities_usa.head(3))"
   ]
  },
  {
   "cell_type": "code",
   "execution_count": 218,
   "metadata": {},
   "outputs": [
    {
     "name": "stdout",
     "output_type": "stream",
     "text": [
      "Financials                    25\n",
      "Energy                        22\n",
      "Wholesalers                    9\n",
      "Technology                     8\n",
      "Engineering & Construction     8\n",
      "Name: sector, dtype: int64\n"
     ]
    }
   ],
   "source": [
    "sector_china = f500[f500.country == \"China\"].sector.value_counts()\n",
    "pp(sector_china.head(5))"
   ]
  },
  {
   "cell_type": "code",
   "execution_count": 219,
   "metadata": {},
   "outputs": [
    {
     "name": "stdout",
     "output_type": "stream",
     "text": [
      "104564.45098039215\n"
     ]
    }
   ],
   "source": [
    "mean_employees_japan = f500[f500.country == \"Japan\"].employees.mean()\n",
    "pp(mean_employees_japan)"
   ]
  },
  {
   "cell_type": "code",
   "execution_count": null,
   "metadata": {},
   "outputs": [],
   "source": []
  }
 ],
 "metadata": {
  "kernelspec": {
   "display_name": "Python 3",
   "language": "python",
   "name": "python3"
  },
  "language_info": {
   "codemirror_mode": {
    "name": "ipython",
    "version": 3
   },
   "file_extension": ".py",
   "mimetype": "text/x-python",
   "name": "python",
   "nbconvert_exporter": "python",
   "pygments_lexer": "ipython3",
   "version": "3.6.5"
  }
 },
 "nbformat": 4,
 "nbformat_minor": 2
}

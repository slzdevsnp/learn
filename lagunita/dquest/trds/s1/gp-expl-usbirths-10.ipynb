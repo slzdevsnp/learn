{
 "cells": [
  {
   "cell_type": "code",
   "execution_count": 4,
   "metadata": {},
   "outputs": [
    {
     "data": {
      "text/plain": [
       "['1994,1,1,6,8096',\n",
       " '1994,1,2,7,7772',\n",
       " '1994,1,3,1,10142',\n",
       " '1994,1,4,2,11248',\n",
       " '1994,1,5,3,11053',\n",
       " '1994,1,6,4,11406',\n",
       " '1994,1,7,5,11251',\n",
       " '1994,1,8,6,8653',\n",
       " '1994,1,9,7,7910',\n",
       " '1994,1,10,1,10498']"
      ]
     },
     "execution_count": 4,
     "metadata": {},
     "output_type": "execute_result"
    }
   ],
   "source": [
    "fn=\"US_births_1994-2003_CDC_NCHS.csv\"\n",
    "with open(fn, mode=\"rt\",encoding='utf-8') as f:\n",
    "    lines_data = [ line.split('\\n')[0] for line in f.readlines() ]\n",
    "\n",
    "del lines_data[0]\n",
    "lines_data[:10]"
   ]
  },
  {
   "cell_type": "code",
   "execution_count": 37,
   "metadata": {},
   "outputs": [
    {
     "data": {
      "text/plain": [
       "[[1994, 1, 1, 6, 8096],\n",
       " [1994, 1, 2, 7, 7772],\n",
       " [1994, 1, 3, 1, 10142],\n",
       " [1994, 1, 4, 2, 11248],\n",
       " [1994, 1, 5, 3, 11053],\n",
       " [1994, 1, 6, 4, 11406],\n",
       " [1994, 1, 7, 5, 11251],\n",
       " [1994, 1, 8, 6, 8653],\n",
       " [1994, 1, 9, 7, 7910],\n",
       " [1994, 1, 10, 1, 10498]]"
      ]
     },
     "execution_count": 37,
     "metadata": {},
     "output_type": "execute_result"
    }
   ],
   "source": [
    "def read_csv(filename):\n",
    "    with open(filename, mode=\"rt\",encoding='utf-8') as f:\n",
    "        fields = [ line.split('\\n')[0].split(',') for line in f.readlines() ]\n",
    "    del fields[0] #header\n",
    "    final_list = [ [int(i) for i in x] for x in fields ]\n",
    "    return final_list\n",
    "\n",
    "cdc_list = read_csv(\"US_births_1994-2003_CDC_NCHS.csv\")\n",
    "cdc_list[:10]"
   ]
  },
  {
   "cell_type": "code",
   "execution_count": 30,
   "metadata": {},
   "outputs": [
    {
     "data": {
      "text/plain": [
       "{1: 3232517,\n",
       " 2: 3018140,\n",
       " 3: 3322069,\n",
       " 4: 3185314,\n",
       " 5: 3350907,\n",
       " 6: 3296530,\n",
       " 7: 3498783,\n",
       " 8: 3525858,\n",
       " 9: 3439698,\n",
       " 10: 3378814,\n",
       " 11: 3171647,\n",
       " 12: 3301860}"
      ]
     },
     "execution_count": 30,
     "metadata": {},
     "output_type": "execute_result"
    }
   ],
   "source": [
    "def month_births(list_data):\n",
    "    births_per_month = {}\n",
    "    for  row in list_data:\n",
    "        if row[1] not in births_per_month:\n",
    "            births_per_month[row[1]] = row[4]\n",
    "        else:\n",
    "            births_per_month[row[1]] += row[4]\n",
    "    return births_per_month\n",
    "\n",
    "cdc_month_births = month_births(cdc_list)\n",
    "\n",
    "cdc_month_births"
   ]
  },
  {
   "cell_type": "code",
   "execution_count": 34,
   "metadata": {},
   "outputs": [
    {
     "name": "stdout",
     "output_type": "stream",
     "text": [
      "{1994: 3952767,\n",
      " 1995: 3899589,\n",
      " 1996: 3891494,\n",
      " 1997: 3880894,\n",
      " 1998: 3941553,\n",
      " 1999: 3959417,\n",
      " 2000: 4058814,\n",
      " 2001: 4025933,\n",
      " 2002: 4021726,\n",
      " 2003: 4089950}\n",
      "{1: 3232517,\n",
      " 2: 3018140,\n",
      " 3: 3322069,\n",
      " 4: 3185314,\n",
      " 5: 3350907,\n",
      " 6: 3296530,\n",
      " 7: 3498783,\n",
      " 8: 3525858,\n",
      " 9: 3439698,\n",
      " 10: 3378814,\n",
      " 11: 3171647,\n",
      " 12: 3301860}\n",
      "{1: 1276557,\n",
      " 2: 1288739,\n",
      " 3: 1304499,\n",
      " 4: 1288154,\n",
      " 5: 1299953,\n",
      " 6: 1304474,\n",
      " 7: 1310459,\n",
      " 8: 1312297,\n",
      " 9: 1303292,\n",
      " 10: 1320764,\n",
      " 11: 1314361,\n",
      " 12: 1318437,\n",
      " 13: 1277684,\n",
      " 14: 1320153,\n",
      " 15: 1319171,\n",
      " 16: 1315192,\n",
      " 17: 1324953,\n",
      " 18: 1326855,\n",
      " 19: 1318727,\n",
      " 20: 1324821,\n",
      " 21: 1322897,\n",
      " 22: 1317381,\n",
      " 23: 1293290,\n",
      " 24: 1288083,\n",
      " 25: 1272116,\n",
      " 26: 1284796,\n",
      " 27: 1294395,\n",
      " 28: 1307685,\n",
      " 29: 1223161,\n",
      " 30: 1202095,\n",
      " 31: 746696}\n",
      "{1: 5789166,\n",
      " 2: 6446196,\n",
      " 3: 6322855,\n",
      " 4: 6288429,\n",
      " 5: 6233657,\n",
      " 6: 4562111,\n",
      " 7: 4079723}\n"
     ]
    }
   ],
   "source": [
    "def calc_counts(list_data, column_index):\n",
    "    counts = {}\n",
    "    for row in list_data:\n",
    "        if row[column_index] not in counts:\n",
    "            counts[row[column_index]] = row[4]\n",
    "        else:\n",
    "            counts[row[column_index]] += row[4]\n",
    "    return counts\n",
    "\n",
    "from pprint import pprint as pp\n",
    "cdc_year_births = calc_counts(cdc_list, column_index=0)\n",
    "pp( cdc_year_births)\n",
    "\n",
    "cdc_month_births  = calc_counts(cdc_list, column_index=1)\n",
    "pp(cdc_month_births  )\n",
    "\n",
    "cdc_dom_births= calc_counts(cdc_list, column_index=2)\n",
    "pp(cdc_dom_births)\n",
    "\n",
    "cdc_dow_birhs= calc_counts(cdc_list, column_index=3)\n",
    "pp(cdc_dow_birhs)"
   ]
  },
  {
   "cell_type": "code",
   "execution_count": 35,
   "metadata": {},
   "outputs": [
    {
     "name": "stdout",
     "output_type": "stream",
     "text": [
      "(-8, 5)\n",
      "(4079723, 6446196)\n"
     ]
    }
   ],
   "source": [
    "def dict_min_max(dict):\n",
    "    mx = max([v for v in dict.values()])\n",
    "    mn = min([v for v in dict.values()])\n",
    "    return mn,mx\n",
    "\n",
    "z={'a':1, 'b':-8, 'c':5}\n",
    "\n",
    "pp(dict_min_max(z))\n",
    "pp( dict_min_max(cdc_dow_birhs))"
   ]
  },
  {
   "cell_type": "code",
   "execution_count": 38,
   "metadata": {},
   "outputs": [],
   "source": [
    "cdc_list = read_csv(\"US_births_1994-2003_CDC_NCHS.csv\")\n",
    "ssa_list = read_csv(\"US_births_2000-2014_SSA.csv\")"
   ]
  },
  {
   "cell_type": "code",
   "execution_count": 41,
   "metadata": {},
   "outputs": [
    {
     "data": {
      "text/plain": [
       "[2003, 12, 31, 3, 12374]"
      ]
     },
     "execution_count": 41,
     "metadata": {},
     "output_type": "execute_result"
    }
   ],
   "source": [
    "cdc_list[-1]"
   ]
  },
  {
   "cell_type": "code",
   "execution_count": 42,
   "metadata": {},
   "outputs": [
    {
     "data": {
      "text/plain": [
       "[2000, 1, 1, 6, 9083]"
      ]
     },
     "execution_count": 42,
     "metadata": {},
     "output_type": "execute_result"
    }
   ],
   "source": [
    "ssa_list[0]"
   ]
  },
  {
   "cell_type": "code",
   "execution_count": null,
   "metadata": {},
   "outputs": [],
   "source": [
    " "
   ]
  }
 ],
 "metadata": {
  "kernelspec": {
   "display_name": "Python 3",
   "language": "python",
   "name": "python3"
  },
  "language_info": {
   "codemirror_mode": {
    "name": "ipython",
    "version": 3
   },
   "file_extension": ".py",
   "mimetype": "text/x-python",
   "name": "python",
   "nbconvert_exporter": "python",
   "pygments_lexer": "ipython3",
   "version": "3.6.5"
  }
 },
 "nbformat": 4,
 "nbformat_minor": 2
}

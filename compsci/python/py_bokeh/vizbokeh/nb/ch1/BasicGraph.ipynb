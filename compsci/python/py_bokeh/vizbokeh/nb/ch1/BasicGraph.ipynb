{
 "cells": [
  {
   "cell_type": "code",
   "execution_count": 26,
   "metadata": {},
   "outputs": [],
   "source": [
    "from bokeh.plotting import figure\n",
    "from bokeh.io import output_file,show,save"
   ]
  },
  {
   "cell_type": "code",
   "execution_count": 15,
   "metadata": {},
   "outputs": [],
   "source": [
    "## prep some dummy data\n",
    "x=[-3,-2,-1,0,1,2,3,4,5]\n",
    "#y=[6,7,8,9,10]\n",
    "\n",
    "def squared(x):\n",
    "    return [el**2 for el in x]\n",
    "\n",
    "#prep output html file\n",
    "output_file(\"qline.html\")\n",
    "\n",
    "f=figure()\n",
    "#create line plot\n",
    "f.circle(x,squared(x))  # a line glyph\n",
    "\n",
    "show(f)"
   ]
  },
  {
   "cell_type": "code",
   "execution_count": 18,
   "metadata": {},
   "outputs": [],
   "source": [
    "import pandas\n",
    "\n",
    "\n",
    "##get data\n",
    "df=pandas.read_csv(\"data.csv\")\n",
    "x=df[\"x\"]\n",
    "y=df[\"y\"]\n",
    "#prep output html file\n",
    "output_file(\"line_from_csv.html\")\n",
    "\n",
    "f=figure()\n",
    "#create line plot\n",
    "f.line(x,y)  # a line glyph\n",
    "\n",
    "show(f)"
   ]
  },
  {
   "cell_type": "code",
   "execution_count": 22,
   "metadata": {},
   "outputs": [
    {
     "data": {
      "text/html": [
       "<div>\n",
       "<style scoped>\n",
       "    .dataframe tbody tr th:only-of-type {\n",
       "        vertical-align: middle;\n",
       "    }\n",
       "\n",
       "    .dataframe tbody tr th {\n",
       "        vertical-align: top;\n",
       "    }\n",
       "\n",
       "    .dataframe thead th {\n",
       "        text-align: right;\n",
       "    }\n",
       "</style>\n",
       "<table border=\"1\" class=\"dataframe\">\n",
       "  <thead>\n",
       "    <tr style=\"text-align: right;\">\n",
       "      <th></th>\n",
       "      <th>Year</th>\n",
       "      <th>Agriculture</th>\n",
       "      <th>Architecture</th>\n",
       "      <th>Art and Performance</th>\n",
       "      <th>Biology</th>\n",
       "      <th>Business</th>\n",
       "      <th>Communications and Journalism</th>\n",
       "      <th>Computer Science</th>\n",
       "      <th>Education</th>\n",
       "      <th>Engineering</th>\n",
       "      <th>English</th>\n",
       "      <th>Foreign Languages</th>\n",
       "      <th>Health Professions</th>\n",
       "      <th>Math and Statistics</th>\n",
       "      <th>Physical Sciences</th>\n",
       "      <th>Psychology</th>\n",
       "      <th>Public Administration</th>\n",
       "      <th>Social Sciences and History</th>\n",
       "    </tr>\n",
       "  </thead>\n",
       "  <tbody>\n",
       "    <tr>\n",
       "      <th>0</th>\n",
       "      <td>1970</td>\n",
       "      <td>4.229798</td>\n",
       "      <td>11.921005</td>\n",
       "      <td>59.7</td>\n",
       "      <td>29.088363</td>\n",
       "      <td>9.064439</td>\n",
       "      <td>35.3</td>\n",
       "      <td>13.6</td>\n",
       "      <td>74.535328</td>\n",
       "      <td>0.8</td>\n",
       "      <td>65.570923</td>\n",
       "      <td>73.8</td>\n",
       "      <td>77.1</td>\n",
       "      <td>38.0</td>\n",
       "      <td>13.8</td>\n",
       "      <td>44.4</td>\n",
       "      <td>68.4</td>\n",
       "      <td>36.8</td>\n",
       "    </tr>\n",
       "    <tr>\n",
       "      <th>1</th>\n",
       "      <td>1971</td>\n",
       "      <td>5.452797</td>\n",
       "      <td>12.003106</td>\n",
       "      <td>59.9</td>\n",
       "      <td>29.394403</td>\n",
       "      <td>9.503187</td>\n",
       "      <td>35.5</td>\n",
       "      <td>13.6</td>\n",
       "      <td>74.149204</td>\n",
       "      <td>1.0</td>\n",
       "      <td>64.556485</td>\n",
       "      <td>73.9</td>\n",
       "      <td>75.5</td>\n",
       "      <td>39.0</td>\n",
       "      <td>14.9</td>\n",
       "      <td>46.2</td>\n",
       "      <td>65.5</td>\n",
       "      <td>36.2</td>\n",
       "    </tr>\n",
       "    <tr>\n",
       "      <th>2</th>\n",
       "      <td>1972</td>\n",
       "      <td>7.420710</td>\n",
       "      <td>13.214594</td>\n",
       "      <td>60.4</td>\n",
       "      <td>29.810221</td>\n",
       "      <td>10.558962</td>\n",
       "      <td>36.6</td>\n",
       "      <td>14.9</td>\n",
       "      <td>73.554520</td>\n",
       "      <td>1.2</td>\n",
       "      <td>63.664263</td>\n",
       "      <td>74.6</td>\n",
       "      <td>76.9</td>\n",
       "      <td>40.2</td>\n",
       "      <td>14.8</td>\n",
       "      <td>47.6</td>\n",
       "      <td>62.6</td>\n",
       "      <td>36.1</td>\n",
       "    </tr>\n",
       "  </tbody>\n",
       "</table>\n",
       "</div>"
      ],
      "text/plain": [
       "   Year  Agriculture  Architecture  Art and Performance    Biology   Business  \\\n",
       "0  1970     4.229798     11.921005                 59.7  29.088363   9.064439   \n",
       "1  1971     5.452797     12.003106                 59.9  29.394403   9.503187   \n",
       "2  1972     7.420710     13.214594                 60.4  29.810221  10.558962   \n",
       "\n",
       "   Communications and Journalism  Computer Science  Education  Engineering  \\\n",
       "0                           35.3              13.6  74.535328          0.8   \n",
       "1                           35.5              13.6  74.149204          1.0   \n",
       "2                           36.6              14.9  73.554520          1.2   \n",
       "\n",
       "     English  Foreign Languages  Health Professions  Math and Statistics  \\\n",
       "0  65.570923               73.8                77.1                 38.0   \n",
       "1  64.556485               73.9                75.5                 39.0   \n",
       "2  63.664263               74.6                76.9                 40.2   \n",
       "\n",
       "   Physical Sciences  Psychology  Public Administration  \\\n",
       "0               13.8        44.4                   68.4   \n",
       "1               14.9        46.2                   65.5   \n",
       "2               14.8        47.6                   62.6   \n",
       "\n",
       "   Social Sciences and History  \n",
       "0                         36.8  \n",
       "1                         36.2  \n",
       "2                         36.1  "
      ]
     },
     "execution_count": 22,
     "metadata": {},
     "output_type": "execute_result"
    }
   ],
   "source": [
    "##exercise, csv from the web\n",
    "df=pandas.read_csv(\"http://pythonhow.com/data/bachelors.csv\")\n",
    "df.head(3)"
   ]
  },
  {
   "cell_type": "code",
   "execution_count": 28,
   "metadata": {},
   "outputs": [
    {
     "data": {
      "text/plain": [
       "'/Users/zimine/GoogleDriveSlzdev/zrepos/slzdevsnp/learn/compsci/python/py_bokeh/proj/nb/data_csv_women.html'"
      ]
     },
     "execution_count": 28,
     "metadata": {},
     "output_type": "execute_result"
    }
   ],
   "source": [
    "x=df['Year']\n",
    "y=df['Engineering']\n",
    "\n",
    "output_file(\"data_csv_women.html\")\n",
    "f1=figure()\n",
    "f1.line(x,y)\n",
    "save(f1)   ##saves to the file just this picture"
   ]
  },
  {
   "cell_type": "code",
   "execution_count": null,
   "metadata": {},
   "outputs": [],
   "source": []
  }
 ],
 "metadata": {
  "kernelspec": {
   "display_name": "Python 3",
   "language": "python",
   "name": "python3"
  },
  "language_info": {
   "codemirror_mode": {
    "name": "ipython",
    "version": 3
   },
   "file_extension": ".py",
   "mimetype": "text/x-python",
   "name": "python",
   "nbconvert_exporter": "python",
   "pygments_lexer": "ipython3",
   "version": "3.6.5"
  }
 },
 "nbformat": 4,
 "nbformat_minor": 2
}

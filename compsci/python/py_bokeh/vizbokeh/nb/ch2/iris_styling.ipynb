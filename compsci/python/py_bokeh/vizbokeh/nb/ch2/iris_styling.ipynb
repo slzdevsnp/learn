{
 "cells": [
  {
   "cell_type": "code",
   "execution_count": 6,
   "metadata": {},
   "outputs": [],
   "source": [
    "#Importing libraries\n",
    "from bokeh.plotting import figure\n",
    "from bokeh.io import output_notebook, output_file, show,save\n",
    "from bokeh.sampledata.iris import flowers"
   ]
  },
  {
   "cell_type": "code",
   "execution_count": 4,
   "metadata": {},
   "outputs": [
    {
     "data": {
      "text/html": [
       "<div>\n",
       "<style scoped>\n",
       "    .dataframe tbody tr th:only-of-type {\n",
       "        vertical-align: middle;\n",
       "    }\n",
       "\n",
       "    .dataframe tbody tr th {\n",
       "        vertical-align: top;\n",
       "    }\n",
       "\n",
       "    .dataframe thead th {\n",
       "        text-align: right;\n",
       "    }\n",
       "</style>\n",
       "<table border=\"1\" class=\"dataframe\">\n",
       "  <thead>\n",
       "    <tr style=\"text-align: right;\">\n",
       "      <th></th>\n",
       "      <th>sepal_length</th>\n",
       "      <th>sepal_width</th>\n",
       "      <th>petal_length</th>\n",
       "      <th>petal_width</th>\n",
       "      <th>species</th>\n",
       "    </tr>\n",
       "  </thead>\n",
       "  <tbody>\n",
       "    <tr>\n",
       "      <th>0</th>\n",
       "      <td>5.1</td>\n",
       "      <td>3.5</td>\n",
       "      <td>1.4</td>\n",
       "      <td>0.2</td>\n",
       "      <td>setosa</td>\n",
       "    </tr>\n",
       "    <tr>\n",
       "      <th>1</th>\n",
       "      <td>4.9</td>\n",
       "      <td>3.0</td>\n",
       "      <td>1.4</td>\n",
       "      <td>0.2</td>\n",
       "      <td>setosa</td>\n",
       "    </tr>\n",
       "  </tbody>\n",
       "</table>\n",
       "</div>"
      ],
      "text/plain": [
       "   sepal_length  sepal_width  petal_length  petal_width species\n",
       "0           5.1          3.5           1.4          0.2  setosa\n",
       "1           4.9          3.0           1.4          0.2  setosa"
      ]
     },
     "execution_count": 4,
     "metadata": {},
     "output_type": "execute_result"
    }
   ],
   "source": [
    "flowers.head(2)"
   ]
  },
  {
   "cell_type": "markdown",
   "metadata": {},
   "source": [
    "### Basic plot"
   ]
  },
  {
   "cell_type": "code",
   "execution_count": 8,
   "metadata": {},
   "outputs": [
    {
     "data": {
      "text/plain": [
       "'/Users/zimine/GoogleDriveSlzdev/zrepos/slzdevsnp/learn/compsci/python/py_bokeh/vizbokeh/nb/ch2/iris.html'"
      ]
     },
     "execution_count": 8,
     "metadata": {},
     "output_type": "execute_result"
    }
   ],
   "source": [
    "#Define the output file path\n",
    "output_file(\"iris.html\")\n",
    "#Create the figure object\n",
    "f = figure()\n",
    "\n",
    "#adding glyphs\n",
    "f.circle(x=flowers[\"petal_length\"],\\\n",
    "         y=flowers[\"petal_width\"])\n",
    "\n",
    "#Save and show the figure\n",
    "save(f)"
   ]
  },
  {
   "cell_type": "code",
   "execution_count": 21,
   "metadata": {},
   "outputs": [
    {
     "data": {
      "text/plain": [
       "'/Users/zimine/GoogleDriveSlzdev/zrepos/slzdevsnp/learn/compsci/python/py_bokeh/vizbokeh/nb/ch2/iris.html'"
      ]
     },
     "execution_count": 21,
     "metadata": {},
     "output_type": "execute_result"
    }
   ],
   "source": [
    "output_file(\"iris.html\")\n",
    "#Create the figure object\n",
    "f = figure()\n",
    "\n",
    "#stylyzine the plot area (chart size!)\n",
    "f.plot_width=900\n",
    "f.plot_height=500\n",
    "##colors\n",
    "#f.background_fill_color=\"olive\"\n",
    "f.background_fill_color=\"#BFEBBB\"\n",
    "f.background_fill_alpha=0.25\n",
    "f.border_fill_color=\"orange\"\n",
    "\n",
    "#style the title\n",
    "f.title.text=\"Iris Morphology\"\n",
    "\n",
    "#adding glyphs\n",
    "f.circle(x=flowers[\"petal_length\"],\\\n",
    "         y=flowers[\"petal_width\"])\n",
    "\n",
    "save(f)"
   ]
  },
  {
   "cell_type": "code",
   "execution_count": 19,
   "metadata": {},
   "outputs": [],
   "source": [
    "### dir(f) shows the properties of the object f\n",
    "#dir(f)"
   ]
  },
  {
   "cell_type": "code",
   "execution_count": null,
   "metadata": {},
   "outputs": [],
   "source": []
  }
 ],
 "metadata": {
  "kernelspec": {
   "display_name": "bokeh",
   "language": "python",
   "name": "bokeh"
  },
  "language_info": {
   "codemirror_mode": {
    "name": "ipython",
    "version": 3
   },
   "file_extension": ".py",
   "mimetype": "text/x-python",
   "name": "python",
   "nbconvert_exporter": "python",
   "pygments_lexer": "ipython3",
   "version": "3.6.5"
  }
 },
 "nbformat": 4,
 "nbformat_minor": 2
}

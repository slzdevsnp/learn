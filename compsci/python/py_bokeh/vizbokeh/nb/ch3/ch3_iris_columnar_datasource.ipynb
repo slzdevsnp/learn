{
 "cells": [
  {
   "cell_type": "code",
   "execution_count": 18,
   "metadata": {},
   "outputs": [],
   "source": [
    "#Importing libraries\n",
    "from pprint import pprint as pp\n",
    "from bokeh.plotting import figure\n",
    "from bokeh.io import output_file, show, save\n",
    "from bokeh.sampledata.iris import flowers\n",
    "from bokeh.models import Range1d, PanTool, ResetTool, HoverTool, ColumnDataSource, LabelSet\n"
   ]
  },
  {
   "cell_type": "code",
   "execution_count": 12,
   "metadata": {},
   "outputs": [],
   "source": [
    "colormap={'setosa':'red','versicolor':'green','virginica':'blue'}\n",
    "#additional columns to df defined before  CoumnDataSource attachment\n",
    "flowers['color'] = [colormap[x] for x in flowers['species']]\n",
    "flowers['size'] = flowers['sepal_width'] * 4\n",
    "\n",
    "\n",
    "setosa = ColumnDataSource(flowers.loc[flowers[\"species\"]==\"setosa\",:])\n",
    "versicolor = ColumnDataSource(flowers.loc[flowers[\"species\"]==\"versicolor\",:])\n",
    "virginica = ColumnDataSource(flowers.loc[flowers[\"species\"]==\"virginica\",:])\n",
    "#put sources in a dictionary\n",
    "ds={}\n",
    "ds['setosa'] = {'dsrc':setosa, 'label':\"Setosa\"}\n",
    "ds['versicolor'] = {'dsrc':versicolor, 'label':\"Versicolor\"}\n",
    "ds['virginica'] = {'dsrc':virginica, 'label':\"Virginica\"}"
   ]
  },
  {
   "cell_type": "code",
   "execution_count": 13,
   "metadata": {},
   "outputs": [
    {
     "data": {
      "text/plain": [
       "'/Users/zimine/GoogleDriveSlzdev/zrepos/slzdevsnp/learn/compsci/python/py_bokeh/vizbokeh/nb/ch3/iris_nb.html'"
      ]
     },
     "execution_count": 13,
     "metadata": {},
     "output_type": "execute_result"
    }
   ],
   "source": [
    "\n",
    "#Define the output file path\n",
    "output_file(\"iris_nb.html\")\n",
    "\n",
    "#Create the figure object\n",
    "f = figure()\n",
    "\n",
    "#adding glyphs\n",
    "\n",
    "for k in ds.keys():\n",
    "    f.circle(x=\"petal_length\", y=\"petal_width\", size='size', fill_alpha=0.2,\n",
    "    color=\"color\", line_dash=[5,3], legend=ds[k]['label'], source=ds[k]['dsrc']) #calls columnDataSource\n",
    "\n",
    "#Save and show the figure\n",
    "save(f)"
   ]
  },
  {
   "cell_type": "code",
   "execution_count": 19,
   "metadata": {},
   "outputs": [
    {
     "name": "stdout",
     "output_type": "stream",
     "text": [
      "<class 'bokeh.models.sources.ColumnDataSource'>\n",
      "<class 'bokeh.core.property.containers.PropertyValueColumnData'>\n"
     ]
    }
   ],
   "source": [
    "pp(type(setosa))\n",
    "pp(type(setosa.data))"
   ]
  },
  {
   "cell_type": "code",
   "execution_count": 22,
   "metadata": {},
   "outputs": [
    {
     "data": {
      "text/plain": [
       "array([0.2, 0.2, 0.2, 0.2, 0.2, 0.4, 0.3, 0.2, 0.2, 0.1, 0.2, 0.2, 0.1,\n",
       "       0.1, 0.2, 0.4, 0.4, 0.3, 0.3, 0.3, 0.2, 0.4, 0.2, 0.5, 0.2, 0.2,\n",
       "       0.4, 0.2, 0.2, 0.2, 0.2, 0.4, 0.1, 0.2, 0.2, 0.2, 0.2, 0.1, 0.2,\n",
       "       0.2, 0.3, 0.3, 0.2, 0.6, 0.4, 0.3, 0.2, 0.2, 0.2, 0.2])"
      ]
     },
     "execution_count": 22,
     "metadata": {},
     "output_type": "execute_result"
    }
   ],
   "source": [
    "setosa.data[\"petal_width\"] #ndaarray"
   ]
  },
  {
   "cell_type": "code",
   "execution_count": 23,
   "metadata": {},
   "outputs": [],
   "source": [
    "## create ColumnarDataSource from python dict\n",
    "\n",
    "cds=ColumnDataSource(dict(x=[1,2,3],y=[4,5,6]))\n"
   ]
  },
  {
   "cell_type": "code",
   "execution_count": 25,
   "metadata": {},
   "outputs": [
    {
     "data": {
      "text/plain": [
       "'z'"
      ]
     },
     "execution_count": 25,
     "metadata": {},
     "output_type": "execute_result"
    }
   ],
   "source": [
    "cds.add(data=[7,8,9],name=\"z\")"
   ]
  },
  {
   "cell_type": "code",
   "execution_count": 26,
   "metadata": {},
   "outputs": [
    {
     "data": {
      "text/plain": [
       "{'x': [1, 2, 3], 'y': [4, 5, 6], 'z': [7, 8, 9]}"
      ]
     },
     "execution_count": 26,
     "metadata": {},
     "output_type": "execute_result"
    }
   ],
   "source": [
    "cds.data"
   ]
  },
  {
   "cell_type": "code",
   "execution_count": null,
   "metadata": {},
   "outputs": [],
   "source": []
  }
 ],
 "metadata": {
  "kernelspec": {
   "display_name": "bokeh",
   "language": "python",
   "name": "bokeh"
  },
  "language_info": {
   "codemirror_mode": {
    "name": "ipython",
    "version": 3
   },
   "file_extension": ".py",
   "mimetype": "text/x-python",
   "name": "python",
   "nbconvert_exporter": "python",
   "pygments_lexer": "ipython3",
   "version": "3.6.5"
  }
 },
 "nbformat": 4,
 "nbformat_minor": 2
}

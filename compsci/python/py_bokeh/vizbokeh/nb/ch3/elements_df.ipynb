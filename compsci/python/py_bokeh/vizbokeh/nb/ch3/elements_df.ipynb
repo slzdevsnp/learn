{
 "cells": [
  {
   "cell_type": "code",
   "execution_count": 1,
   "metadata": {},
   "outputs": [],
   "source": [
    "from bokeh.sampledata.periodic_table import elements"
   ]
  },
  {
   "cell_type": "code",
   "execution_count": 8,
   "metadata": {},
   "outputs": [],
   "source": [
    "import bokeh"
   ]
  },
  {
   "cell_type": "code",
   "execution_count": 10,
   "metadata": {},
   "outputs": [
    {
     "name": "stdout",
     "output_type": "stream",
     "text": [
      "0.13.0\n"
     ]
    }
   ],
   "source": [
    "print(bokeh.__version__)"
   ]
  },
  {
   "cell_type": "code",
   "execution_count": 3,
   "metadata": {},
   "outputs": [
    {
     "data": {
      "text/html": [
       "<div>\n",
       "<style scoped>\n",
       "    .dataframe tbody tr th:only-of-type {\n",
       "        vertical-align: middle;\n",
       "    }\n",
       "\n",
       "    .dataframe tbody tr th {\n",
       "        vertical-align: top;\n",
       "    }\n",
       "\n",
       "    .dataframe thead th {\n",
       "        text-align: right;\n",
       "    }\n",
       "</style>\n",
       "<table border=\"1\" class=\"dataframe\">\n",
       "  <thead>\n",
       "    <tr style=\"text-align: right;\">\n",
       "      <th></th>\n",
       "      <th>atomic number</th>\n",
       "      <th>symbol</th>\n",
       "      <th>name</th>\n",
       "      <th>atomic mass</th>\n",
       "      <th>CPK</th>\n",
       "      <th>electronic configuration</th>\n",
       "      <th>electronegativity</th>\n",
       "      <th>atomic radius</th>\n",
       "      <th>ion radius</th>\n",
       "      <th>van der Waals radius</th>\n",
       "      <th>...</th>\n",
       "      <th>EA</th>\n",
       "      <th>standard state</th>\n",
       "      <th>bonding type</th>\n",
       "      <th>melting point</th>\n",
       "      <th>boiling point</th>\n",
       "      <th>density</th>\n",
       "      <th>metal</th>\n",
       "      <th>year discovered</th>\n",
       "      <th>group</th>\n",
       "      <th>period</th>\n",
       "    </tr>\n",
       "  </thead>\n",
       "  <tbody>\n",
       "    <tr>\n",
       "      <th>0</th>\n",
       "      <td>1</td>\n",
       "      <td>H</td>\n",
       "      <td>Hydrogen</td>\n",
       "      <td>1.00794</td>\n",
       "      <td>#FFFFFF</td>\n",
       "      <td>1s1</td>\n",
       "      <td>2.20</td>\n",
       "      <td>37.0</td>\n",
       "      <td>NaN</td>\n",
       "      <td>120.0</td>\n",
       "      <td>...</td>\n",
       "      <td>-73.0</td>\n",
       "      <td>gas</td>\n",
       "      <td>diatomic</td>\n",
       "      <td>14.0</td>\n",
       "      <td>20.0</td>\n",
       "      <td>0.00009</td>\n",
       "      <td>nonmetal</td>\n",
       "      <td>1766</td>\n",
       "      <td>1</td>\n",
       "      <td>1</td>\n",
       "    </tr>\n",
       "    <tr>\n",
       "      <th>1</th>\n",
       "      <td>2</td>\n",
       "      <td>He</td>\n",
       "      <td>Helium</td>\n",
       "      <td>4.002602</td>\n",
       "      <td>#D9FFFF</td>\n",
       "      <td>1s2</td>\n",
       "      <td>NaN</td>\n",
       "      <td>32.0</td>\n",
       "      <td>NaN</td>\n",
       "      <td>140.0</td>\n",
       "      <td>...</td>\n",
       "      <td>0.0</td>\n",
       "      <td>gas</td>\n",
       "      <td>atomic</td>\n",
       "      <td>NaN</td>\n",
       "      <td>4.0</td>\n",
       "      <td>0.00000</td>\n",
       "      <td>noble gas</td>\n",
       "      <td>1868</td>\n",
       "      <td>18</td>\n",
       "      <td>1</td>\n",
       "    </tr>\n",
       "    <tr>\n",
       "      <th>2</th>\n",
       "      <td>3</td>\n",
       "      <td>Li</td>\n",
       "      <td>Lithium</td>\n",
       "      <td>6.941</td>\n",
       "      <td>#CC80FF</td>\n",
       "      <td>[He] 2s1</td>\n",
       "      <td>0.98</td>\n",
       "      <td>134.0</td>\n",
       "      <td>76 (+1)</td>\n",
       "      <td>182.0</td>\n",
       "      <td>...</td>\n",
       "      <td>-60.0</td>\n",
       "      <td>solid</td>\n",
       "      <td>metallic</td>\n",
       "      <td>454.0</td>\n",
       "      <td>1615.0</td>\n",
       "      <td>0.54000</td>\n",
       "      <td>alkali metal</td>\n",
       "      <td>1817</td>\n",
       "      <td>1</td>\n",
       "      <td>2</td>\n",
       "    </tr>\n",
       "    <tr>\n",
       "      <th>3</th>\n",
       "      <td>4</td>\n",
       "      <td>Be</td>\n",
       "      <td>Beryllium</td>\n",
       "      <td>9.012182</td>\n",
       "      <td>#C2FF00</td>\n",
       "      <td>[He] 2s2</td>\n",
       "      <td>1.57</td>\n",
       "      <td>90.0</td>\n",
       "      <td>45 (+2)</td>\n",
       "      <td>NaN</td>\n",
       "      <td>...</td>\n",
       "      <td>0.0</td>\n",
       "      <td>solid</td>\n",
       "      <td>metallic</td>\n",
       "      <td>1560.0</td>\n",
       "      <td>2743.0</td>\n",
       "      <td>1.85000</td>\n",
       "      <td>alkaline earth metal</td>\n",
       "      <td>1798</td>\n",
       "      <td>2</td>\n",
       "      <td>2</td>\n",
       "    </tr>\n",
       "  </tbody>\n",
       "</table>\n",
       "<p>4 rows × 21 columns</p>\n",
       "</div>"
      ],
      "text/plain": [
       "   atomic number symbol       name atomic mass      CPK  \\\n",
       "0              1      H   Hydrogen     1.00794  #FFFFFF   \n",
       "1              2     He     Helium    4.002602  #D9FFFF   \n",
       "2              3     Li    Lithium       6.941  #CC80FF   \n",
       "3              4     Be  Beryllium    9.012182  #C2FF00   \n",
       "\n",
       "  electronic configuration  electronegativity  atomic radius ion radius  \\\n",
       "0                      1s1               2.20           37.0        NaN   \n",
       "1                      1s2                NaN           32.0        NaN   \n",
       "2                 [He] 2s1               0.98          134.0    76 (+1)   \n",
       "3                 [He] 2s2               1.57           90.0    45 (+2)   \n",
       "\n",
       "   van der Waals radius  ...      EA  standard state bonding type  \\\n",
       "0                 120.0  ...   -73.0             gas     diatomic   \n",
       "1                 140.0  ...     0.0             gas       atomic   \n",
       "2                 182.0  ...   -60.0           solid     metallic   \n",
       "3                   NaN  ...     0.0           solid     metallic   \n",
       "\n",
       "  melting point  boiling point  density                 metal year discovered  \\\n",
       "0          14.0           20.0  0.00009              nonmetal            1766   \n",
       "1           NaN            4.0  0.00000             noble gas            1868   \n",
       "2         454.0         1615.0  0.54000          alkali metal            1817   \n",
       "3        1560.0         2743.0  1.85000  alkaline earth metal            1798   \n",
       "\n",
       "  group period  \n",
       "0     1      1  \n",
       "1    18      1  \n",
       "2     1      2  \n",
       "3     2      2  \n",
       "\n",
       "[4 rows x 21 columns]"
      ]
     },
     "execution_count": 3,
     "metadata": {},
     "output_type": "execute_result"
    }
   ],
   "source": [
    "elements.head(4)"
   ]
  },
  {
   "cell_type": "code",
   "execution_count": 7,
   "metadata": {},
   "outputs": [
    {
     "data": {
      "text/plain": [
       "solid     86\n",
       "gas       11\n",
       "liquid     2\n",
       "Name: standard state, dtype: int64"
      ]
     },
     "execution_count": 7,
     "metadata": {},
     "output_type": "execute_result"
    }
   ],
   "source": [
    "elements['standard state'].value_counts()"
   ]
  },
  {
   "cell_type": "code",
   "execution_count": null,
   "metadata": {},
   "outputs": [],
   "source": []
  }
 ],
 "metadata": {
  "kernelspec": {
   "display_name": "bokeh",
   "language": "python",
   "name": "bokeh"
  },
  "language_info": {
   "codemirror_mode": {
    "name": "ipython",
    "version": 3
   },
   "file_extension": ".py",
   "mimetype": "text/x-python",
   "name": "python",
   "nbconvert_exporter": "python",
   "pygments_lexer": "ipython3",
   "version": "3.6.5"
  }
 },
 "nbformat": 4,
 "nbformat_minor": 2
}

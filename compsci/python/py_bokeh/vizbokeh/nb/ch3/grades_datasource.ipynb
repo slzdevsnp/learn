{
 "cells": [
  {
   "cell_type": "code",
   "execution_count": 5,
   "metadata": {},
   "outputs": [],
   "source": [
    "from bokeh.models import ColumnDataSource\n",
    "from pprint import pprint as pp"
   ]
  },
  {
   "cell_type": "code",
   "execution_count": 2,
   "metadata": {},
   "outputs": [],
   "source": [
    "source=ColumnDataSource(dict(average_grades=[7,8,10],\n",
    "                             exam_grades=[6,9,8],\n",
    "                             student_names=[\"Stephan\",\"Helder\",\"Riazudidn\"]))"
   ]
  },
  {
   "cell_type": "code",
   "execution_count": 12,
   "metadata": {},
   "outputs": [
    {
     "name": "stdout",
     "output_type": "stream",
     "text": [
      "<class 'bokeh.models.sources.ColumnDataSource'>\n",
      "<class 'bokeh.core.property.containers.PropertyValueColumnData'>\n",
      "'print all source data'\n",
      "{'average_grades': [7, 8, 10],\n",
      " 'exam_grades': [6, 9, 8],\n",
      " 'student_names': ['Stephan', 'Helder', 'Riazudidn']}\n",
      "'specified field [7, 8, 10]'\n"
     ]
    }
   ],
   "source": [
    "pp(type(source))\n",
    "pp(type(source.data))\n",
    "pp(\"print all source data\")\n",
    "pp(source.data)\n",
    "pp(\"specified field {}\".format(source.data['average_grades']))"
   ]
  },
  {
   "cell_type": "code",
   "execution_count": 13,
   "metadata": {},
   "outputs": [
    {
     "data": {
      "text/plain": [
       "['average_grades', 'exam_grades', 'student_names']"
      ]
     },
     "execution_count": 13,
     "metadata": {},
     "output_type": "execute_result"
    }
   ],
   "source": [
    "#dict keys in source data\n",
    "[key for key in source.data]"
   ]
  },
  {
   "cell_type": "code",
   "execution_count": 17,
   "metadata": {},
   "outputs": [
    {
     "name": "stdout",
     "output_type": "stream",
     "text": [
      "'idx:0 val:6'\n",
      "'idx:1 val:9'\n",
      "'idx:2 val:8'\n"
     ]
    }
   ],
   "source": [
    "for i,v in enumerate(source.data['exam_grades']): pp(\"idx:{} val:{}\".format(i,v))"
   ]
  },
  {
   "cell_type": "code",
   "execution_count": 20,
   "metadata": {},
   "outputs": [],
   "source": [
    "filtered_source_data = {k: [v for i,v in enumerate(source.data[k])\\\n",
    "                             if source.data[\"exam_grades\"][i]>=8]\\\n",
    "                        for k in source.data}"
   ]
  },
  {
   "cell_type": "code",
   "execution_count": 21,
   "metadata": {},
   "outputs": [
    {
     "data": {
      "text/plain": [
       "{'average_grades': [8, 10],\n",
       " 'exam_grades': [9, 8],\n",
       " 'student_names': ['Helder', 'Riazudidn']}"
      ]
     },
     "execution_count": 21,
     "metadata": {},
     "output_type": "execute_result"
    }
   ],
   "source": [
    "filtered_source_data"
   ]
  },
  {
   "cell_type": "code",
   "execution_count": null,
   "metadata": {},
   "outputs": [],
   "source": []
  }
 ],
 "metadata": {
  "kernelspec": {
   "display_name": "bokeh",
   "language": "python",
   "name": "bokeh"
  },
  "language_info": {
   "codemirror_mode": {
    "name": "ipython",
    "version": 3
   },
   "file_extension": ".py",
   "mimetype": "text/x-python",
   "name": "python",
   "nbconvert_exporter": "python",
   "pygments_lexer": "ipython3",
   "version": "3.6.5"
  }
 },
 "nbformat": 4,
 "nbformat_minor": 2
}

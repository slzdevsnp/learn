{
 "cells": [
  {
   "cell_type": "markdown",
   "metadata": {},
   "source": [
    "# Java collections\n",
    "\n",
    "### Motivations of data structures\n",
    "* Orderging\n",
    "* Uniqueness\n",
    "* Pairs\n",
    "\n",
    "### Course Outline\n",
    "* Defining and iterating\n",
    "* Iteration order: list\n",
    "* Uniqueness: Sets\n",
    "* Modification Order: Queues & Dequeues\n",
    "* Collections of Paris: Maps\n",
    "* Collection Operations\n",
    "\n",
    "\n"
   ]
  },
  {
   "cell_type": "markdown",
   "metadata": {},
   "source": [
    "### M1 problem with arrays\n",
    "* **Arrays do not resize**\n",
    "* **Arrays do not check for duplicates**\n",
    "* **Arrays are a low level data structures**\n",
    "\n",
    "`\n",
    "Product[] products = { Product_inst1, Product_inst2 };\n",
    "products[2] = Product_inst3  # produces out of bounds exception\n",
    "`\n",
    "you have to write your own logic to add elements such as\n",
    "\n",
    "`\n",
    "private static Product[] add(Product product, Product[] array)\n",
    "    {\n",
    "        int length = array.length;\n",
    "        /*resize, copying has a cost */\n",
    "        Product[] newArray = Arrays.copyOf(array, length + 1);\n",
    "        newArray[length] = product;\n",
    "        return newArray;\n",
    "    }\n",
    "`\n",
    "\n",
    "and then use it\n",
    "\n",
    "`\n",
    "products = add(Product_inst3, products);\n",
    "`\n"
   ]
  },
  {
   "cell_type": "markdown",
   "metadata": {},
   "source": [
    "### Collections Framework implement useful logic"
   ]
  },
  {
   "cell_type": "markdown",
   "metadata": {},
   "source": [
    "### M2 Collection of collections\n",
    "\n",
    "**java.util.Collection** interface implemented by all java collections\n",
    "* commont methods in all collections are gatherered here\n",
    "\n",
    "##### methods of Collection\n",
    "* size()\n",
    "* isEmpty()\n",
    "* add(el)\n",
    "* addAll(collection)\n",
    "* remove(el)\n",
    "* removeAll(collection)\n",
    "* retainAll(collection : Remove all the elements of this collection not in the argument collection\n",
    "* contains(el)\n",
    "* containsAll(collection) : True if all the elements of the argument collection are in this collection\n",
    "* clear()  : Remove all elements from this collection"
   ]
  },
  {
   "cell_type": "markdown",
   "metadata": {},
   "source": [
    "### Types of collections\n",
    "\n",
    "#### List\n",
    "* order\n",
    "* indexing\n",
    "\n",
    "#### Set\n",
    "* has distinct elements (uniqueness of elements)\n",
    "* SortedSet  has a sortable order\n",
    "\n",
    "#### Queue, Deque\n",
    "* queue: fifo, first in first out\n",
    "* deque alsow supports lifo, last in first out\n",
    "\n",
    "#### Map, Sorted Map \n",
    "* pairs key, value\n",
    "\n",
    "### Intefaces vs Implementation\n",
    "**Interfaces**\n",
    "* exist for multiple data structures\n",
    "* focus on functional characteristics\n",
    "* prefered as variable types\n",
    "\n",
    "**Implementation**\n",
    "* Specific Data structure\n",
    "* Has specific performance characteristics\n",
    "* Concrete and Instantiable"
   ]
  },
  {
   "cell_type": "markdown",
   "metadata": {},
   "source": [
    "#### Interfaces and Real Implmentations\n",
    "![if_impl](iface_implement.png)\n",
    "\n",
    "#### Flowchart how to choose a collection\n",
    "![how2choose](coll_how2choose.png)\n"
   ]
  },
  {
   "cell_type": "markdown",
   "metadata": {},
   "source": [
    "### Iterable interface  a parent of Collection\n",
    "\n",
    "* provides a pointer/cursor  to walk through a collection\n",
    "\n",
    "#### syntaxis (allows concurrent access and modificaiton of collection)\n",
    "`\n",
    "Iterator<Product> iterator = products.iterator();\n",
    "while (iterator.hasNext()){\n",
    "   final Product product = iterator.next();\n",
    "   System.out.println(product);\n",
    "}\n",
    "`\n",
    "#### from java 5 a foreach loop sugar syntaxis (do not allow concurrent modification)\n",
    "`\n",
    "for(Product product : products){\n",
    " System.out.println(product);\n",
    "}\n",
    "`\n"
   ]
  },
  {
   "cell_type": "code",
   "execution_count": null,
   "metadata": {
    "collapsed": true
   },
   "outputs": [],
   "source": []
  }
 ],
 "metadata": {
  "kernelspec": {
   "display_name": "Python 3",
   "language": "python",
   "name": "python3"
  },
  "language_info": {
   "codemirror_mode": {
    "name": "ipython",
    "version": 3
   },
   "file_extension": ".py",
   "mimetype": "text/x-python",
   "name": "python",
   "nbconvert_exporter": "python",
   "pygments_lexer": "ipython3",
   "version": "3.5.1"
  }
 },
 "nbformat": 4,
 "nbformat_minor": 0
}

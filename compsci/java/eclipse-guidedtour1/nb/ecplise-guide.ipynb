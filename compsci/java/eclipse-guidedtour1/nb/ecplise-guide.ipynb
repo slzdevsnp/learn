{
 "cells": [
  {
   "cell_type": "markdown",
   "metadata": {},
   "source": [
    "# IDE Shortcuts¶\n",
    "C - space suggestion (OSX disable c_space for sportlight search )\n",
    "\n",
    "Cmd - 3 Quick acccess (history or any available option in IDE)\n",
    "\n",
    "Cmd - o  quick outline  in the file (search quickly method )\n",
    "\n",
    "Shift - Cmd - T  : navigate Open type  ( search an object in indexed projects ) \n",
    "\n",
    "Ctrl - Alt - H : open call hierarchy (on method name, shows all places were this method called)\n",
    "\n",
    "Cmd  + mouse hover (on method, classname, variable)  open Declaration, Implementation of this object\n",
    "\n",
    "Alt-Cmd-W  show in  (package explorer)  in a class,  shows  an object location in a package explorer\n"
   ]
  },
  {
   "cell_type": "markdown",
   "metadata": {},
   "source": [
    "### Eclipse Architecture\n",
    "\n",
    "* open Source\n",
    "*  cross platform\n",
    "* plugin-based\n",
    "\n",
    "** documentation**\n",
    "* http://help.eclipse.org\n",
    "* http://wiki.eclipse.org\n"
   ]
  },
  {
   "cell_type": "markdown",
   "metadata": {},
   "source": [
    "### Download\n",
    "www.eclipse.org\n",
    "\n",
    "\n",
    "#### osx \n",
    "jdks on mac under  /Library/Java/JavaVirtualMachines/"
   ]
  },
  {
   "cell_type": "markdown",
   "metadata": {},
   "source": [
    "#### Workspaces\n",
    "\n",
    "* projects\n",
    "* working sets\n",
    "* **multiple workspaces**"
   ]
  },
  {
   "cell_type": "markdown",
   "metadata": {},
   "source": [
    "### updates and installing plugins\n",
    "* Help -> Check for Updates\n",
    "* Help -> Install new Sowftware"
   ]
  },
  {
   "cell_type": "markdown",
   "metadata": {},
   "source": [
    "### UI of the eclipse IDE\n",
    "\n",
    "**View**  a particular window in the IDE e.g\n",
    "\n",
    "* Code editor\n",
    "* Project explorer\n",
    "* Tasks\n",
    "\n",
    "\n",
    "**Perspective**  a set of views for a given goal\n",
    "\n",
    "* development\n",
    "* Debugging\n",
    "* Source Code Management\n",
    "\n",
    "##### switching between perspectives\n",
    "Window -> Perspective -> Open Perspective -> Other\n",
    "\n",
    "#### Disable automatic build\n",
    "Eclipse -> Prefernces -> General -> Workspace\n",
    "\n",
    "* Disable build automatically \n",
    "* Enable save automatically before build\n",
    "\n",
    "#### Quick access feature \n",
    "\n",
    "type a word there to search in the history of your previous commands or in IDE options\n"
   ]
  },
  {
   "cell_type": "markdown",
   "metadata": {},
   "source": [
    "### Import of  sample project Junit\n",
    "\n",
    "Project/srce right click Import -> General -> File System | Archive File\n",
    "\n",
    "Open few files. \n",
    "\n",
    "**Link with Editor** button to connect an open file with package explorer\n",
    "\n",
    "**View Menu**  package presentation: hierarchical | flat\n",
    "\n",
    "Project context menu -> Properties  (project scope preferencies )\n",
    "\n",
    "**Source -> Format**  option to reformat code on any level according to a predefined style\n",
    "\n"
   ]
  },
  {
   "cell_type": "markdown",
   "metadata": {
    "collapsed": true
   },
   "source": [
    "## Navigator View\n",
    "\n",
    "Window -> Show View -> Navigator\n",
    "\n",
    "Navigator gives access to a file system view of the project.\n",
    "\n",
    "\n",
    "**Icons** reference is  help clipse webste http://help.eclipse.org/\n",
    "-> Java Development user guide -> Reference -> Icons\n",
    "\n"
   ]
  },
  {
   "cell_type": "markdown",
   "metadata": {},
   "source": [
    "## Working sets\n",
    "\n",
    "Useful to combine resources for a Search,  for a build\n",
    "\n",
    "Removing working sets is done fromm a menu of Navigator,Package Explorer -> Select Working set"
   ]
  },
  {
   "cell_type": "markdown",
   "metadata": {},
   "source": [
    "# Code editing\n",
    "File level: compare and replace from local history\n",
    "\n",
    "* Editor view\n",
    "* Content assist\n",
    "* Code Analysis\n",
    "* Editor preferences\n",
    "* Block Mode editing\n",
    "\n",
    "#### Tabs\n",
    "Open multiple files in tabs\n",
    "\n",
    "Drag 1 file lower or to the right and you will create a horizontal,vertical spli into 2 editing panes\n",
    "\n",
    "Maximizing a current file. When tabs are in single pane, **double clicking** on a tab maximizes a current file. \n",
    "\n",
    "##### Market bar and folding region\n",
    "\n",
    "Folding bar is a region to the right where you can un/fold  comments, methods\n",
    "\n",
    "Marker bar is the outmost right colunm in a code editor\n",
    "\n",
    "* set **Task** on a code line (appears in tasks view ). double clicking in Tasks view jumps to the task's code line\n",
    "* //TODO this has to be done  is recognized as a new task. Appears in Tasks when you build a project\n",
    "* Quick Nav : task tags\n",
    "* set **Bookmark** on a code line. Quick access Show view bookmarks. \n",
    "* set **Breakpoint**  by double clicking on a codeline. Disable breakpoing. Remove breakpoint\n",
    "\n",
    "\n",
    "#### Show source of selected element only\n",
    "\n",
    "You might need to enable its icon in window -> perspectie -> customize perspective -> editor presentation\n",
    "\n",
    "### Content Assist\n",
    "\n",
    "* start typign then hit Ctrl - Space  to see contextual menu of content Assist\n",
    "* in comments @ triggers a menu of tags\n",
    "* in parametes content assist suggests parameter names\n",
    "* type object name and content assist inserts a relevant import\n",
    "\n",
    "Content Assist  preferences (from quick nav)\n",
    "in Advanced favories, create new ex. java.util.Arrays. Then typing sor will show sorting methods from this class.\n",
    "\n",
    "### Code Analysis\n",
    "\n",
    "Analyzes your code as you type\n",
    "\n",
    "* on the eror hit Ctrl-1 or Command - 1  to see a list of suggestions\n",
    "\n",
    "Quick Nav  -> error warnings (for code analysis  \n",
    "\n",
    "Build a project shows problems which were uncaught with code analysis\n",
    "\n",
    "\n",
    "#### Block Selection Mode \n",
    "Icon o r Alt-Cmd - A  vor a vertical editing over several lines"
   ]
  },
  {
   "cell_type": "markdown",
   "metadata": {},
   "source": [
    "# Code Navigation\n",
    "\n",
    "Navigate -> GoTo -> Resource   start typing object name\n",
    "\n",
    "Navigate -> Open Resooure (Shift-Cmd - R)  opens a same dialog then opens a selected resource\n",
    "\n",
    "#### Hovering \n",
    "Move mouse cursor over a method name or type and if javadoc exists it will be presented in a context window. Click in that window to make it more permanent.\n",
    "\n",
    "Shift + Hovering shows a source definition of the object, method\n",
    "\n",
    "### Outline View\n",
    "\n",
    "is a view  on the right which summarizes the class, its fields and methos\n",
    "\n",
    "Varios icons allow a quick filtering of information in this list \n",
    "\n",
    "Cmd - o / Ctrl - o  is a **Quick outline** to allow a quick search of a method\n",
    "\n",
    "##### Navigation icons \n",
    "\n",
    "contain backward / forwards navigation points \n",
    "\n",
    "Last edit icon  brings you back to a line last edited\n",
    "\n",
    "##### Breadcrumb\n",
    "on a method name context menu: Show in breadCrumb (Alt-Cmd-B)\n",
    "\n",
    "You can navigate to other objects on any level of the path"
   ]
  },
  {
   "cell_type": "markdown",
   "metadata": {
    "collapsed": true
   },
   "source": [
    "### Navigation by Searching\n",
    "\n",
    "Find/Replace  Cmd-F   only  in  a current file, \n",
    "\n",
    "find next Cmd-K\n",
    "\n",
    "Icremental find  Cmd-J,  Cmd-J next incremental j.  Hit escape to get out\n",
    "\n",
    "\n",
    "##### Multipe File Searching\n",
    "Search -> Search (then chose file search | java search ..\n",
    "\n",
    "In Search results window -> Show as list \n",
    "\n",
    "replace selected  or replace all\n",
    "\n",
    "Search -> **Occurencies in file** -> Identificator  shows a list of occurencies of a current string in a search window\n",
    "\n",
    "**Java Search**   specify type or method,   limit to all occurencies, seach string followd by star.  Then in search results  show as list to see a list of types starting with a search string.\n",
    "\n",
    "**Remote Search** can search on other computers. click on browse\n",
    "\n",
    "\n",
    "##### Overview Ruller \n",
    "is a column on the right of the editor window. \n",
    "\n",
    "* shows searched occurencies\n",
    "\n",
    "\n",
    "#### Problems view \n",
    "In Problems view you can jump to warnings and problems˜"
   ]
  },
  {
   "cell_type": "code",
   "execution_count": null,
   "metadata": {
    "collapsed": true
   },
   "outputs": [],
   "source": []
  }
 ],
 "metadata": {
  "kernelspec": {
   "display_name": "Python 3",
   "language": "python",
   "name": "python3"
  },
  "language_info": {
   "codemirror_mode": {
    "name": "ipython",
    "version": 3
   },
   "file_extension": ".py",
   "mimetype": "text/x-python",
   "name": "python",
   "nbconvert_exporter": "python",
   "pygments_lexer": "ipython3",
   "version": "3.6.0"
  }
 },
 "nbformat": 4,
 "nbformat_minor": 2
}

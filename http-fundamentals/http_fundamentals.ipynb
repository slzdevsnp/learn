{
 "cells": [
  {
   "cell_type": "markdown",
   "metadata": {},
   "source": [
    "# HTTP Fundamentals"
   ]
  },
  {
   "cell_type": "markdown",
   "metadata": {},
   "source": [
    "### M2 Messages\n",
    "#### http request methods** \n",
    "* **GET** retrieve a resource  (safe)\n",
    "* **POST** update a resource  (unsafe)\n",
    "* **PUT** store a resource (less used)\n",
    "* **DELETE** remove a resource (less used ) \n",
    "* **HEAD**  ￼￼￼￼￼￼retreive headers of a resource"
   ]
  },
  {
   "cell_type": "markdown",
   "metadata": {},
   "source": [
    "#### HTTP Message types RFC\n",
    "http://www.w3.org/Protocols/rfc2616/rfc2616-sec4.html#sec4"
   ]
  },
  {
   "cell_type": "markdown",
   "metadata": {},
   "source": [
    "#### Common Request Headers\n",
    "![cmnt_req_head](common_request_headers.png)"
   ]
  },
  {
   "cell_type": "markdown",
   "metadata": {},
   "source": [
    "### Response Status code categories\n",
    "![status_categ](status_cd_ranges.png)"
   ]
  },
  {
   "cell_type": "markdown",
   "metadata": {},
   "source": [
    "### Frequent Response Status Codes\n",
    "![freq_status_cd](freq_status_codes.png)"
   ]
  },
  {
   "cell_type": "markdown",
   "metadata": {},
   "source": [
    "### http fiddler\n",
    "\n",
    "http://www.fiddler2.com\n",
    "\n",
    "A tool to track http requests and responses"
   ]
  },
  {
   "cell_type": "markdown",
   "metadata": {},
   "source": [
    "### lower level network connection viewing with WireShark\n",
    "http://www.wireshark.org"
   ]
  },
  {
   "cell_type": "markdown",
   "metadata": {},
   "source": [
    "### M3 http connection network stack\n",
    "![conn_stack](connect_stack.png)"
   ]
  },
  {
   "cell_type": "markdown",
   "metadata": {},
   "source": [
    "## M4 Http Architecture\n",
    "\n",
    "#### proxies, caches, resources redux"
   ]
  },
  {
   "cell_type": "markdown",
   "metadata": {},
   "source": [
    "* **Forward proxy** is close to a client  \n",
    "    * example usage: filter requests to specific domains\n",
    "* **Revese proxy** is close to a server\n",
    "\n",
    "Proxies can be configured to do: \n",
    "* load balancing ( round robin, server with lower resource usage ) \n",
    "* serve specific content( e.g. images, static html)  from specific host\n",
    "* ssl decription \n",
    "* monitor http requests with dangerous messages ( security)\n"
   ]
  },
  {
   "cell_type": "markdown",
   "metadata": {
    "collapsed": true
   },
   "source": [
    "#### Cache\n",
    "* public cache is shared between multiple users\n",
    "* private cache is dedicated to a single user (e.g. Temporary Internet files for IExplorer or chrome://cache)\n"
   ]
  },
  {
   "cell_type": "markdown",
   "metadata": {},
   "source": [
    "**Cache-Control** in http headers\n",
    "![cache_c](cache_ctrl.png)"
   ]
  },
  {
   "cell_type": "markdown",
   "metadata": {},
   "source": [
    "# M5 Http Security"
   ]
  },
  {
   "cell_type": "markdown",
   "metadata": {},
   "source": [
    "http is designed as stateless protocol"
   ]
  },
  {
   "cell_type": "markdown",
   "metadata": {},
   "source": [
    "#### Saving state\n",
    "* <input type =\"hidden\" .. />  (not secure, used for short-lived state)\n",
    "* user session store (user browser's session, got for short-lived state)\n",
    "    * user session is identified by a **coookie** ( http://tools.ietf.org/html/rfc6265 )"
   ]
  },
  {
   "cell_type": "markdown",
   "metadata": {},
   "source": [
    "If a user disables cookies,  a website can implemente a cookeless session by adding to each url a unique generated identifier for a user "
   ]
  },
  {
   "cell_type": "markdown",
   "metadata": {},
   "source": [
    "#### setting cookies\n",
    "cookies are set in http response\n",
    "**Set-Cookie:**\n",
    "\n",
    "#### session cookie vs persistent cookie\n",
    "* persistent cooky stored on filesystem and should have an expiry date"
   ]
  },
  {
   "cell_type": "markdown",
   "metadata": {},
   "source": [
    "#### restricting cookie to specific domain\n",
    "\n",
    "a dot in front of searchengine.com allows cookie to be used on hosts on searchengine subdomain\n",
    "\n",
    "Set-Cookie: GUID=xxxxx..;\n",
    "\n",
    "domain=.searchengine.com;\n",
    "\n",
    "path=/\n",
    "\n",
    "expires=2012-09-21 23:59:59\n",
    ".."
   ]
  },
  {
   "cell_type": "markdown",
   "metadata": {},
   "source": [
    "#### Authentication\n",
    "\n",
    "* **Basic**:  encodes username and password in base64 So not secure (unless used with https)\n",
    "* **Digest authentication**: client sends an encrypted digest of password. still vulnerable to the man in the middle attack\n",
    "* **Windows authentication**: used for internal sites in companies which have active directory for user accounts\n",
    "* **Forms authentication**: (very popular, gives complete control over login using any local system e.g. db) login details are provided within a form. credentials are transmitted in clear text\n",
    "* **OpenId** (google, facebook, ..)"
   ]
  },
  {
   "cell_type": "markdown",
   "metadata": {},
   "source": [
    "### HTTPS (SSL or TLS)\n",
    "\n",
    "##### encrypts messages before they travel on network\n",
    "\n",
    "##### prevents session highjacking\n",
    "\n",
    "##### requires a server to have a certificate which have a hostname. \n",
    "\n",
    "* browser can be guaranteed to connect to the desired server\n",
    "* administrators need to purchase certificates from certificate authority and install them on server\n",
    "\n",
    "##### downsides\n",
    "* https is computationaly expensive (so large sites use dedicated hardware ssl accelerators)\n",
    "* cannot cache https requests in a public cache\n",
    "* expensive to establish an initial connection between a client and a server\n"
   ]
  },
  {
   "cell_type": "code",
   "execution_count": null,
   "metadata": {
    "collapsed": true
   },
   "outputs": [],
   "source": []
  }
 ],
 "metadata": {
  "kernelspec": {
   "display_name": "Python 3",
   "language": "python",
   "name": "python3"
  },
  "language_info": {
   "codemirror_mode": {
    "name": "ipython",
    "version": 3
   },
   "file_extension": ".py",
   "mimetype": "text/x-python",
   "name": "python",
   "nbconvert_exporter": "python",
   "pygments_lexer": "ipython3",
   "version": "3.5.1"
  }
 },
 "nbformat": 4,
 "nbformat_minor": 0
}

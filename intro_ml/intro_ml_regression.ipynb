{
 "cells": [
  {
   "cell_type": "markdown",
   "metadata": {},
   "source": [
    "# Chapter: Regression\n",
    "\n",
    "* set of features  , 1 response variable to be predicted\n",
    "* correlation betweeen features and  response variable\n",
    "\n",
    "\n",
    "* Simple linear regression  ( 1 feature)\n",
    "\n",
    "$$ \\hat{Y} = \\beta_0 + \\beta_1 * X + \\epsilon $$\n",
    "$X$ predictor, $\\hat{Y}$ estimated response, $\\beta_0$ intercept , $\\beta_1$ slope of $X$, $\\epsilon$ statistical error\n",
    "\n",
    "* Estimating coefficients  is done by minimizing the root mean sum of squares of the regressio\n",
    "$$RMSE = \\sqrt{\\frac{1}{N} \\sum_{i=1}^N (Y_i-(\\beta_0 + \\beta_1*X_i))^2 }$$\n",
    "\n",
    "* RMSE has unit and scale\n",
    "\n",
    "### Accuracy: R-squared\n",
    "\n",
    "$$SS_{res} = \\sum_i (Y_i - \\hat{Y}_i)^2$$      \n",
    "$$SS_{tot} = \\sum_i (Y_i - \\bar{Y})^2$$\n",
    "where $\\bar{Y}$ is a sample mean response\n",
    "$$R^2 = 1 - \\frac{SS_{res}}{SS_{tot}}$$\n",
    "\n",
    "$R^2$ close to 1  points to a very good linear fit"
   ]
  }
 ],
 "metadata": {
  "kernelspec": {
   "display_name": "R",
   "language": "R",
   "name": "ir"
  },
  "language_info": {
   "codemirror_mode": "r",
   "file_extension": ".r",
   "mimetype": "text/x-r-source",
   "name": "R",
   "pygments_lexer": "r",
   "version": "3.2.2"
  }
 },
 "nbformat": 4,
 "nbformat_minor": 0
}

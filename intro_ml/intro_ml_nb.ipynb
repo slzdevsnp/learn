{
 "cells": [
  {
   "cell_type": "markdown",
   "metadata": {},
   "source": [
    "### Gentle Intro\n",
    "\n",
    "The iris dataset\n",
    "\n",
    "50 observations of 4 numeric varialbes for 3 species of iris"
   ]
  },
  {
   "cell_type": "code",
   "execution_count": 1,
   "metadata": {
    "collapsed": false
   },
   "outputs": [
    {
     "name": "stdout",
     "output_type": "stream",
     "text": [
      "'data.frame':\t150 obs. of  5 variables:\n",
      " $ Sepal.Length: num  5.1 4.9 4.7 4.6 5 5.4 4.6 5 4.4 4.9 ...\n",
      " $ Sepal.Width : num  3.5 3 3.2 3.1 3.6 3.9 3.4 3.4 2.9 3.1 ...\n",
      " $ Petal.Length: num  1.4 1.4 1.3 1.5 1.4 1.7 1.4 1.5 1.4 1.5 ...\n",
      " $ Petal.Width : num  0.2 0.2 0.2 0.2 0.2 0.4 0.3 0.2 0.2 0.1 ...\n",
      " $ Species     : Factor w/ 3 levels \"setosa\",\"versicolor\",..: 1 1 1 1 1 1 1 1 1 1 ...\n"
     ]
    }
   ],
   "source": [
    "str(iris)"
   ]
  },
  {
   "cell_type": "code",
   "execution_count": 2,
   "metadata": {
    "collapsed": false
   },
   "outputs": [
    {
     "data": {
      "text/plain": [
       "  Sepal.Length    Sepal.Width     Petal.Length    Petal.Width   \n",
       " Min.   :4.300   Min.   :2.000   Min.   :1.000   Min.   :0.100  \n",
       " 1st Qu.:5.100   1st Qu.:2.800   1st Qu.:1.600   1st Qu.:0.300  \n",
       " Median :5.800   Median :3.000   Median :4.350   Median :1.300  \n",
       " Mean   :5.843   Mean   :3.057   Mean   :3.758   Mean   :1.199  \n",
       " 3rd Qu.:6.400   3rd Qu.:3.300   3rd Qu.:5.100   3rd Qu.:1.800  \n",
       " Max.   :7.900   Max.   :4.400   Max.   :6.900   Max.   :2.500  \n",
       "       Species  \n",
       " setosa    :50  \n",
       " versicolor:50  \n",
       " virginica :50  \n",
       "                \n",
       "                \n",
       "                "
      ]
     },
     "metadata": {},
     "output_type": "display_data"
    }
   ],
   "source": [
    "summary(iris)"
   ]
  },
  {
   "cell_type": "markdown",
   "metadata": {},
   "source": [
    "## Classification, Regression, Clustering\n",
    "\n",
    "* **Classification**\n",
    "    * goal: predict category of new observation\n",
    "        * earlier observation -> estimate ->  Classifier\n",
    "        * Unseen Data  -> Classifer -> Class\n",
    "    * Examples:\n",
    "        * Medical diagnosis\n",
    "        * Animal Recognition (cats, dogs)\n",
    "    *  Qualitative Ouput, Predefined Classes\n",
    "    \n",
    "* **Regression**\n",
    "    * goal : predict a continuous value of response from continuous values of predictors variables\n",
    "        * e.g. relation weight - height linear\n",
    "        * height = B0 +B1 * weight\n",
    "    * Examples: \n",
    "        * predict credit scores based of previous payments\n",
    "        * grades -> landing a job\n",
    "    * Quantitative output\n",
    "* **Clustering**\n",
    "    * grouping objects in clusters\n",
    "        * similar within cluster\n",
    "        * dissimilar between clusters\n",
    "    * Example grouping similar animal photos\n",
    "        * no labels, no right or wrong, plenty possible clustering \n",
    "    * e.g. k-means   will cluster on k clusters based on similarity measure\n",
    "    "
   ]
  },
  {
   "cell_type": "code",
   "execution_count": 3,
   "metadata": {
    "collapsed": false,
    "scrolled": true
   },
   "outputs": [
    {
     "data": {
      "text/plain": [
       "            \n",
       "species       1  2  3\n",
       "  setosa     50  0  0\n",
       "  versicolor  0  2 48\n",
       "  virginica   0 36 14"
      ]
     },
     "metadata": {},
     "output_type": "display_data"
    },
    {
     "data": {
      "image/png": "[encoded data removed]",
      "text/plain": [
       "plot without title"
      ]
     },
     "metadata": {
      "image/svg+xml": {
       "isolated": true
      }
     },
     "output_type": "display_data"
    }
   ],
   "source": [
    "## example of k-means clustering on iris dataset\n",
    "set.seed(1)\n",
    "my_iris <- iris[-5] # chop out the factor Species column\n",
    "species <- iris$Species #keep the column with factors\n",
    "kmeans_iris <- kmeans(my_iris, 3) # k-means clustering\n",
    "table(species, kmeans_iris$cluster)\n",
    "plot(Petal.Length ~ Petal.Width, data = my_iris, col = kmeans_iris$cluster)"
   ]
  },
  {
   "cell_type": "markdown",
   "metadata": {},
   "source": [
    "## Supervised vs Unsupervised\n",
    "\n",
    " * Superviced learning.  labeled observations are availale to the algorithm during training\n",
    " * Unsupervised learning.  do not require labeled data\n",
    "     * e.g. clustering technique\n",
    "     \n",
    " ### Performance of the model\n",
    " \n",
    "  * Supervized learning\n",
    "     * compare real labels with predicted labels\n",
    "     * predicted values should be similar to real labels\n",
    "        \n",
    "    * Unsupervized learning:\n",
    "       * no labeled data to compare to\n",
    "       * techniques will be seen in the course\n",
    "        \n",
    "### Semi-Supervized learning\n",
    "\n",
    " * lots of unlabeled observation and few labeled\n",
    " * group similar observation using clustering\n",
    " \n",
    "      \n",
    "  \n",
    "  "
   ]
  },
  {
   "cell_type": "code",
   "execution_count": 4,
   "metadata": {
    "collapsed": false
   },
   "outputs": [
    {
     "name": "stderr",
     "output_type": "stream",
     "text": [
      "Loading required package: rpart\n"
     ]
    },
    {
     "data": {
      "text/html": [
       "<dl class=dl-horizontal>\n",
       "\t<dt>1</dt>\n",
       "\t\t<dd>setosa</dd>\n",
       "\t<dt>2</dt>\n",
       "\t\t<dd>virginica</dd>\n",
       "</dl>\n"
      ],
      "text/latex": [
       "\\begin{description*}\n",
       "\\item[1] setosa\n",
       "\\item[2] virginica\n",
       "\\end{description*}\n"
      ],
      "text/markdown": [
       "1\n",
       ":   setosa2\n",
       ":   virginica\n",
       "\n"
      ],
      "text/plain": [
       "        1         2 \n",
       "   setosa virginica \n",
       "Levels: setosa versicolor virginica"
      ]
     },
     "metadata": {},
     "output_type": "display_data"
    }
   ],
   "source": [
    "##decision tree example on siris\n",
    "require(rpart)\n",
    "set.seed(1)\n",
    "tree <- rpart(Species ~ Sepal.Length + Sepal.Width + Petal.Length + Petal.Width, \n",
    "              data = iris, method = \"class\")\n",
    "# Add a dataframe containing unseen observations\n",
    "unseen <- data.frame(Sepal.Length = c(5.3, 7.2), \n",
    "                     Sepal.Width = c(2.9, 3.9), \n",
    "                     Petal.Length = c(1.7, 5.4), \n",
    "                     Petal.Width = c(0.8, 2.3))\n",
    "# Predict the label of the unseen observations\n",
    "predict(tree, unseen, type=\"class\")"
   ]
  },
  {
   "cell_type": "code",
   "execution_count": 5,
   "metadata": {
    "collapsed": false
   },
   "outputs": [
    {
     "data": {
      "text/plain": [
       "       wt              hp       \n",
       " Min.   :1.513   Min.   : 52.0  \n",
       " 1st Qu.:2.581   1st Qu.: 96.5  \n",
       " Median :3.325   Median :123.0  \n",
       " Mean   :3.217   Mean   :146.7  \n",
       " 3rd Qu.:3.610   3rd Qu.:180.0  \n",
       " Max.   :5.424   Max.   :335.0  "
      ]
     },
     "metadata": {},
     "output_type": "display_data"
    },
    {
     "data": {
      "image/png": "[encoded data removed]",
      "text/plain": [
       "plot without title"
      ]
     },
     "metadata": {
      "image/svg+xml": {
       "isolated": true
      }
     },
     "output_type": "display_data"
    }
   ],
   "source": [
    "cars <- data.frame(mtcars[6],mtcars[4])\n",
    "summary(cars)\n",
    "km_cars <- kmeans(cars, 2)\n",
    "#km_cars$cluster # print clusters\n",
    "plot(cars, col=km_cars$cluster) # print two clusters\n",
    "#add centers of clusters\n",
    "points(km_cars$centers, pch = 22, bg = c(1, 2), cex = 2)"
   ]
  },
  {
   "cell_type": "markdown",
   "metadata": {},
   "source": [
    "## Performance of a model\n",
    "\n",
    "* Accuracy\n",
    "* Computation time\n",
    "* Interpretabiity\n",
    "\n",
    "3 types of tasks\n",
    "\n",
    "* Classification\n",
    "* Regression\n",
    "* Clustering\n",
    "\n",
    "Accuraccy (correctly classified / total number of classified )\n",
    "\n",
    "#### Confusion matrix for classification\n",
    " \n",
    "\n",
    " \n",
    "|     | | prediction    |\n",
    "|-----|-|---------------|\n",
    "|     | | P     |  N    |\n",
    "|Truth|P| TrueP | FalseN|\n",
    "|     |N| FalseP| TrueN |\n",
    " \n",
    "$$ Accuracy = \\frac{TP+TN}{TP+TN+FP+FN} $$\n",
    "$$ Precision = \\frac{TP}{TP+FP} $$\n",
    "$$ Recall = \\frac{TP}{TP+FN} $$\n",
    "\n",
    "#### RMSE for Regression\n",
    "\n",
    "* Root mean Squared Error RMSE\n",
    "    * (squared sum of residuals)\n",
    "$$ RMSE = \\sqrt{\\frac{1}{N}\\sum^N_{i=1} (y_i -\\hat{y}_i)^2 } $$\n",
    "\n",
    "#### Clustering\n",
    " * Similarity within each cluster\n",
    " * Similarity between clusters\n",
    " \n",
    " * Dunn's index   minimum interclaster distance / maximal diameter"
   ]
  },
  {
   "cell_type": "code",
   "execution_count": 6,
   "metadata": {
    "collapsed": false
   },
   "outputs": [
    {
     "data": {
      "text/plain": [
       "   pred\n",
       "      0   1\n",
       "  0 371  53\n",
       "  1  78 212"
      ]
     },
     "metadata": {},
     "output_type": "display_data"
    }
   ],
   "source": [
    "# make a confusion matrix on a titanic dataset\n",
    "set.seed(1)\n",
    "# dataset about rate of survival based on few features\n",
    "titanic<-read.csv(file='titanic.csv', header=TRUE)\n",
    "# A decision tree classification model is built on the data\n",
    "tree <- rpart(Survived ~ ., data = titanic, method = \"class\") #survived response, predictors all others\n",
    "pred<-predict(tree, titanic, type='class') #survival predicted by model\n",
    "conf<-table(titanic$Survived, pred ) # make a confusion matrix\n",
    "conf"
   ]
  },
  {
   "cell_type": "code",
   "execution_count": 7,
   "metadata": {
    "collapsed": false
   },
   "outputs": [
    {
     "data": {
      "text/html": [
       "0.816526610644258"
      ],
      "text/latex": [
       "0.816526610644258"
      ],
      "text/markdown": [
       "0.816526610644258"
      ],
      "text/plain": [
       "[1] 0.8165266"
      ]
     },
     "metadata": {},
     "output_type": "display_data"
    },
    {
     "data": {
      "text/html": [
       "0.8"
      ],
      "text/latex": [
       "0.8"
      ],
      "text/markdown": [
       "0.8"
      ],
      "text/plain": [
       "[1] 0.8"
      ]
     },
     "metadata": {},
     "output_type": "display_data"
    },
    {
     "data": {
      "text/html": [
       "0.731034482758621"
      ],
      "text/latex": [
       "0.731034482758621"
      ],
      "text/markdown": [
       "0.731034482758621"
      ],
      "text/plain": [
       "[1] 0.7310345"
      ]
     },
     "metadata": {},
     "output_type": "display_data"
    }
   ],
   "source": [
    "### compute accuracy, precision and recall\n",
    "TP <- conf[2,2] \n",
    "FN <- conf[2,1] \n",
    "FP <- conf[1,2] \n",
    "TN <- conf[1,1] \n",
    "\n",
    "accuracy <- (TP + TN) / (TP+FN+FP+TN)\n",
    "accuracy\n",
    "precision <- TP/ (TP + FP)\n",
    "precision \n",
    "recall <- TP / (TP + FN)\n",
    "recall "
   ]
  },
  {
   "cell_type": "code",
   "execution_count": 9,
   "metadata": {
    "collapsed": false
   },
   "outputs": [
    {
     "name": "stdout",
     "output_type": "stream",
     "text": [
      "[1] \"WSS/BSS 0.276284625418552\"\n"
     ]
    },
    {
     "data": {
      "image/png": "[encoded data removed]",
      "text/plain": [
       "plot without title"
      ]
     },
     "metadata": {
      "image/svg+xml": {
       "isolated": true
      }
     },
     "output_type": "display_data"
    }
   ],
   "source": [
    "## clustering evaluaate a ratio of within sum of squares to the between cluster\n",
    "set.seed(1)\n",
    "seeds <- read.csv(file='seeds.csv', row.names=1, header=T)\n",
    "km_seeds <- kmeans(seeds, 3)\n",
    "plot(length ~ compactness, data = seeds, col=km_seeds$cluster)\n",
    "print(paste('WSS/BSS' , km_seeds$tot.withinss / km_seeds$betweenss))\n",
    "# low value of within SS / between SS shows a good measure of clustering\n",
    "# clusters are well separated"
   ]
  },
  {
   "cell_type": "markdown",
   "metadata": {},
   "source": [
    "### Training set and test sets\n",
    "\n",
    "* Predictive power  vs descriptive power\n",
    "\n",
    "* Supervised learning: model must predict unseen observation\n",
    "* Classical statistics: model must help to explain or describe data and its relations\n",
    "\n",
    "#### Training sets and Test sets  for supervised learning\n",
    "* Split the dataset\n",
    "* training and test are disjoint sets\n",
    "* not relevant for unsupervized learning\n",
    "\n",
    "#### effect of sampling \n",
    "* splitting train/test dataset can have consequences\n",
    "* cross-validation,  e.g. 4-fold cross-validation"
   ]
  },
  {
   "cell_type": "code",
   "execution_count": 16,
   "metadata": {
    "collapsed": false
   },
   "outputs": [],
   "source": [
    "## how to do train/set split (titanic dataset) 0.7/0.3\n",
    "set.seed(1)\n",
    "n <- nrow(titanic) #number of observations\n",
    "shuffled <- titanic[sample(n),] #shuffle the dataset\n",
    "# Split the data in train and test\n",
    "pct_split<-0.7\n",
    "train_indices <- 1:round(pct_split * n)\n",
    "train <- shuffled[train_indices, ]\n",
    "test_indices <- (round(pct_split * n) + 1):n\n",
    "test <- shuffled[test_indices, ] #the rest of the dataset"
   ]
  },
  {
   "cell_type": "code",
   "execution_count": 21,
   "metadata": {
    "collapsed": false
   },
   "outputs": [
    {
     "name": "stdout",
     "output_type": "stream",
     "text": [
      "   pred\n",
      "      0   1\n",
      "  0 124   5\n",
      "  1  38  47\n",
      "[1] \"accuracy: 0.799065420560748\"\n"
     ]
    }
   ],
   "source": [
    "#apply  the classification model but on the training set\n",
    "tree <- rpart(Survived ~ ., train, method = \"class\")\n",
    "# Predict the outcome on the test set with tree:\n",
    "pred<-predict(tree, test, type='class')\n",
    "# Calculate the confusion matrix: conf\n",
    "conf<-table(test$Survived, pred)\n",
    "print(conf)\n",
    "print(paste(\"accuracy:\" , sum(diag(conf))/sum(conf) ))"
   ]
  },
  {
   "cell_type": "code",
   "execution_count": 24,
   "metadata": {
    "collapsed": false
   },
   "outputs": [
    {
     "name": "stdout",
     "output_type": "stream",
     "text": [
      "[1] \"cross validation on 6 runs  0.801120448179272\"\n",
      "[1] 0.01265164\n"
     ]
    }
   ],
   "source": [
    "## cross validation on 6 runs \n",
    "npass <- 6\n",
    "accs <- rep(0,6) # a vec of accurencies\n",
    "n<- nrow(shuffled)\n",
    "for (i in 1:6) {\n",
    "  # the trick is to correctly define a moving window of indices of a test set\n",
    "  indices <- (( (i-1) * round((1/npass)*n)) + 1):((i*round((1/npass) * n)))\n",
    "  test <- shuffled[indices,] #indices are indexesof test set\n",
    "  train <- shuffled[-indices,] #train is the rest\n",
    "  tree <- rpart(Survived ~ ., train, method = \"class\")\n",
    "  pred<-predict(tree, test, type='class')  \n",
    "  conf<-table(test$Survived, pred)\n",
    "  accs[i] <- sum(diag(conf))/sum(conf)\n",
    "}\n",
    "print(paste(\"cross validation on 6 runs \" ,mean(accs)))\n",
    "#observe a high value of accuracy from cross-validation\n",
    "print(sd(accs)) #and a low value of standard deviation"
   ]
  }
 ],
 "metadata": {
  "kernelspec": {
   "display_name": "R",
   "language": "R",
   "name": "ir"
  },
  "language_info": {
   "codemirror_mode": "r",
   "file_extension": ".r",
   "mimetype": "text/x-r-source",
   "name": "R",
   "pygments_lexer": "r",
   "version": "3.3.0"
  }
 },
 "nbformat": 4,
 "nbformat_minor": 0
}

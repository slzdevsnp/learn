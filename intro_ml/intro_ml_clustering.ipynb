{
 "cells": [
  {
   "cell_type": "markdown",
   "metadata": {},
   "source": [
    "# Chapter Clustering\n",
    "\n",
    "* Cluster : a collection of objects\n",
    "    * simlar within cluster\n",
    "    * dissimilar between clusters\n",
    "\n",
    "* Clustering: grouing objects in clusters\n",
    "    * no labels needed <= unsupervised classification\n",
    "    * plenty of possible clusterings\n",
    "* Give insights on the data\n",
    "\n",
    "* Clustering usages:\n",
    "    * Visualize your data\n",
    "    * Pattern analysis\n",
    "    * pre-processing step for other more targetd algorithms\n",
    "    * outlier detection\n",
    "    * ..\n",
    "* Example usages:\n",
    "    * targeted marketing programs\n",
    "    * student segmentations\n",
    "    * Data Mining\n",
    "* Clustering how?\n",
    "    * need a measure of similarity $d(..,..)$\n",
    "        * numerical variables --> euclidean, manhattan distance\n",
    "        * categorical variables --> dummy variables, or construct your own distance\n",
    "        \n",
    "* Clustering Methods\n",
    "    * k-means\n",
    "    * Hierarchical ( many variations exist)\n",
    "    \n",
    "* Compactness and Separation\n",
    "![wss_bss](./wss_bss.png)\n",
    "\n",
    "#### k-Means Algorithm\n",
    "* Goal: Partition data in **k** disjoint subsets\n",
    "* steps:\n",
    "    1. randomly assign **k** centroids\n",
    "    2. Assign data to closest centroid\n",
    "    3. Move centroids to average location of currently defined clusters\n",
    "![kmeans3](./kmeans3.png) \n",
    "    4. Repeat step 2 and 3 to find an optimcal **k** untill algo convergence\n",
    "        * after predtermined number of N iterations\n",
    "        *  when $WSS / ( WSS + BSS ) < 0.2$\n",
    "        \n",
    "* Choosing **k** Scree plot\n",
    "![scree](./scree_plot.png) \n",
    "\n",
    "* k-Means in R\n",
    "\n",
    "* R> my_km <- kmeans(data,centers, nstart)\n",
    "    * R>my_km\\$tot.withinss\n",
    "    * R>my_km\\$betweenss"
   ]
  }
 ],
 "metadata": {
  "kernelspec": {
   "display_name": "R",
   "language": "R",
   "name": "ir"
  },
  "language_info": {
   "codemirror_mode": "r",
   "file_extension": ".r",
   "mimetype": "text/x-r-source",
   "name": "R",
   "pygments_lexer": "r",
   "version": "3.2.2"
  }
 },
 "nbformat": 4,
 "nbformat_minor": 0
}

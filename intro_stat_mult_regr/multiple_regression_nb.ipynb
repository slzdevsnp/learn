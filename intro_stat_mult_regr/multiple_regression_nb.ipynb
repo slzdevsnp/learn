{
 "cells": [
  {
   "cell_type": "markdown",
   "metadata": {},
   "source": [
    "# Multiple Regression\n",
    "\n",
    "Multiple rgression adds more predictors $(X_1,X_2,..,X_k)$  with regression equation \n",
    "$$ \\hat{Y} = B_0 + \\sum B_k * X_k $$\n",
    "\n",
    "$$R = r_{\\hat{Y}Y}$$ \n",
    "is a correlation between the predicted scores and the observed scores"
   ]
  },
  {
   "cell_type": "code",
   "execution_count": 10,
   "metadata": {
    "collapsed": false,
    "scrolled": true
   },
   "outputs": [
    {
     "data": {
      "text/plain": [
       "     salary            age            years            pubs        dept  \n",
       " Min.   : 60072   Min.   :31.00   Min.   : 5.00   Min.   : 14.00   H:28  \n",
       " 1st Qu.:101818   1st Qu.:44.00   1st Qu.:17.75   1st Qu.: 44.00   P:35  \n",
       " Median :133049   Median :49.00   Median :23.50   Median : 66.00   S:37  \n",
       " Mean   :133607   Mean   :50.33   Mean   :24.14   Mean   : 66.93         \n",
       " 3rd Qu.:170374   3rd Qu.:59.00   3rd Qu.:31.25   3rd Qu.: 90.00         \n",
       " Max.   :199606   Max.   :67.00   Max.   :41.00   Max.   :125.00         "
      ]
     },
     "metadata": {},
     "output_type": "display_data"
    }
   ],
   "source": [
    "## a dataset with professor salaries\n",
    "fs<-read.csv(file='salary.csv',header=TRUE)\n",
    "# to see an 'average' professor\n",
    "summary(fs)"
   ]
  },
  {
   "cell_type": "code",
   "execution_count": 11,
   "metadata": {
    "collapsed": false
   },
   "outputs": [
    {
     "name": "stdout",
     "output_type": "stream",
     "text": [
      "          salary       age     years      pubs\n",
      "salary 1.0000000 0.5109749 0.6491468 0.6993987\n",
      "age    0.5109749 1.0000000 0.6563766 0.5557383\n",
      "years  0.6491468 0.6563766 1.0000000 0.6801977\n",
      "pubs   0.6993987 0.5557383 0.6801977 1.0000000\n"
     ]
    }
   ],
   "source": [
    "#lets see correlations ( we are interested to predict salary)\n",
    "print(cor(fs[1:4]))"
   ]
  },
  {
   "cell_type": "code",
   "execution_count": 12,
   "metadata": {
    "collapsed": false
   },
   "outputs": [
    {
     "data": {
      "image/png": "[encoded data removed]",
      "text/plain": [
       "Plot with title \"plot_pubs\""
      ]
     },
     "metadata": {
      "image/svg+xml": {
       "isolated": true
      }
     },
     "output_type": "display_data"
    }
   ],
   "source": [
    "##visualize relationships salary ~ years, salary ~ publicaions\n",
    "model_years <- lm(fs$salary ~ fs$years)\n",
    "model_pubs <- lm(fs$salary ~ fs$pubs)\n",
    "# Plot both enhanced scatter plots in one plot matrix of 1 by 2\n",
    "par(mfrow = c(1, 2))\n",
    "plot(fs$salary~fs$years, main =\"plot_years\", xlab = \"years\", ylab = \"salary\")\n",
    "abline(model_years,col=\"red\")\n",
    "plot(fs$salary~fs$pubs, main = \"plot_pubs\", xlab = \"pubs\", ylab = \"salary\")\n",
    "abline(model_pubs, col=\"blue\")"
   ]
  },
  {
   "cell_type": "code",
   "execution_count": 13,
   "metadata": {
    "collapsed": false
   },
   "outputs": [
    {
     "name": "stdout",
     "output_type": "stream",
     "text": [
      "[1] \"how r squared evolves:  0.421391615178524  \"\n",
      "[2] \"how r squared evolves:  0.545127063012723  \"\n"
     ]
    }
   ],
   "source": [
    "##compare a model with 1 predictor and 2 predictor variables\n",
    "model_1 <- model_years\n",
    "model_2 <- lm(fs$salary ~ fs$years + fs$pubs)\n",
    "r_squared <- c(summary(model_1)$r.squared, summary(model_2)$r.squared )\n",
    "print(paste('how r squared evolves: ',paste(r_squared, collapbse= ' ')))"
   ]
  },
  {
   "cell_type": "code",
   "execution_count": 14,
   "metadata": {
    "collapsed": false,
    "scrolled": true
   },
   "outputs": [
    {
     "name": "stdout",
     "output_type": "stream",
     "text": [
      "\n",
      "Call:\n",
      "lm(formula = fs$salary ~ fs$years + fs$pubs + fs$age)\n",
      "\n",
      "Residuals:\n",
      "   Min     1Q Median     3Q    Max \n",
      "-70488 -14268   2502  13233  70413 \n",
      "\n",
      "Coefficients:\n",
      "            Estimate Std. Error t value Pr(>|t|)    \n",
      "(Intercept)  51538.4    13726.9   3.755 0.000298 ***\n",
      "fs$years      1210.0      436.5   2.772 0.006691 ** \n",
      "fs$pubs        618.9      126.5   4.894 3.98e-06 ***\n",
      "fs$age         227.2      355.6   0.639 0.524444    \n",
      "---\n",
      "Signif. codes:  0 '***' 0.001 '**' 0.01 '*' 0.05 '.' 0.1 ' ' 1\n",
      "\n",
      "Residual standard error: 27010 on 96 degrees of freedom\n",
      "Multiple R-squared:  0.5471,\tAdjusted R-squared:  0.5329 \n",
      "F-statistic: 38.65 on 3 and 96 DF,  p-value: < 2.2e-16\n",
      "\n"
     ]
    }
   ],
   "source": [
    "#adding more predictors might not be useful\n",
    "model_3 <- lm(fs$salary ~ fs$years + fs$pubs + fs$age)\n",
    "print(summary(model_3))\n",
    "#observe large p-value near age predictor\n",
    "#and the r-squared is only marginally increased\n",
    "#-> coefficient for age tends to be insignificant"
   ]
  },
  {
   "cell_type": "markdown",
   "metadata": {},
   "source": [
    "#### the most significant predictor is a predictor with the biggest z-scaled coefficient"
   ]
  },
  {
   "cell_type": "code",
   "execution_count": 16,
   "metadata": {
    "collapsed": false
   },
   "outputs": [
    {
     "data": {
      "text/plain": [
       "\n",
       "Call:\n",
       "lm(formula = scale(fs$salary) ~ scale(fs$years) + scale(fs$pubs))\n",
       "\n",
       "Residuals:\n",
       "     Min       1Q   Median       3Q      Max \n",
       "-1.71616 -0.36910  0.05975  0.33795  1.76115 \n",
       "\n",
       "Coefficients:\n",
       "                 Estimate Std. Error t value Pr(>|t|)    \n",
       "(Intercept)     6.444e-16  6.814e-02   0.000 1.000000    \n",
       "scale(fs$years) 3.227e-01  9.342e-02   3.455 0.000819 ***\n",
       "scale(fs$pubs)  4.799e-01  9.342e-02   5.137 1.44e-06 ***\n",
       "---\n",
       "Signif. codes:  0 '***' 0.001 '**' 0.01 '*' 0.05 '.' 0.1 ' ' 1\n",
       "\n",
       "Residual standard error: 0.6814 on 97 degrees of freedom\n",
       "Multiple R-squared:  0.5451,\tAdjusted R-squared:  0.5357 \n",
       "F-statistic: 58.12 on 2 and 97 DF,  p-value: < 2.2e-16\n"
      ]
     },
     "metadata": {},
     "output_type": "display_data"
    }
   ],
   "source": [
    "z_model_2<-lm(scale(fs$salary) ~ scale(fs$years) + scale(fs$pubs) )\n",
    "summary(z_model_2) # it is fs$pus"
   ]
  },
  {
   "cell_type": "markdown",
   "metadata": {},
   "source": [
    "## Correlation matrix \n",
    "\n",
    "It can be computed in matrix multiplication as \n",
    "\n",
    "$$ R_{XX} = (SD_{XX})^-1 C_{XX} (SD_{XX})^-1 $$\n",
    "where $SD_{XX}$ is a matrix of standard deviations  on diagonal  and $C_{XX}$ is a variance-covariance matrix\n",
    "\n",
    "Example of explicit calculation below"
   ]
  },
  {
   "cell_type": "code",
   "execution_count": 2,
   "metadata": {
    "collapsed": false
   },
   "outputs": [
    {
     "name": "stderr",
     "output_type": "stream",
     "text": [
      "Warning message:\n",
      "In cbind(col1, col2, col3): number of rows of result is not a multiple of vector length (arg 1)"
     ]
    },
    {
     "data": {
      "text/html": [
       "<table>\n",
       "<thead><tr><th scope=col>col1</th><th scope=col>col2</th><th scope=col>col3</th></tr></thead>\n",
       "<tbody>\n",
       "\t<tr><td>3</td><td>2</td><td>3</td></tr>\n",
       "\t<tr><td>3</td><td>2</td><td>3</td></tr>\n",
       "\t<tr><td>2</td><td>4</td><td>4</td></tr>\n",
       "\t<tr><td>4</td><td>3</td><td>4</td></tr>\n",
       "\t<tr><td>4</td><td>4</td><td>3</td></tr>\n",
       "\t<tr><td>5</td><td>4</td><td>3</td></tr>\n",
       "\t<tr><td>2</td><td>5</td><td>4</td></tr>\n",
       "\t<tr><td>3</td><td>3</td><td>2</td></tr>\n",
       "\t<tr><td>5</td><td>3</td><td>4</td></tr>\n",
       "\t<tr><td>3</td><td>5</td><td>4</td></tr>\n",
       "</tbody>\n",
       "</table>\n"
      ],
      "text/latex": [
       "\\begin{tabular}{lll}\n",
       " col1 & col2 & col3\\\\\n",
       "\\hline\n",
       "\t 3 & 2 & 3\\\\\n",
       "\t 3 & 2 & 3\\\\\n",
       "\t 2 & 4 & 4\\\\\n",
       "\t 4 & 3 & 4\\\\\n",
       "\t 4 & 4 & 3\\\\\n",
       "\t 5 & 4 & 3\\\\\n",
       "\t 2 & 5 & 4\\\\\n",
       "\t 3 & 3 & 2\\\\\n",
       "\t 5 & 3 & 4\\\\\n",
       "\t 3 & 5 & 4\\\\\n",
       "\\end{tabular}\n"
      ],
      "text/markdown": [
       "1. 3\n",
       "2. 3\n",
       "3. 2\n",
       "4. 4\n",
       "5. 4\n",
       "6. 5\n",
       "7. 2\n",
       "8. 3\n",
       "9. 5\n",
       "10. 3\n",
       "11. 2\n",
       "12. 2\n",
       "13. 4\n",
       "14. 3\n",
       "15. 4\n",
       "16. 4\n",
       "17. 5\n",
       "18. 3\n",
       "19. 3\n",
       "20. 5\n",
       "21. 3\n",
       "22. 3\n",
       "23. 4\n",
       "24. 4\n",
       "25. 3\n",
       "26. 3\n",
       "27. 4\n",
       "28. 2\n",
       "29. 4\n",
       "30. 4\n",
       "\n",
       "\n"
      ],
      "text/plain": [
       "      col1 col2 col3\n",
       " [1,]    3    2    3\n",
       " [2,]    3    2    3\n",
       " [3,]    2    4    4\n",
       " [4,]    4    3    4\n",
       " [5,]    4    4    3\n",
       " [6,]    5    4    3\n",
       " [7,]    2    5    4\n",
       " [8,]    3    3    2\n",
       " [9,]    5    3    4\n",
       "[10,]    3    5    4"
      ]
     },
     "metadata": {},
     "output_type": "display_data"
    }
   ],
   "source": [
    "#example matrix input\n",
    "col1<-c(3,3,2,4,4,5,2,3,5)\n",
    "col2<-c(2,2,4,3,4,4,5,3,3,5)\n",
    "col3<-c(3,3,4,4,3,3,4,2,4,4)\n",
    "X <- cbind(col1,col2,col3)\n",
    "X"
   ]
  },
  {
   "cell_type": "code",
   "execution_count": 3,
   "metadata": {
    "collapsed": false
   },
   "outputs": [
    {
     "data": {
      "text/html": [
       "<table>\n",
       "<thead><tr><th scope=col>col1</th><th scope=col>col2</th><th scope=col>col3</th></tr></thead>\n",
       "<tbody>\n",
       "\t<tr><td>34</td><td>35</td><td>34</td></tr>\n",
       "</tbody>\n",
       "</table>\n"
      ],
      "text/latex": [
       "\\begin{tabular}{lll}\n",
       " col1 & col2 & col3\\\\\n",
       "\\hline\n",
       "\t 34 & 35 & 34\\\\\n",
       "\\end{tabular}\n"
      ],
      "text/markdown": [
       "1. 34\n",
       "2. 35\n",
       "3. 34\n",
       "\n",
       "\n"
      ],
      "text/plain": [
       "     col1 col2 col3\n",
       "[1,]   34   35   34"
      ]
     },
     "metadata": {},
     "output_type": "display_data"
    }
   ],
   "source": [
    "#identity matrix\n",
    "n<-nrow(X) # number of observations per column, 10\n",
    "I<-matrix(1,10,1)\n",
    "#matrix of sum of columns\n",
    "t_mat <- t(I) %*% X \n",
    "t_mat"
   ]
  },
  {
   "cell_type": "code",
   "execution_count": 5,
   "metadata": {
    "collapsed": false
   },
   "outputs": [
    {
     "data": {
      "text/html": [
       "<table>\n",
       "<thead><tr><th scope=col>col1</th><th scope=col>col2</th><th scope=col>col3</th></tr></thead>\n",
       "<tbody>\n",
       "\t<tr><td>3.4</td><td>3.5</td><td>3.4</td></tr>\n",
       "</tbody>\n",
       "</table>\n"
      ],
      "text/latex": [
       "\\begin{tabular}{lll}\n",
       " col1 & col2 & col3\\\\\n",
       "\\hline\n",
       "\t 3.4 & 3.5 & 3.4\\\\\n",
       "\\end{tabular}\n"
      ],
      "text/markdown": [
       "1. 3.4\n",
       "2. 3.5\n",
       "3. 3.4\n",
       "\n",
       "\n"
      ],
      "text/plain": [
       "     col1 col2 col3\n",
       "[1,]  3.4  3.5  3.4"
      ]
     },
     "metadata": {},
     "output_type": "display_data"
    }
   ],
   "source": [
    "#vector of means\n",
    "M <- t_mat * n^-1\n",
    "M"
   ]
  },
  {
   "cell_type": "code",
   "execution_count": 6,
   "metadata": {
    "collapsed": false
   },
   "outputs": [
    {
     "data": {
      "text/html": [
       "<table>\n",
       "<thead><tr><th scope=col>col1</th><th scope=col>col2</th><th scope=col>col3</th></tr></thead>\n",
       "<tbody>\n",
       "\t<tr><td>3.4</td><td>3.5</td><td>3.4</td></tr>\n",
       "\t<tr><td>3.4</td><td>3.5</td><td>3.4</td></tr>\n",
       "\t<tr><td>3.4</td><td>3.5</td><td>3.4</td></tr>\n",
       "\t<tr><td>3.4</td><td>3.5</td><td>3.4</td></tr>\n",
       "\t<tr><td>3.4</td><td>3.5</td><td>3.4</td></tr>\n",
       "\t<tr><td>3.4</td><td>3.5</td><td>3.4</td></tr>\n",
       "\t<tr><td>3.4</td><td>3.5</td><td>3.4</td></tr>\n",
       "\t<tr><td>3.4</td><td>3.5</td><td>3.4</td></tr>\n",
       "\t<tr><td>3.4</td><td>3.5</td><td>3.4</td></tr>\n",
       "\t<tr><td>3.4</td><td>3.5</td><td>3.4</td></tr>\n",
       "</tbody>\n",
       "</table>\n"
      ],
      "text/latex": [
       "\\begin{tabular}{lll}\n",
       " col1 & col2 & col3\\\\\n",
       "\\hline\n",
       "\t 3.4 & 3.5 & 3.4\\\\\n",
       "\t 3.4 & 3.5 & 3.4\\\\\n",
       "\t 3.4 & 3.5 & 3.4\\\\\n",
       "\t 3.4 & 3.5 & 3.4\\\\\n",
       "\t 3.4 & 3.5 & 3.4\\\\\n",
       "\t 3.4 & 3.5 & 3.4\\\\\n",
       "\t 3.4 & 3.5 & 3.4\\\\\n",
       "\t 3.4 & 3.5 & 3.4\\\\\n",
       "\t 3.4 & 3.5 & 3.4\\\\\n",
       "\t 3.4 & 3.5 & 3.4\\\\\n",
       "\\end{tabular}\n"
      ],
      "text/markdown": [
       "1. 3.4\n",
       "2. 3.4\n",
       "3. 3.4\n",
       "4. 3.4\n",
       "5. 3.4\n",
       "6. 3.4\n",
       "7. 3.4\n",
       "8. 3.4\n",
       "9. 3.4\n",
       "10. 3.4\n",
       "11. 3.5\n",
       "12. 3.5\n",
       "13. 3.5\n",
       "14. 3.5\n",
       "15. 3.5\n",
       "16. 3.5\n",
       "17. 3.5\n",
       "18. 3.5\n",
       "19. 3.5\n",
       "20. 3.5\n",
       "21. 3.4\n",
       "22. 3.4\n",
       "23. 3.4\n",
       "24. 3.4\n",
       "25. 3.4\n",
       "26. 3.4\n",
       "27. 3.4\n",
       "28. 3.4\n",
       "29. 3.4\n",
       "30. 3.4\n",
       "\n",
       "\n"
      ],
      "text/plain": [
       "      col1 col2 col3\n",
       " [1,]  3.4  3.5  3.4\n",
       " [2,]  3.4  3.5  3.4\n",
       " [3,]  3.4  3.5  3.4\n",
       " [4,]  3.4  3.5  3.4\n",
       " [5,]  3.4  3.5  3.4\n",
       " [6,]  3.4  3.5  3.4\n",
       " [7,]  3.4  3.5  3.4\n",
       " [8,]  3.4  3.5  3.4\n",
       " [9,]  3.4  3.5  3.4\n",
       "[10,]  3.4  3.5  3.4"
      ]
     },
     "metadata": {},
     "output_type": "display_data"
    }
   ],
   "source": [
    "##matrix of means (10,x)\n",
    "MM <- matrix(1,10,1) %*% M \n",
    "MM"
   ]
  },
  {
   "cell_type": "code",
   "execution_count": 9,
   "metadata": {
    "collapsed": true
   },
   "outputs": [],
   "source": [
    "#matrix of deviations\n",
    "D <- X - MM "
   ]
  },
  {
   "cell_type": "code",
   "execution_count": 11,
   "metadata": {
    "collapsed": true
   },
   "outputs": [],
   "source": [
    "#matrix of sum of squares and sum of cross products\n",
    "S <- t(D) %*% D "
   ]
  },
  {
   "cell_type": "code",
   "execution_count": 13,
   "metadata": {
    "collapsed": false
   },
   "outputs": [
    {
     "data": {
      "text/html": [
       "<table>\n",
       "<thead><tr><th></th><th scope=col>col1</th><th scope=col>col2</th><th scope=col>col3</th></tr></thead>\n",
       "<tbody>\n",
       "\t<tr><th scope=row>col1</th><td> 1.04</td><td>-0.20</td><td>-0.06</td></tr>\n",
       "\t<tr><th scope=row>col2</th><td>-0.20</td><td> 1.05</td><td> 0.30</td></tr>\n",
       "\t<tr><th scope=row>col3</th><td>-0.06</td><td> 0.30</td><td> 0.44</td></tr>\n",
       "</tbody>\n",
       "</table>\n"
      ],
      "text/latex": [
       "\\begin{tabular}{r|lll}\n",
       "  & col1 & col2 & col3\\\\\n",
       "\\hline\n",
       "\tcol1 &  1.04 & -0.20 & -0.06\\\\\n",
       "\tcol2 & -0.20 &  1.05 &  0.30\\\\\n",
       "\tcol3 & -0.06 &  0.30 &  0.44\\\\\n",
       "\\end{tabular}\n"
      ],
      "text/markdown": [
       "1. 1.04\n",
       "2. -0.2\n",
       "3. -0.06\n",
       "4. -0.2\n",
       "5. 1.05\n",
       "6. 0.3\n",
       "7. -0.06\n",
       "8. 0.3\n",
       "9. 0.44\n",
       "\n",
       "\n"
      ],
      "text/plain": [
       "      col1  col2  col3\n",
       "col1  1.04 -0.20 -0.06\n",
       "col2 -0.20  1.05  0.30\n",
       "col3 -0.06  0.30  0.44"
      ]
     },
     "metadata": {},
     "output_type": "display_data"
    }
   ],
   "source": [
    "#variance-covariance matrix\n",
    "C <- S * n^-1 #variance on diagnoal, cov off-diagonal\n"
   ]
  },
  {
   "cell_type": "code",
   "execution_count": 15,
   "metadata": {
    "collapsed": false
   },
   "outputs": [
    {
     "data": {
      "text/html": [
       "<table>\n",
       "<tbody>\n",
       "\t<tr><td>1.019804</td><td>0.000000</td><td>0.000000</td></tr>\n",
       "\t<tr><td>0.000000</td><td>1.024695</td><td>0.000000</td></tr>\n",
       "\t<tr><td>0.000000</td><td>0.000000</td><td>0.663325</td></tr>\n",
       "</tbody>\n",
       "</table>\n"
      ],
      "text/latex": [
       "\\begin{tabular}{lll}\n",
       "\t 1.019804 & 0.000000 & 0.000000\\\\\n",
       "\t 0.000000 & 1.024695 & 0.000000\\\\\n",
       "\t 0.000000 & 0.000000 & 0.663325\\\\\n",
       "\\end{tabular}\n"
      ],
      "text/markdown": [
       "1. 1.01980390271856\n",
       "2. 0\n",
       "3. 0\n",
       "4. 0\n",
       "5. 1.02469507659596\n",
       "6. 0\n",
       "7. 0\n",
       "8. 0\n",
       "9. 0.66332495807108\n",
       "\n",
       "\n"
      ],
      "text/plain": [
       "         [,1]     [,2]     [,3]\n",
       "[1,] 1.019804 0.000000 0.000000\n",
       "[2,] 0.000000 1.024695 0.000000\n",
       "[3,] 0.000000 0.000000 0.663325"
      ]
     },
     "metadata": {},
     "output_type": "display_data"
    }
   ],
   "source": [
    "#standard deviation diagonal matrix (sd on diagonal, zeros off diagonal)\n",
    "SD <- diag( diag(C)^0.5,  nrow=3,ncol=3)\n",
    "SD # note that SD is symmetric,  i.e. t(SD) = SD"
   ]
  },
  {
   "cell_type": "code",
   "execution_count": 17,
   "metadata": {
    "collapsed": false
   },
   "outputs": [
    {
     "data": {
      "text/html": [
       "<table>\n",
       "<tbody>\n",
       "\t<tr><td> 1.00000000</td><td>-0.19138975</td><td>-0.08869686</td></tr>\n",
       "\t<tr><td>-0.1913898</td><td> 1.0000000</td><td> 0.4413674</td></tr>\n",
       "\t<tr><td>-0.08869686</td><td> 0.44136741</td><td> 1.00000000</td></tr>\n",
       "</tbody>\n",
       "</table>\n"
      ],
      "text/latex": [
       "\\begin{tabular}{lll}\n",
       "\t  1.00000000 & -0.19138975 & -0.08869686\\\\\n",
       "\t -0.1913898 &  1.0000000 &  0.4413674\\\\\n",
       "\t -0.08869686 &  0.44136741 &  1.00000000\\\\\n",
       "\\end{tabular}\n"
      ],
      "text/markdown": [
       "1. 1\n",
       "2. -0.191389750587738\n",
       "3. -0.0886968593983625\n",
       "4. -0.191389750587738\n",
       "5. 1\n",
       "6. 0.441367414752375\n",
       "7. -0.0886968593983625\n",
       "8. 0.441367414752375\n",
       "9. 1\n",
       "\n",
       "\n"
      ],
      "text/plain": [
       "            [,1]       [,2]        [,3]\n",
       "[1,]  1.00000000 -0.1913898 -0.08869686\n",
       "[2,] -0.19138975  1.0000000  0.44136741\n",
       "[3,] -0.08869686  0.4413674  1.00000000"
      ]
     },
     "metadata": {},
     "output_type": "display_data"
    }
   ],
   "source": [
    "#correlation matrix \n",
    "R <- solve(SD) %*% C %*% solve(SD)  #solve(SD) is inverse of SD\n",
    "R"
   ]
  }
 ],
 "metadata": {
  "kernelspec": {
   "display_name": "R",
   "language": "R",
   "name": "ir"
  },
  "language_info": {
   "codemirror_mode": "r",
   "file_extension": ".r",
   "mimetype": "text/x-r-source",
   "name": "R",
   "pygments_lexer": "r",
   "version": "3.3.0"
  }
 },
 "nbformat": 4,
 "nbformat_minor": 0
}

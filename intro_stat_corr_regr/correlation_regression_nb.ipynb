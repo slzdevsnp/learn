{
 "cells": [
  {
   "cell_type": "markdown",
   "metadata": {},
   "source": [
    "# Correlation\n",
    "\n",
    "*  r coefficient the degree to which X and Y vary together, relative to the degree to which X and Y vary independently\n",
    "\n",
    "* r = covariance(X,Y) / Variance(X,Y)\n",
    "\n",
    "$$ r = \\frac{cov(A,B)}{\\sigma_A * \\sigma_B} $$\n",
    "where $S_A$ and $S_B$ are standard deviations of X and Y\n",
    "\n",
    "$$\\sigma(X) = \\sqrt{\\frac{\\sum(x_i - \\bar{x})^2}{N-1}}$$\n",
    "\n",
    "$$cov(X,Y) = \\frac{\\sum(x_i-\\bar{x})(y_i-\\bar{y})}{N-1}$$ where N is a length of X and Y vector"
   ]
  },
  {
   "cell_type": "code",
   "execution_count": 7,
   "metadata": {
    "collapsed": false
   },
   "outputs": [
    {
     "data": {
      "text/html": [
       "2"
      ],
      "text/latex": [
       "2"
      ],
      "text/markdown": [
       "2"
      ],
      "text/plain": [
       "[1] 2"
      ]
     },
     "metadata": {},
     "output_type": "display_data"
    }
   ],
   "source": [
    "## calculations on simplest data\n",
    "A <- 1:3\n",
    "B <- c(3,6,7)\n",
    "diff_A <- A - mean(A)\n",
    "diff_B <- B - mean(B)\n",
    "\n",
    "covar <- sum ( diff_A * diff_B ) / (length(A)-1)\n",
    "covar"
   ]
  },
  {
   "cell_type": "code",
   "execution_count": 8,
   "metadata": {
    "collapsed": false
   },
   "outputs": [
    {
     "data": {
      "text/html": [
       "0.960768922830523"
      ],
      "text/latex": [
       "0.960768922830523"
      ],
      "text/markdown": [
       "0.960768922830523"
      ],
      "text/plain": [
       "[1] 0.9607689"
      ]
     },
     "metadata": {},
     "output_type": "display_data"
    }
   ],
   "source": [
    "sd_A <- sqrt(sum(diff_A^2)/(length(diff_A)-1))\n",
    "sd_B <- sqrt(sum(diff_B^2)/(length(diff_B)-1))\n",
    "correlation <- covar / (sd_A * sd_B)\n",
    "correlation"
   ]
  },
  {
   "cell_type": "code",
   "execution_count": 9,
   "metadata": {
    "collapsed": false
   },
   "outputs": [
    {
     "data": {
      "text/html": [
       "0.960768922830523"
      ],
      "text/latex": [
       "0.960768922830523"
      ],
      "text/markdown": [
       "0.960768922830523"
      ],
      "text/plain": [
       "[1] 0.9607689"
      ]
     },
     "metadata": {},
     "output_type": "display_data"
    }
   ],
   "source": [
    "##using R cor function\n",
    "cor(A,B)"
   ]
  },
  {
   "cell_type": "markdown",
   "metadata": {},
   "source": [
    "Correlation values: \n",
    "* 1  X,Y  perfectly correlated\n",
    "* -1, X,Y  perfectly negatively correlated\n",
    "* 0   X,Y  uncorrelated"
   ]
  },
  {
   "cell_type": "markdown",
   "metadata": {},
   "source": [
    "### data exploratory analsys\n",
    "\n",
    "dataset of individuals who have been exercising. They are of difference age, with different number of years exercising, their endurance is measured"
   ]
  },
  {
   "cell_type": "code",
   "execution_count": 10,
   "metadata": {
    "collapsed": true
   },
   "outputs": [],
   "source": [
    "#load data \n",
    "PE<-read.csv(file=\"health.csv\",header=T)"
   ]
  },
  {
   "cell_type": "code",
   "execution_count": 11,
   "metadata": {
    "collapsed": false
   },
   "outputs": [
    {
     "name": "stdout",
     "output_type": "stream",
     "text": [
      "'data.frame':\t200 obs. of  4 variables:\n",
      " $ pid        : int  1 2 3 4 5 6 7 8 9 10 ...\n",
      " $ age        : int  60 40 29 47 48 42 55 43 39 51 ...\n",
      " $ activeyears: int  10 9 2 10 9 6 8 19 9 14 ...\n",
      " $ endurance  : int  18 36 51 18 23 30 8 40 28 15 ...\n"
     ]
    },
    {
     "data": {
      "text/html": [
       "<table>\n",
       "<thead><tr><th></th><th scope=col>pid</th><th scope=col>age</th><th scope=col>activeyears</th><th scope=col>endurance</th></tr></thead>\n",
       "<tbody>\n",
       "\t<tr><th scope=row>1</th><td> 1</td><td>60</td><td>10</td><td>18</td></tr>\n",
       "\t<tr><th scope=row>2</th><td> 2</td><td>40</td><td> 9</td><td>36</td></tr>\n",
       "\t<tr><th scope=row>3</th><td> 3</td><td>29</td><td> 2</td><td>51</td></tr>\n",
       "\t<tr><th scope=row>4</th><td> 4</td><td>47</td><td>10</td><td>18</td></tr>\n",
       "\t<tr><th scope=row>5</th><td> 5</td><td>48</td><td> 9</td><td>23</td></tr>\n",
       "\t<tr><th scope=row>6</th><td> 6</td><td>42</td><td> 6</td><td>30</td></tr>\n",
       "</tbody>\n",
       "</table>\n"
      ],
      "text/latex": [
       "\\begin{tabular}{r|llll}\n",
       "  & pid & age & activeyears & endurance\\\\\n",
       "\\hline\n",
       "\t1 &  1 & 60 & 10 & 18\\\\\n",
       "\t2 &  2 & 40 &  9 & 36\\\\\n",
       "\t3 &  3 & 29 &  2 & 51\\\\\n",
       "\t4 &  4 & 47 & 10 & 18\\\\\n",
       "\t5 &  5 & 48 &  9 & 23\\\\\n",
       "\t6 &  6 & 42 &  6 & 30\\\\\n",
       "\\end{tabular}\n"
      ],
      "text/plain": [
       "  pid age activeyears endurance\n",
       "1   1  60          10        18\n",
       "2   2  40           9        36\n",
       "3   3  29           2        51\n",
       "4   4  47          10        18\n",
       "5   5  48           9        23\n",
       "6   6  42           6        30"
      ]
     },
     "metadata": {},
     "output_type": "display_data"
    }
   ],
   "source": [
    "str(PE)\n",
    "head(PE)"
   ]
  },
  {
   "cell_type": "code",
   "execution_count": 12,
   "metadata": {
    "collapsed": false
   },
   "outputs": [
    {
     "data": {
      "image/png": "[encoded data removed]",
      "text/plain": [
       "plot without title"
      ]
     },
     "metadata": {
      "image/svg+xml": {
       "isolated": true
      }
     },
     "output_type": "display_data"
    }
   ],
   "source": [
    "##show scatter plots of varianles except pid\n",
    "par(mfrow=c(3,1))\n",
    "plot(PE$age~PE$activeyears)\n",
    "plot(PE$endurance~PE$activeyears)\n",
    "plot(PE$endurance~PE$age)\n",
    "par(mfrow=c(1,1))"
   ]
  },
  {
   "cell_type": "code",
   "execution_count": 13,
   "metadata": {
    "collapsed": false
   },
   "outputs": [
    {
     "name": "stdout",
     "output_type": "stream",
     "text": [
      "              age activeyears endurance\n",
      "age          1.00        0.33     -0.08\n",
      "activeyears  0.33        1.00      0.33\n",
      "endurance   -0.08        0.33      1.00\n"
     ]
    }
   ],
   "source": [
    "#compute correlation rounded to 2 digits of PE variables except pid\n",
    "print(round(cor(PE[,2:4]), 2))"
   ]
  },
  {
   "cell_type": "code",
   "execution_count": 14,
   "metadata": {
    "collapsed": false
   },
   "outputs": [
    {
     "data": {
      "text/plain": [
       "\n",
       "\tPearson's product-moment correlation\n",
       "\n",
       "data:  PE$age and PE$activeyears\n",
       "t = 4.9022, df = 198, p-value = 1.969e-06\n",
       "alternative hypothesis: true correlation is not equal to 0\n",
       "95 percent confidence interval:\n",
       " 0.1993491 0.4473145\n",
       "sample estimates:\n",
       "      cor \n",
       "0.3289909 \n"
      ]
     },
     "metadata": {},
     "output_type": "display_data"
    },
    {
     "data": {
      "text/plain": [
       "\n",
       "\tPearson's product-moment correlation\n",
       "\n",
       "data:  PE$age and PE$endurance\n",
       "t = -1.1981, df = 198, p-value = 0.2323\n",
       "alternative hypothesis: true correlation is not equal to 0\n",
       "95 percent confidence interval:\n",
       " -0.22097811  0.05454491\n",
       "sample estimates:\n",
       "        cor \n",
       "-0.08483813 \n"
      ]
     },
     "metadata": {},
     "output_type": "display_data"
    },
    {
     "data": {
      "text/plain": [
       "\n",
       "\tPearson's product-moment correlation\n",
       "\n",
       "data:  PE$endurance and PE$activeyears\n",
       "t = 4.8613, df = 198, p-value = 2.37e-06\n",
       "alternative hypothesis: true correlation is not equal to 0\n",
       "95 percent confidence interval:\n",
       " 0.1967110 0.4451154\n",
       "sample estimates:\n",
       "      cor \n",
       "0.3265402 \n"
      ]
     },
     "metadata": {},
     "output_type": "display_data"
    }
   ],
   "source": [
    "cor.test(PE$age, PE$activeyears)\n",
    "cor.test(PE$age, PE$endurance)  # p-value shows that these are not correlated\n",
    "cor.test(PE$endurance, PE$activeyears)"
   ]
  },
  {
   "cell_type": "markdown",
   "metadata": {},
   "source": [
    "### correlation does not imply causation\n",
    "\n",
    " * the two variables are just related\n",
    " \n",
    " * i.e sleeping in boots is correlated to having a headache next morning. But does not cause it.  the probable cause is getting drunk\n",
    " \n",
    " The magnitude of a correlation is influenced by:\n",
    "* measurement of x & y\n",
    "* several other assumptions\n",
    "     \n",
    "Random and representative sampling\n",
    "\n",
    "* measure IQ in a sample of general population vs measure IQ in a sample of colledge graduates\n",
    "    * restricting a sample to specific group decreases its variance\n",
    "    \n",
    "#### a correlation coefficient is a sample statistics ( just like the mean)\n",
    "* It may not be representative of all subjects in the sample "
   ]
  },
  {
   "cell_type": "markdown",
   "metadata": {},
   "source": [
    "#### impact dataset\n",
    "\n",
    "This dataset investigates the effects of a sports-related concussion and involves the survey data of a control group and a group of athletes who suffered from a concussion. We are interested in the following variables of the dataset:\n",
    "\n",
    "* vermem2: verbal memory after impact,\n",
    "* vismem2: visual memory after impact,\n",
    "* vms2: visual motor Speed after impact,\n",
    "* rt2: reaction time after impact,\n",
    "* ic2: impulse control after impact, and\n",
    "* sym2: symptom score after impact.\n"
   ]
  },
  {
   "cell_type": "code",
   "execution_count": 15,
   "metadata": {
    "collapsed": false
   },
   "outputs": [],
   "source": [
    "#create impact dataset\n",
    "subject<-1:40\n",
    "condition<-c('control','control','control','control','control','control','control','control','control','control','control','control','control','control','control','control','control','control','control','control','concussed','concussed','concussed','concussed','concussed','concussed','concussed','concussed','concussed','concussed','concussed','concussed','concussed','concussed','concussed','concussed','concussed','concussed','concussed','concussed')\n",
    "vermem1<-c(95,90,87,84,92,89,78,97,93,90,89,97,79,86,85,85,98,95,96,92,79,85,97,89,75,75,84,93,88,97,93,96,84,89,95,95,97,95,92,95)\n",
    "vismem1<-c(88,82,77,72,77,79,63,82,85,66,76,79,60,59,60,76,85,83,67,84,81,85,91,74,63,68,78,74,80,73,74,70,81,72,90,74,70,63,65,69)\n",
    "vms1 <- c(35.29,31.47,30.87,41.87,33.28,40.73,38.09,31.65,39.59,30.53,33.65,37.51,40.39,32.88,33.39,35.13,38.51,29.64,35.32,27.36,27.19,32.66,26.29,28.92,32.77,32.92,34.26,36.08,31.63,28.89,35.81,33.61,34.46,39.18,33.14,33.03,39.01,35.06,30.58,38.45)\n",
    "rt1 <- c(0.42,0.63,0.56,0.66,0.56,0.81,0.66,0.79,0.68,0.6,0.74,0.51,0.82,0.59,0.82,0.63,0.73,0.57,0.65,1,0.57,0.71,0.82,0.61,0.72,0.5,0.54,0.65,0.66,0.71,0.55,0.79,0.48,0.55,1.2,0.73,0.6,0.84,0.6,0.42)\n",
    "ic1 <- c(11,7,8,7,7,6,6,10,7,10,7,7,12,2,9,10,10,8,5,11,7,9,9,9,8,9,6,10,9,7,9,7,7,10,10,11,10,5,8,11)\n",
    "sym1 <-c(0,0,0,0,1,0,0,0,0,0,0,0,0,0,0,0,0,0,0,0,0,0,0,0,0,0,0,0,0,0,0,0,0,0,0,1,0,0,0,0)\n",
    "vermem2 <-c(97,86,90,85,87,91,90,94,91,93,92,89,84,81,85,87,96,93,95,93,63,79,91,85,74,72,80,59,75,90,66,85,72,82,80,59,74,62,67,66)\n",
    "vismem2 <-c(86,80,79,70,77,85,60,72,83,68,72,79,67,71,61,72,78,85,67,80,75,79,80,72,56,66,74,69,79,73,69,61,79,66,80,70,62,54,57,63)\n",
    "vms2 <- c(35.61,37.01,20.15,33.26,28.34,33.47,44.28,36.14,37.42,25.19,23.63,26.32,43.7,32.4,39.32,35.62,39.95,35.62,30.21,30.37,29.23,44.45,26.12,27.98,60.77,31.91,49.62,35.68,55.67,25.7,35.21,33.01,37.46,53.2,33.2,34.59,39.66,35.09,32.3,44.49)\n",
    "rt2 <- c(0.65,0.49,0.75,0.19,0.59,0.48,0.77,0.9,0.65,0.59,0.55,0.56,0.57,0.69,0.73,0.48,0.43,0.37,0.47,0.5,0.61,0.65,1.12,0.65,0.71,0.79,0.64,0.7,0.68,0.73,0.58,0.97,0.56,0.51,1.3,0.7,0.74,1.24,0.65,0.98)\n",
    "ic2 <- c(10,7,9,8,8,5,6,10,8,11,9,9,10,3,10,12,10,9,5,11,3,6,5,5,1,9,7,11,6,3,4,3,1,7,7,4,5,2,6,5)\n",
    "sym2 <-c(0,0,0,0,1,0,0,0,0,0,0,1,0,0,0,0,0,0,0,0,26,34,27,22,26,35,43,31,39,25,31,38,14,16,33,13,27,15,19,39)\n",
    "impact<-data.frame(subject=subject,condition=factor(condition)\n",
    "\t\t\t\t  ,vermem1=vermem1,vismem1=vismem1,vms1=vms1,rt1=rt1, ic1=ic1,sym1=sym1\n",
    "\t\t\t\t  ,vermem2=vermem2,vismem2=vismem2,vms2=vms2,rt2=rt2, ic2=ic2,sym2=sym1)\n"
   ]
  },
  {
   "cell_type": "code",
   "execution_count": 16,
   "metadata": {
    "collapsed": false,
    "scrolled": true
   },
   "outputs": [
    {
     "data": {
      "text/html": [
       "<table>\n",
       "<thead><tr><th></th><th scope=col>vermem2</th><th scope=col>vismem2</th><th scope=col>vms2</th><th scope=col>rt2</th><th scope=col>ic2</th><th scope=col>sym2</th></tr></thead>\n",
       "<tbody>\n",
       "\t<tr><th scope=row>vermem2</th><td> 1.0000000</td><td> 0.4528920</td><td>-0.2571708</td><td>-0.2895234</td><td> 0.4580112</td><td>-0.1897135</td></tr>\n",
       "\t<tr><th scope=row>vismem2</th><td> 0.45289201</td><td> 1.00000000</td><td>-0.25522960</td><td>-0.28157802</td><td> 0.28736286</td><td> 0.04412874</td></tr>\n",
       "\t<tr><th scope=row>vms2</th><td>-0.25717077</td><td>-0.25522960</td><td> 1.00000000</td><td>-0.02093853</td><td>-0.17530134</td><td>-0.11714845</td></tr>\n",
       "\t<tr><th scope=row>rt2</th><td>-0.28952335</td><td>-0.28157802</td><td>-0.02093853</td><td> 1.00000000</td><td>-0.30311996</td><td>-0.02976620</td></tr>\n",
       "\t<tr><th scope=row>ic2</th><td> 0.45801116</td><td> 0.28736286</td><td>-0.17530134</td><td>-0.30311996</td><td> 1.00000000</td><td>-0.05854508</td></tr>\n",
       "\t<tr><th scope=row>sym2</th><td>-0.18971347</td><td> 0.04412874</td><td>-0.11714845</td><td>-0.02976620</td><td>-0.05854508</td><td> 1.00000000</td></tr>\n",
       "</tbody>\n",
       "</table>\n"
      ],
      "text/latex": [
       "\\begin{tabular}{r|llllll}\n",
       "  & vermem2 & vismem2 & vms2 & rt2 & ic2 & sym2\\\\\n",
       "\\hline\n",
       "\tvermem2 &  1.0000000 &  0.4528920 & -0.2571708 & -0.2895234 &  0.4580112 & -0.1897135\\\\\n",
       "\tvismem2 &  0.45289201 &  1.00000000 & -0.25522960 & -0.28157802 &  0.28736286 &  0.04412874\\\\\n",
       "\tvms2 & -0.25717077 & -0.25522960 &  1.00000000 & -0.02093853 & -0.17530134 & -0.11714845\\\\\n",
       "\trt2 & -0.28952335 & -0.28157802 & -0.02093853 &  1.00000000 & -0.30311996 & -0.02976620\\\\\n",
       "\tic2 &  0.45801116 &  0.28736286 & -0.17530134 & -0.30311996 &  1.00000000 & -0.05854508\\\\\n",
       "\tsym2 & -0.18971347 &  0.04412874 & -0.11714845 & -0.02976620 & -0.05854508 &  1.00000000\\\\\n",
       "\\end{tabular}\n"
      ],
      "text/markdown": [
       "1. 1\n",
       "2. 0.452892010038806\n",
       "3. -0.257170765761555\n",
       "4. -0.289523352138655\n",
       "5. 0.458011161816644\n",
       "6. -0.189713473824569\n",
       "7. 0.452892010038806\n",
       "8. 1\n",
       "9. -0.255229598067119\n",
       "10. -0.281578022018351\n",
       "11. 0.287362857173148\n",
       "12. 0.0441287389418322\n",
       "13. -0.257170765761555\n",
       "14. -0.255229598067119\n",
       "15. 1\n",
       "16. -0.020938529492394\n",
       "17. -0.175301339409082\n",
       "18. -0.117148449521513\n",
       "19. -0.289523352138655\n",
       "20. -0.281578022018351\n",
       "21. -0.020938529492394\n",
       "22. 1\n",
       "23. -0.303119961113359\n",
       "24. -0.0297662036783784\n",
       "25. 0.458011161816644\n",
       "26. 0.287362857173148\n",
       "27. -0.175301339409082\n",
       "28. -0.303119961113359\n",
       "29. 1\n",
       "30. -0.0585450839008735\n",
       "31. -0.189713473824569\n",
       "32. 0.0441287389418322\n",
       "33. -0.117148449521513\n",
       "34. -0.0297662036783784\n",
       "35. -0.0585450839008735\n",
       "36. 1\n",
       "\n",
       "\n"
      ],
      "text/plain": [
       "           vermem2     vismem2        vms2         rt2         ic2        sym2\n",
       "vermem2  1.0000000  0.45289201 -0.25717077 -0.28952335  0.45801116 -0.18971347\n",
       "vismem2  0.4528920  1.00000000 -0.25522960 -0.28157802  0.28736286  0.04412874\n",
       "vms2    -0.2571708 -0.25522960  1.00000000 -0.02093853 -0.17530134 -0.11714845\n",
       "rt2     -0.2895234 -0.28157802 -0.02093853  1.00000000 -0.30311996 -0.02976620\n",
       "ic2      0.4580112  0.28736286 -0.17530134 -0.30311996  1.00000000 -0.05854508\n",
       "sym2    -0.1897135  0.04412874 -0.11714845 -0.02976620 -0.05854508  1.00000000"
      ]
     },
     "metadata": {},
     "output_type": "display_data"
    }
   ],
   "source": [
    "# correlation matrix  for var2 group of variables\n",
    "correlations <-cor(impact[9:14])\n",
    "correlations"
   ]
  },
  {
   "cell_type": "markdown",
   "metadata": {},
   "source": [
    "### Regression equation\n",
    "\n",
    "$$Y = B_0 + B_1 * X_1 + \\epsilon$$ \n",
    "\n",
    "where $B_0$ is intercept, regression constant,  $B_1$ is a slow or regression coefficient and $\\epsilon$ is error or residual\n",
    "\n",
    "Regression model is characterized by model $R$ or $R^2$ coefficient  which  in order 1 is a correlation coefficient *r* seen earlier\n",
    "\n",
    "For mutliple regression  Y=f(X1,X2,..Xn)  r is a multiple correlation coefficient: the correlation between predicted scores and observed scores\n",
    "\n",
    "r squared is a percentage of variance in response Y explained by the model"
   ]
  },
  {
   "cell_type": "markdown",
   "metadata": {},
   "source": [
    "### formulas for  regression coefficients\n",
    "\n",
    "$$B_1 = r_{cor} * \\frac{\\sigma(Y)}{\\sigma(X)} $$\n",
    "\n",
    "$$B_0 = \\bar(Y) - B_1 * \\bar(X)$$  where $\\bar(Y)$ is a mean of Y"
   ]
  },
  {
   "cell_type": "code",
   "execution_count": 1,
   "metadata": {
    "collapsed": true
   },
   "outputs": [],
   "source": [
    "## so be it"
   ]
  }
 ],
 "metadata": {
  "kernelspec": {
   "display_name": "R",
   "language": "R",
   "name": "ir"
  },
  "language_info": {
   "codemirror_mode": "r",
   "file_extension": ".r",
   "mimetype": "text/x-r-source",
   "name": "R",
   "pygments_lexer": "r",
   "version": "3.3.0"
  }
 },
 "nbformat": 4,
 "nbformat_minor": 0
}
